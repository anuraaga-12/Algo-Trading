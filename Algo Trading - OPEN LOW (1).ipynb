{
 "cells": [
  {
   "cell_type": "code",
   "execution_count": 1,
   "id": "bdd6942e",
   "metadata": {},
   "outputs": [],
   "source": [
    "import yfinance as yf\n",
    "import pandas as pd"
   ]
  },
  {
   "cell_type": "code",
   "execution_count": 2,
   "id": "74b3e5f4",
   "metadata": {},
   "outputs": [
    {
     "name": "stdout",
     "output_type": "stream",
     "text": [
      "['ABB.NS', 'ACC.NS', 'AUBANK.NS', 'ABBOTINDIA.NS', 'ADANIENT.NS', 'ADANIGREEN.NS', 'ADANIPORTS.NS', 'ATGL.NS', 'ADANITRANS.NS', 'ABCAPITAL.NS', 'ABFRL.NS', 'APLLTD.NS', 'ALKEM.NS', 'AMBUJACEM.NS', 'APOLLOHOSP.NS', 'APOLLOTYRE.NS', 'ASHOKLEY.NS', 'ASIANPAINT.NS', 'ASTRAL.NS', 'AUROPHARMA.NS', 'DMART.NS', 'AXISBANK.NS', 'BAJAJ-AUTO.NS', 'BAJFINANCE.NS', 'BAJAJFINSV.NS', 'BAJAJHLDNG.NS', 'BALKRISIND.NS', 'BANDHANBNK.NS', 'BANKBARODA.NS', 'BANKINDIA.NS', 'BATAINDIA.NS', 'BERGEPAINT.NS', 'BEL.NS', 'BHARATFORG.NS', 'BHEL.NS', 'BPCL.NS', 'BHARTIARTL.NS', 'BIOCON.NS', 'BOSCHLTD.NS', 'BRITANNIA.NS', 'CANBK.NS', 'CHOLAFIN.NS', 'CIPLA.NS', 'CLEAN.NS', 'COALINDIA.NS', 'COFORGE.NS', 'COLPAL.NS', 'CONCOR.NS', 'COROMANDEL.NS', 'CROMPTON.NS', 'CUMMINSIND.NS', 'DLF.NS', 'DABUR.NS', 'DALBHARAT.NS', 'DEEPAKNTR.NS', 'DIVISLAB.NS', 'DIXON.NS', 'LALPATHLAB.NS', 'DRREDDY.NS', 'EICHERMOT.NS', 'EMAMILTD.NS', 'ESCORTS.NS', 'EXIDEIND.NS', 'NYKAA.NS', 'FEDERALBNK.NS', 'FORTIS.NS', 'GAIL.NS', 'GLAND.NS', 'GLENMARK.NS', 'GODREJCP.NS', 'GODREJPROP.NS', 'GRASIM.NS', 'GUJGASLTD.NS', 'GSPL.NS', 'HCLTECH.NS', 'HDFCAMC.NS', 'HDFCBANK.NS', 'HDFCLIFE.NS', 'HAVELLS.NS', 'HEROMOTOCO.NS', 'HINDALCO.NS', 'HAL.NS', 'HINDPETRO.NS', 'HINDUNILVR.NS', 'HINDZINC.NS', 'HONAUT.NS', 'HDFC.NS', 'ICICIBANK.NS', 'ICICIGI.NS', 'ICICIPRULI.NS', 'ISEC.NS', 'IDBI.NS', 'IDFCFIRSTB.NS', 'ITC.NS', 'INDIAMART.NS', 'INDIANB.NS', 'IEX.NS', 'INDHOTEL.NS', 'IOC.NS', 'IRCTC.NS', 'IGL.NS', 'INDUSTOWER.NS', 'INDUSINDBK.NS', 'NAUKRI.NS', 'INFY.NS', 'INDIGO.NS', 'IPCALAB.NS', 'JSWENERGY.NS', 'JSWSTEEL.NS', 'JINDALSTEL.NS', 'JUBLFOOD.NS', 'KOTAKBANK.NS', 'L&TFH.NS', 'LTTS.NS', 'LICHSGFIN.NS', 'LTI.NS', 'LT.NS', 'LAURUSLABS.NS', 'LUPIN.NS', 'MRF.NS', 'M&MFIN.NS', 'M&M.NS', 'MANAPPURAM.NS', 'MARICO.NS', 'MARUTI.NS', 'MFSL.NS', 'MAXHEALTH.NS', 'METROPOLIS.NS', 'MINDTREE.NS', 'MPHASIS.NS', 'MUTHOOTFIN.NS', 'NMDC.NS', 'NTPC.NS', 'NATIONALUM.NS', 'NAVINFLUOR.NS', 'NESTLEIND.NS', 'NAM-INDIA.NS', 'OBEROIRLTY.NS', 'ONGC.NS', 'OIL.NS', 'PAYTM.NS', 'OFSS.NS', 'POLICYBZR.NS', 'PIIND.NS', 'PAGEIND.NS', 'PERSISTENT.NS', 'PETRONET.NS', 'PIDILITIND.NS', 'PEL.NS', 'POLYCAB.NS', 'PFC.NS', 'POWERGRID.NS', 'PRESTIGE.NS', 'PGHH.NS', 'PNB.NS', 'RECLTD.NS', 'RELIANCE.NS', 'SBICARD.NS', 'SBILIFE.NS', 'SRF.NS', 'SHREECEM.NS', 'SRTRANSFIN.NS', 'SIEMENS.NS', 'SONACOMS.NS', 'SBIN.NS', 'SAIL.NS', 'SUNPHARMA.NS', 'SUNTV.NS', 'SYNGENE.NS', 'TVSMOTOR.NS', 'TATACHEM.NS', 'TATACOMM.NS', 'TCS.NS', 'TATACONSUM.NS', 'TATAELXSI.NS', 'TATAMOTORS.NS', 'TATAPOWER.NS', 'TATASTEEL.NS', 'TECHM.NS', 'RAMCOCEM.NS', 'TITAN.NS', 'TORNTPHARM.NS', 'TORNTPOWER.NS', 'TRENT.NS', 'TRIDENT.NS', 'UPL.NS', 'ULTRACEMCO.NS', 'UNIONBANK.NS', 'UBL.NS', 'MCDOWELL-N.NS', 'VBL.NS', 'VEDL.NS', 'IDEA.NS', 'VOLTAS.NS', 'WHIRLPOOL.NS', 'WIPRO.NS', 'YESBANK.NS', 'ZEEL.NS', 'ZOMATO.NS', 'ZYDUSLIFE.NS']\n"
     ]
    }
   ],
   "source": [
    "# Importing the List of Stocks from the given csv file\n",
    "\n",
    "stock_list = pd.read_csv(\"harshad.csv\", names=[\"Code\"]).Code.to_list()\n",
    "print(stock_list)"
   ]
  },
  {
   "cell_type": "code",
   "execution_count": 3,
   "id": "8a79ccaa",
   "metadata": {},
   "outputs": [],
   "source": [
    "# Creating the data frame to store the various stock analysis parameters\n",
    "\n",
    "final = pd.DataFrame(columns=['Stock','P035', 'P05', 'P1','P2','P35','R05','R1','R03','R0'])"
   ]
  },
  {
   "cell_type": "code",
   "execution_count": 4,
   "id": "f9f36917",
   "metadata": {},
   "outputs": [],
   "source": [
    "def get_data(stock):\n",
    "    # Extracting data using Yahoo Finance\n",
    "    W1 = yf.download(stock,'2022-09-28','2022-10-06')\n",
    "    W2 = yf.download(stock,'2022-09-21','2022-10-06')\n",
    "    W4 = yf.download(stock,'2022-09-07','2022-10-06')\n",
    "    W8 = yf.download(stock,'2022-08-10','2022-10-06')\n",
    "    W16 = yf.download(stock,'2022-06-15','2022-10-06')\n",
    "    M6 = yf.download(stock,'2021-04-06','2022-10-06')\n",
    "    Y1 = yf.download(stock,'2021-10-06','2022-10-06')\n",
    "    Y2 = yf.download(stock,'2020-10-06','2022-10-06')\n",
    "\n",
    "    # Calculating the Profit parameters\n",
    "    def weight(k, W1, W2, W4, W8, W16, M6, Y1, Y2):\n",
    "        Low_1 = ((W1['Open'] - W1['Low'])*100 / W1['Open'])\n",
    "        final_W1 = Low_1[Low_1 > k]\n",
    "        \n",
    "        Low_2= ((W2['Open'] - W2['Low'])*100 / W2['Open'])\n",
    "        final_W2 = Low_2[Low_2 > k]\n",
    "        \n",
    "        Low_3= ((W4['Open'] - W4['Low'])*100 / W4['Open'])\n",
    "        final_W4 = Low_3[Low_3 > k]\n",
    "        \n",
    "        Low_4= ((W8['Open'] - W8['Low'])*100 / W8['Open'])\n",
    "        final_W8 = Low_4[Low_4 > k]\n",
    "        \n",
    "        Low_5= ((W16['Open'] - W16['Low'])*100 / W16['Open'])\n",
    "        final_W16 = Low_5[Low_5 > k]\n",
    "        \n",
    "        Low_6= ((M6['Open'] - M6['Low'])*100 / M6['Open'])\n",
    "        final_M6 = Low_6[Low_6 > k]\n",
    "        \n",
    "        Low_7= ((Y1['Open'] - Y1['Low'])*100 / Y1['Open'])\n",
    "        final_Y1 = Low_7[Low_7 > k]\n",
    "        \n",
    "        Low_8= ((Y2['Open'] - Y2['Low'])*100 / Y2['Open'])\n",
    "        final_Y2 = Low_8[Low_8 > k]\n",
    "\n",
    "        return (256*((final_W1.size*100)/(W1.size))+128*((final_W2.size*100)/(W2.size))+64*((final_W4.size*100)/(W4.size))+32*((final_W8.size*100)/(W8.size))+16*((final_W16.size*100)/(W16.size))+8*((final_M6.size*100)/M6.size)+4*((final_Y1.size*100)/(Y1.size))+2*((final_Y2.size*100)/(Y2.size)))\n",
    "    \n",
    "    P035 = weight(0.35, W1, W2, W4, W8, W16, M6, Y1, Y2)\n",
    "    P05 = weight(0.5, W1, W2, W4, W8, W16, M6, Y1, Y2)\n",
    "    P1 = weight(1, W1, W2, W4, W8, W16, M6, Y1, Y2)\n",
    "    P2 = weight(2, W1, W2, W4, W8, W16, M6, Y1, Y2)\n",
    "    P35 = weight(3.5, W1, W2, W4, W8, W16, M6, Y1, Y2)\n",
    "    \n",
    "    # Calculating the Risk Parameters\n",
    "    def risk(k, W1, W2, W4, W8, W16, M6, Y1, Y2):\n",
    "        Low_1 = ((W1['Open'] - W1['Low'])*100 / W1['Open'])\n",
    "        final_W1 = Low_1[Low_1 <= k]\n",
    "        \n",
    "        Low_2= ((W2['Open'] - W2['Low'])*100 / W2['Open'])\n",
    "        final_W2 = Low_2[Low_2 <= k]\n",
    "        \n",
    "        Low_3= ((W4['Open'] - W4['Low'])*100 / W4['Open'])\n",
    "        final_W4 = Low_3[Low_3 <= k]\n",
    "        \n",
    "        Low_4= ((W8['Open'] - W8['Low'])*100 / W8['Open'])\n",
    "        final_W8 = Low_4[Low_4 <= k]\n",
    "        \n",
    "        Low_5= ((W16['Open'] - W16['Low'])*100 / W16['Open'])\n",
    "        final_W16 = Low_5[Low_5 <= k]\n",
    "        \n",
    "        Low_6= ((M6['Open'] - M6['Low'])*100 / M6['Open'])\n",
    "        final_M6 = Low_6[Low_6 <= k]\n",
    "        \n",
    "        Low_7= ((Y1['Open'] - Y1['Low'])*100 / Y1['Open'])\n",
    "        final_Y1 = Low_7[Low_7 <= k]\n",
    "        \n",
    "        Low_8= ((Y2['Open'] - Y2['Low'])*100 / Y2['Open'])\n",
    "        final_Y2 = Low_8[Low_8 <= k]\n",
    "\n",
    "        return (256*((final_W1.size*100)/(W1.size))+128*((final_W2.size*100)/(W2.size))+64*((final_W4.size*100)/(W4.size))+32*((final_W8.size*100)/(W8.size))+16*((final_W16.size*100)/(W16.size))+8*((final_M6.size*100)/M6.size)+4*((final_Y1.size*100)/(Y1.size))+2*((final_Y2.size*100)/(Y2.size)))\n",
    "    \n",
    "    R1 = risk(1, W1, W2, W4, W8, W16, M6, Y1, Y2)\n",
    "    R05 = risk(0.5, W1, W2, W4, W8, W16, M6, Y1, Y2)\n",
    "    R03 = risk(0.3, W1, W2, W4, W8, W16, M6, Y1, Y2)\n",
    "    R0 = risk(0, W1, W2, W4, W8, W16, M6, Y1, Y2)\n",
    "    \n",
    "    # Returning the final dataframe\n",
    "    df = {'Stock': stock, 'P035': P035, 'P05': P05, 'P1': P1, 'P2': P2, 'P35': P35, 'R05': R05, 'R1': R1, 'R03': R03, 'R0': R0}\n",
    "    return df"
   ]
  },
  {
   "cell_type": "code",
   "execution_count": 5,
   "id": "476ef97a",
   "metadata": {},
   "outputs": [
    {
     "name": "stdout",
     "output_type": "stream",
     "text": [
      "ABB.NS\n",
      "[*********************100%***********************]  1 of 1 completed\n",
      "[*********************100%***********************]  1 of 1 completed\n",
      "[*********************100%***********************]  1 of 1 completed\n",
      "[*********************100%***********************]  1 of 1 completed\n",
      "[*********************100%***********************]  1 of 1 completed\n",
      "[*********************100%***********************]  1 of 1 completed\n",
      "[*********************100%***********************]  1 of 1 completed\n",
      "[*********************100%***********************]  1 of 1 completed\n",
      "ACC.NS\n",
      "[*********************100%***********************]  1 of 1 completed"
     ]
    },
    {
     "name": "stderr",
     "output_type": "stream",
     "text": [
      "C:\\Users\\Admin\\AppData\\Local\\Temp\\ipykernel_86652\\21544151.py:4: FutureWarning: The frame.append method is deprecated and will be removed from pandas in a future version. Use pandas.concat instead.\n",
      "  final = final.append(df, ignore_index=True)\n"
     ]
    },
    {
     "name": "stdout",
     "output_type": "stream",
     "text": [
      "\n",
      "[*********************100%***********************]  1 of 1 completed\n",
      "[*********************100%***********************]  1 of 1 completed\n",
      "[*********************100%***********************]  1 of 1 completed\n",
      "[*********************100%***********************]  1 of 1 completed\n",
      "[*********************100%***********************]  1 of 1 completed\n",
      "[*********************100%***********************]  1 of 1 completed\n",
      "[*********************100%***********************]  1 of 1 completed\n",
      "AUBANK.NS\n",
      "[*********************100%***********************]  1 of 1 completed\n"
     ]
    },
    {
     "name": "stderr",
     "output_type": "stream",
     "text": [
      "C:\\Users\\Admin\\AppData\\Local\\Temp\\ipykernel_86652\\21544151.py:4: FutureWarning: The frame.append method is deprecated and will be removed from pandas in a future version. Use pandas.concat instead.\n",
      "  final = final.append(df, ignore_index=True)\n"
     ]
    },
    {
     "name": "stdout",
     "output_type": "stream",
     "text": [
      "[*********************100%***********************]  1 of 1 completed\n",
      "[*********************100%***********************]  1 of 1 completed\n",
      "[*********************100%***********************]  1 of 1 completed\n",
      "[*********************100%***********************]  1 of 1 completed\n",
      "[*********************100%***********************]  1 of 1 completed\n",
      "[*********************100%***********************]  1 of 1 completed\n",
      "[*********************100%***********************]  1 of 1 completed\n",
      "ABBOTINDIA.NS\n",
      "[*********************100%***********************]  1 of 1 completed\n"
     ]
    },
    {
     "name": "stderr",
     "output_type": "stream",
     "text": [
      "C:\\Users\\Admin\\AppData\\Local\\Temp\\ipykernel_86652\\21544151.py:4: FutureWarning: The frame.append method is deprecated and will be removed from pandas in a future version. Use pandas.concat instead.\n",
      "  final = final.append(df, ignore_index=True)\n"
     ]
    },
    {
     "name": "stdout",
     "output_type": "stream",
     "text": [
      "[*********************100%***********************]  1 of 1 completed\n",
      "[*********************100%***********************]  1 of 1 completed\n",
      "[*********************100%***********************]  1 of 1 completed\n",
      "[*********************100%***********************]  1 of 1 completed\n",
      "[*********************100%***********************]  1 of 1 completed\n",
      "[*********************100%***********************]  1 of 1 completed\n",
      "[*********************100%***********************]  1 of 1 completed\n",
      "ADANIENT.NS\n"
     ]
    },
    {
     "name": "stderr",
     "output_type": "stream",
     "text": [
      "C:\\Users\\Admin\\AppData\\Local\\Temp\\ipykernel_86652\\21544151.py:4: FutureWarning: The frame.append method is deprecated and will be removed from pandas in a future version. Use pandas.concat instead.\n",
      "  final = final.append(df, ignore_index=True)\n"
     ]
    },
    {
     "name": "stdout",
     "output_type": "stream",
     "text": [
      "[*********************100%***********************]  1 of 1 completed\n",
      "[*********************100%***********************]  1 of 1 completed\n",
      "[*********************100%***********************]  1 of 1 completed\n",
      "[*********************100%***********************]  1 of 1 completed\n",
      "[*********************100%***********************]  1 of 1 completed\n",
      "[*********************100%***********************]  1 of 1 completed\n",
      "[*********************100%***********************]  1 of 1 completed\n",
      "[*********************100%***********************]  1 of 1 completed\n",
      "ADANIGREEN.NS\n",
      "[*********************100%***********************]  1 of 1 completed\n"
     ]
    },
    {
     "name": "stderr",
     "output_type": "stream",
     "text": [
      "C:\\Users\\Admin\\AppData\\Local\\Temp\\ipykernel_86652\\21544151.py:4: FutureWarning: The frame.append method is deprecated and will be removed from pandas in a future version. Use pandas.concat instead.\n",
      "  final = final.append(df, ignore_index=True)\n"
     ]
    },
    {
     "name": "stdout",
     "output_type": "stream",
     "text": [
      "[*********************100%***********************]  1 of 1 completed\n",
      "[*********************100%***********************]  1 of 1 completed\n",
      "[*********************100%***********************]  1 of 1 completed\n",
      "[*********************100%***********************]  1 of 1 completed\n",
      "[*********************100%***********************]  1 of 1 completed\n",
      "[*********************100%***********************]  1 of 1 completed\n",
      "[*********************100%***********************]  1 of 1 completed\n",
      "ADANIPORTS.NS\n",
      "[*********************100%***********************]  1 of 1 completed"
     ]
    },
    {
     "name": "stderr",
     "output_type": "stream",
     "text": [
      "C:\\Users\\Admin\\AppData\\Local\\Temp\\ipykernel_86652\\21544151.py:4: FutureWarning: The frame.append method is deprecated and will be removed from pandas in a future version. Use pandas.concat instead.\n",
      "  final = final.append(df, ignore_index=True)\n"
     ]
    },
    {
     "name": "stdout",
     "output_type": "stream",
     "text": [
      "\n",
      "[*********************100%***********************]  1 of 1 completed\n",
      "[*********************100%***********************]  1 of 1 completed\n",
      "[*********************100%***********************]  1 of 1 completed\n",
      "[*********************100%***********************]  1 of 1 completed\n",
      "[*********************100%***********************]  1 of 1 completed\n",
      "[*********************100%***********************]  1 of 1 completed\n",
      "[*********************100%***********************]  1 of 1 completed\n",
      "ATGL.NS\n",
      "[*********************100%***********************]  1 of 1 completed\n"
     ]
    },
    {
     "name": "stderr",
     "output_type": "stream",
     "text": [
      "C:\\Users\\Admin\\AppData\\Local\\Temp\\ipykernel_86652\\21544151.py:4: FutureWarning: The frame.append method is deprecated and will be removed from pandas in a future version. Use pandas.concat instead.\n",
      "  final = final.append(df, ignore_index=True)\n"
     ]
    },
    {
     "name": "stdout",
     "output_type": "stream",
     "text": [
      "[*********************100%***********************]  1 of 1 completed\n",
      "[*********************100%***********************]  1 of 1 completed\n",
      "[*********************100%***********************]  1 of 1 completed\n",
      "[*********************100%***********************]  1 of 1 completed\n",
      "[*********************100%***********************]  1 of 1 completed\n",
      "[*********************100%***********************]  1 of 1 completed\n",
      "[*********************100%***********************]  1 of 1 completed\n",
      "ADANITRANS.NS\n",
      "[*********************100%***********************]  1 of 1 completed\n"
     ]
    },
    {
     "name": "stderr",
     "output_type": "stream",
     "text": [
      "C:\\Users\\Admin\\AppData\\Local\\Temp\\ipykernel_86652\\21544151.py:4: FutureWarning: The frame.append method is deprecated and will be removed from pandas in a future version. Use pandas.concat instead.\n",
      "  final = final.append(df, ignore_index=True)\n"
     ]
    },
    {
     "name": "stdout",
     "output_type": "stream",
     "text": [
      "[*********************100%***********************]  1 of 1 completed\n",
      "[*********************100%***********************]  1 of 1 completed\n",
      "[*********************100%***********************]  1 of 1 completed\n",
      "[*********************100%***********************]  1 of 1 completed\n",
      "[*********************100%***********************]  1 of 1 completed\n",
      "[*********************100%***********************]  1 of 1 completed\n",
      "[*********************100%***********************]  1 of 1 completed\n",
      "ABCAPITAL.NS\n",
      "[*********************100%***********************]  1 of 1 completed\n"
     ]
    },
    {
     "name": "stderr",
     "output_type": "stream",
     "text": [
      "C:\\Users\\Admin\\AppData\\Local\\Temp\\ipykernel_86652\\21544151.py:4: FutureWarning: The frame.append method is deprecated and will be removed from pandas in a future version. Use pandas.concat instead.\n",
      "  final = final.append(df, ignore_index=True)\n"
     ]
    },
    {
     "name": "stdout",
     "output_type": "stream",
     "text": [
      "[*********************100%***********************]  1 of 1 completed\n",
      "[*********************100%***********************]  1 of 1 completed\n",
      "[*********************100%***********************]  1 of 1 completed\n",
      "[*********************100%***********************]  1 of 1 completed\n",
      "[*********************100%***********************]  1 of 1 completed\n",
      "[*********************100%***********************]  1 of 1 completed\n",
      "[*********************100%***********************]  1 of 1 completed\n",
      "ABFRL.NS\n",
      "[*********************100%***********************]  1 of 1 completed\n"
     ]
    },
    {
     "name": "stderr",
     "output_type": "stream",
     "text": [
      "C:\\Users\\Admin\\AppData\\Local\\Temp\\ipykernel_86652\\21544151.py:4: FutureWarning: The frame.append method is deprecated and will be removed from pandas in a future version. Use pandas.concat instead.\n",
      "  final = final.append(df, ignore_index=True)\n"
     ]
    },
    {
     "name": "stdout",
     "output_type": "stream",
     "text": [
      "[*********************100%***********************]  1 of 1 completed\n",
      "[*********************100%***********************]  1 of 1 completed\n",
      "[*********************100%***********************]  1 of 1 completed\n",
      "[*********************100%***********************]  1 of 1 completed\n",
      "[*********************100%***********************]  1 of 1 completed\n",
      "[*********************100%***********************]  1 of 1 completed\n",
      "[*********************100%***********************]  1 of 1 completed\n",
      "APLLTD.NS\n",
      "[*********************100%***********************]  1 of 1 completed\n"
     ]
    },
    {
     "name": "stderr",
     "output_type": "stream",
     "text": [
      "C:\\Users\\Admin\\AppData\\Local\\Temp\\ipykernel_86652\\21544151.py:4: FutureWarning: The frame.append method is deprecated and will be removed from pandas in a future version. Use pandas.concat instead.\n",
      "  final = final.append(df, ignore_index=True)\n"
     ]
    },
    {
     "name": "stdout",
     "output_type": "stream",
     "text": [
      "[*********************100%***********************]  1 of 1 completed\n",
      "[*********************100%***********************]  1 of 1 completed\n",
      "[*********************100%***********************]  1 of 1 completed\n",
      "[*********************100%***********************]  1 of 1 completed\n",
      "[*********************100%***********************]  1 of 1 completed\n",
      "[*********************100%***********************]  1 of 1 completed\n",
      "[*********************100%***********************]  1 of 1 completed\n",
      "ALKEM.NS\n",
      "[*********************100%***********************]  1 of 1 completed"
     ]
    },
    {
     "name": "stderr",
     "output_type": "stream",
     "text": [
      "C:\\Users\\Admin\\AppData\\Local\\Temp\\ipykernel_86652\\21544151.py:4: FutureWarning: The frame.append method is deprecated and will be removed from pandas in a future version. Use pandas.concat instead.\n",
      "  final = final.append(df, ignore_index=True)\n"
     ]
    },
    {
     "name": "stdout",
     "output_type": "stream",
     "text": [
      "\n",
      "[*********************100%***********************]  1 of 1 completed\n",
      "[*********************100%***********************]  1 of 1 completed\n",
      "[*********************100%***********************]  1 of 1 completed\n",
      "[*********************100%***********************]  1 of 1 completed\n",
      "[*********************100%***********************]  1 of 1 completed\n",
      "[*********************100%***********************]  1 of 1 completed\n",
      "[*********************100%***********************]  1 of 1 completed\n",
      "AMBUJACEM.NS\n",
      "[*********************100%***********************]  1 of 1 completed\n"
     ]
    },
    {
     "name": "stderr",
     "output_type": "stream",
     "text": [
      "C:\\Users\\Admin\\AppData\\Local\\Temp\\ipykernel_86652\\21544151.py:4: FutureWarning: The frame.append method is deprecated and will be removed from pandas in a future version. Use pandas.concat instead.\n",
      "  final = final.append(df, ignore_index=True)\n"
     ]
    },
    {
     "name": "stdout",
     "output_type": "stream",
     "text": [
      "[*********************100%***********************]  1 of 1 completed\n",
      "[*********************100%***********************]  1 of 1 completed\n",
      "[*********************100%***********************]  1 of 1 completed\n",
      "[*********************100%***********************]  1 of 1 completed\n",
      "[*********************100%***********************]  1 of 1 completed\n",
      "[*********************100%***********************]  1 of 1 completed\n",
      "[*********************100%***********************]  1 of 1 completed\n",
      "APOLLOHOSP.NS\n",
      "[*********************100%***********************]  1 of 1 completed"
     ]
    },
    {
     "name": "stderr",
     "output_type": "stream",
     "text": [
      "C:\\Users\\Admin\\AppData\\Local\\Temp\\ipykernel_86652\\21544151.py:4: FutureWarning: The frame.append method is deprecated and will be removed from pandas in a future version. Use pandas.concat instead.\n",
      "  final = final.append(df, ignore_index=True)\n"
     ]
    },
    {
     "name": "stdout",
     "output_type": "stream",
     "text": [
      "\n",
      "[*********************100%***********************]  1 of 1 completed\n",
      "[*********************100%***********************]  1 of 1 completed\n",
      "[*********************100%***********************]  1 of 1 completed\n",
      "[*********************100%***********************]  1 of 1 completed\n",
      "[*********************100%***********************]  1 of 1 completed\n",
      "[*********************100%***********************]  1 of 1 completed\n",
      "[*********************100%***********************]  1 of 1 completed\n",
      "APOLLOTYRE.NS\n",
      "[*********************100%***********************]  1 of 1 completed\n"
     ]
    },
    {
     "name": "stderr",
     "output_type": "stream",
     "text": [
      "C:\\Users\\Admin\\AppData\\Local\\Temp\\ipykernel_86652\\21544151.py:4: FutureWarning: The frame.append method is deprecated and will be removed from pandas in a future version. Use pandas.concat instead.\n",
      "  final = final.append(df, ignore_index=True)\n"
     ]
    },
    {
     "name": "stdout",
     "output_type": "stream",
     "text": [
      "[*********************100%***********************]  1 of 1 completed\n",
      "[*********************100%***********************]  1 of 1 completed\n",
      "[*********************100%***********************]  1 of 1 completed\n",
      "[*********************100%***********************]  1 of 1 completed\n",
      "[*********************100%***********************]  1 of 1 completed\n",
      "[*********************100%***********************]  1 of 1 completed\n",
      "[*********************100%***********************]  1 of 1 completed\n",
      "ASHOKLEY.NS\n",
      "[*********************100%***********************]  1 of 1 completed\n"
     ]
    },
    {
     "name": "stderr",
     "output_type": "stream",
     "text": [
      "C:\\Users\\Admin\\AppData\\Local\\Temp\\ipykernel_86652\\21544151.py:4: FutureWarning: The frame.append method is deprecated and will be removed from pandas in a future version. Use pandas.concat instead.\n",
      "  final = final.append(df, ignore_index=True)\n"
     ]
    },
    {
     "name": "stdout",
     "output_type": "stream",
     "text": [
      "[*********************100%***********************]  1 of 1 completed\n",
      "[*********************100%***********************]  1 of 1 completed\n",
      "[*********************100%***********************]  1 of 1 completed\n",
      "[*********************100%***********************]  1 of 1 completed\n",
      "[*********************100%***********************]  1 of 1 completed\n",
      "[*********************100%***********************]  1 of 1 completed\n",
      "[*********************100%***********************]  1 of 1 completed\n",
      "ASIANPAINT.NS\n"
     ]
    },
    {
     "name": "stderr",
     "output_type": "stream",
     "text": [
      "C:\\Users\\Admin\\AppData\\Local\\Temp\\ipykernel_86652\\21544151.py:4: FutureWarning: The frame.append method is deprecated and will be removed from pandas in a future version. Use pandas.concat instead.\n",
      "  final = final.append(df, ignore_index=True)\n"
     ]
    },
    {
     "name": "stdout",
     "output_type": "stream",
     "text": [
      "[*********************100%***********************]  1 of 1 completed\n",
      "[*********************100%***********************]  1 of 1 completed\n",
      "[*********************100%***********************]  1 of 1 completed\n",
      "[*********************100%***********************]  1 of 1 completed\n",
      "[*********************100%***********************]  1 of 1 completed\n",
      "[*********************100%***********************]  1 of 1 completed\n",
      "[*********************100%***********************]  1 of 1 completed\n",
      "[*********************100%***********************]  1 of 1 completed\n",
      "ASTRAL.NS\n",
      "[*********************100%***********************]  1 of 1 completed\n"
     ]
    },
    {
     "name": "stderr",
     "output_type": "stream",
     "text": [
      "C:\\Users\\Admin\\AppData\\Local\\Temp\\ipykernel_86652\\21544151.py:4: FutureWarning: The frame.append method is deprecated and will be removed from pandas in a future version. Use pandas.concat instead.\n",
      "  final = final.append(df, ignore_index=True)\n"
     ]
    },
    {
     "name": "stdout",
     "output_type": "stream",
     "text": [
      "[*********************100%***********************]  1 of 1 completed\n",
      "[*********************100%***********************]  1 of 1 completed\n",
      "[*********************100%***********************]  1 of 1 completed\n",
      "[*********************100%***********************]  1 of 1 completed\n",
      "[*********************100%***********************]  1 of 1 completed\n",
      "[*********************100%***********************]  1 of 1 completed\n",
      "[*********************100%***********************]  1 of 1 completed\n",
      "AUROPHARMA.NS\n",
      "[*********************100%***********************]  1 of 1 completed\n"
     ]
    },
    {
     "name": "stderr",
     "output_type": "stream",
     "text": [
      "C:\\Users\\Admin\\AppData\\Local\\Temp\\ipykernel_86652\\21544151.py:4: FutureWarning: The frame.append method is deprecated and will be removed from pandas in a future version. Use pandas.concat instead.\n",
      "  final = final.append(df, ignore_index=True)\n"
     ]
    },
    {
     "name": "stdout",
     "output_type": "stream",
     "text": [
      "[*********************100%***********************]  1 of 1 completed\n",
      "[*********************100%***********************]  1 of 1 completed\n",
      "[*********************100%***********************]  1 of 1 completed\n",
      "[*********************100%***********************]  1 of 1 completed\n",
      "[*********************100%***********************]  1 of 1 completed\n",
      "[*********************100%***********************]  1 of 1 completed\n",
      "[*********************100%***********************]  1 of 1 completed\n",
      "DMART.NS\n",
      "[*********************100%***********************]  1 of 1 completed\n"
     ]
    },
    {
     "name": "stderr",
     "output_type": "stream",
     "text": [
      "C:\\Users\\Admin\\AppData\\Local\\Temp\\ipykernel_86652\\21544151.py:4: FutureWarning: The frame.append method is deprecated and will be removed from pandas in a future version. Use pandas.concat instead.\n",
      "  final = final.append(df, ignore_index=True)\n"
     ]
    },
    {
     "name": "stdout",
     "output_type": "stream",
     "text": [
      "[*********************100%***********************]  1 of 1 completed\n",
      "[*********************100%***********************]  1 of 1 completed\n",
      "[*********************100%***********************]  1 of 1 completed\n",
      "[*********************100%***********************]  1 of 1 completed\n",
      "[*********************100%***********************]  1 of 1 completed\n",
      "[*********************100%***********************]  1 of 1 completed\n",
      "[*********************100%***********************]  1 of 1 completed\n",
      "AXISBANK.NS\n",
      "[*********************100%***********************]  1 of 1 completed\n"
     ]
    },
    {
     "name": "stderr",
     "output_type": "stream",
     "text": [
      "C:\\Users\\Admin\\AppData\\Local\\Temp\\ipykernel_86652\\21544151.py:4: FutureWarning: The frame.append method is deprecated and will be removed from pandas in a future version. Use pandas.concat instead.\n",
      "  final = final.append(df, ignore_index=True)\n"
     ]
    },
    {
     "name": "stdout",
     "output_type": "stream",
     "text": [
      "[*********************100%***********************]  1 of 1 completed\n",
      "[*********************100%***********************]  1 of 1 completed\n",
      "[*********************100%***********************]  1 of 1 completed\n",
      "[*********************100%***********************]  1 of 1 completed\n",
      "[*********************100%***********************]  1 of 1 completed\n",
      "[*********************100%***********************]  1 of 1 completed\n",
      "[*********************100%***********************]  1 of 1 completed\n",
      "BAJAJ-AUTO.NS\n",
      "[*********************100%***********************]  1 of 1 completed\n"
     ]
    },
    {
     "name": "stderr",
     "output_type": "stream",
     "text": [
      "C:\\Users\\Admin\\AppData\\Local\\Temp\\ipykernel_86652\\21544151.py:4: FutureWarning: The frame.append method is deprecated and will be removed from pandas in a future version. Use pandas.concat instead.\n",
      "  final = final.append(df, ignore_index=True)\n"
     ]
    },
    {
     "name": "stdout",
     "output_type": "stream",
     "text": [
      "[*********************100%***********************]  1 of 1 completed\n",
      "[*********************100%***********************]  1 of 1 completed\n",
      "[*********************100%***********************]  1 of 1 completed\n",
      "[*********************100%***********************]  1 of 1 completed\n",
      "[*********************100%***********************]  1 of 1 completed\n",
      "[*********************100%***********************]  1 of 1 completed\n",
      "[*********************100%***********************]  1 of 1 completed\n",
      "BAJFINANCE.NS\n",
      "[*********************100%***********************]  1 of 1 completed\n"
     ]
    },
    {
     "name": "stderr",
     "output_type": "stream",
     "text": [
      "C:\\Users\\Admin\\AppData\\Local\\Temp\\ipykernel_86652\\21544151.py:4: FutureWarning: The frame.append method is deprecated and will be removed from pandas in a future version. Use pandas.concat instead.\n",
      "  final = final.append(df, ignore_index=True)\n"
     ]
    },
    {
     "name": "stdout",
     "output_type": "stream",
     "text": [
      "[*********************100%***********************]  1 of 1 completed\n",
      "[*********************100%***********************]  1 of 1 completed\n",
      "[*********************100%***********************]  1 of 1 completed\n",
      "[*********************100%***********************]  1 of 1 completed\n",
      "[*********************100%***********************]  1 of 1 completed\n",
      "[*********************100%***********************]  1 of 1 completed\n",
      "[*********************100%***********************]  1 of 1 completed\n",
      "BAJAJFINSV.NS\n"
     ]
    },
    {
     "name": "stderr",
     "output_type": "stream",
     "text": [
      "C:\\Users\\Admin\\AppData\\Local\\Temp\\ipykernel_86652\\21544151.py:4: FutureWarning: The frame.append method is deprecated and will be removed from pandas in a future version. Use pandas.concat instead.\n",
      "  final = final.append(df, ignore_index=True)\n"
     ]
    },
    {
     "name": "stdout",
     "output_type": "stream",
     "text": [
      "[*********************100%***********************]  1 of 1 completed\n",
      "[*********************100%***********************]  1 of 1 completed\n",
      "[*********************100%***********************]  1 of 1 completed\n",
      "[*********************100%***********************]  1 of 1 completed\n",
      "[*********************100%***********************]  1 of 1 completed\n",
      "[*********************100%***********************]  1 of 1 completed\n",
      "[*********************100%***********************]  1 of 1 completed\n",
      "[*********************100%***********************]  1 of 1 completed\n",
      "BAJAJHLDNG.NS\n",
      "[*********************100%***********************]  1 of 1 completed"
     ]
    },
    {
     "name": "stderr",
     "output_type": "stream",
     "text": [
      "C:\\Users\\Admin\\AppData\\Local\\Temp\\ipykernel_86652\\21544151.py:4: FutureWarning: The frame.append method is deprecated and will be removed from pandas in a future version. Use pandas.concat instead.\n",
      "  final = final.append(df, ignore_index=True)\n"
     ]
    },
    {
     "name": "stdout",
     "output_type": "stream",
     "text": [
      "\n",
      "[*********************100%***********************]  1 of 1 completed\n",
      "[*********************100%***********************]  1 of 1 completed\n",
      "[*********************100%***********************]  1 of 1 completed\n",
      "[*********************100%***********************]  1 of 1 completed\n",
      "[*********************100%***********************]  1 of 1 completed\n",
      "[*********************100%***********************]  1 of 1 completed\n",
      "[*********************100%***********************]  1 of 1 completed\n",
      "BALKRISIND.NS\n",
      "[*********************100%***********************]  1 of 1 completed\n"
     ]
    },
    {
     "name": "stderr",
     "output_type": "stream",
     "text": [
      "C:\\Users\\Admin\\AppData\\Local\\Temp\\ipykernel_86652\\21544151.py:4: FutureWarning: The frame.append method is deprecated and will be removed from pandas in a future version. Use pandas.concat instead.\n",
      "  final = final.append(df, ignore_index=True)\n"
     ]
    },
    {
     "name": "stdout",
     "output_type": "stream",
     "text": [
      "[*********************100%***********************]  1 of 1 completed\n",
      "[*********************100%***********************]  1 of 1 completed\n",
      "[*********************100%***********************]  1 of 1 completed\n",
      "[*********************100%***********************]  1 of 1 completed\n",
      "[*********************100%***********************]  1 of 1 completed\n",
      "[*********************100%***********************]  1 of 1 completed\n",
      "[*********************100%***********************]  1 of 1 completed\n",
      "BANDHANBNK.NS\n",
      "[*********************100%***********************]  1 of 1 completed"
     ]
    },
    {
     "name": "stderr",
     "output_type": "stream",
     "text": [
      "C:\\Users\\Admin\\AppData\\Local\\Temp\\ipykernel_86652\\21544151.py:4: FutureWarning: The frame.append method is deprecated and will be removed from pandas in a future version. Use pandas.concat instead.\n",
      "  final = final.append(df, ignore_index=True)\n"
     ]
    },
    {
     "name": "stdout",
     "output_type": "stream",
     "text": [
      "\n",
      "[*********************100%***********************]  1 of 1 completed\n",
      "[*********************100%***********************]  1 of 1 completed\n",
      "[*********************100%***********************]  1 of 1 completed\n",
      "[*********************100%***********************]  1 of 1 completed\n",
      "[*********************100%***********************]  1 of 1 completed\n",
      "[*********************100%***********************]  1 of 1 completed\n",
      "[*********************100%***********************]  1 of 1 completed\n",
      "BANKBARODA.NS\n"
     ]
    },
    {
     "name": "stderr",
     "output_type": "stream",
     "text": [
      "C:\\Users\\Admin\\AppData\\Local\\Temp\\ipykernel_86652\\21544151.py:4: FutureWarning: The frame.append method is deprecated and will be removed from pandas in a future version. Use pandas.concat instead.\n",
      "  final = final.append(df, ignore_index=True)\n"
     ]
    },
    {
     "name": "stdout",
     "output_type": "stream",
     "text": [
      "[*********************100%***********************]  1 of 1 completed\n",
      "[*********************100%***********************]  1 of 1 completed\n",
      "[*********************100%***********************]  1 of 1 completed\n",
      "[*********************100%***********************]  1 of 1 completed\n",
      "[*********************100%***********************]  1 of 1 completed\n",
      "[*********************100%***********************]  1 of 1 completed\n",
      "[*********************100%***********************]  1 of 1 completed\n",
      "[*********************100%***********************]  1 of 1 completed\n",
      "BANKINDIA.NS\n"
     ]
    },
    {
     "name": "stderr",
     "output_type": "stream",
     "text": [
      "C:\\Users\\Admin\\AppData\\Local\\Temp\\ipykernel_86652\\21544151.py:4: FutureWarning: The frame.append method is deprecated and will be removed from pandas in a future version. Use pandas.concat instead.\n",
      "  final = final.append(df, ignore_index=True)\n"
     ]
    },
    {
     "name": "stdout",
     "output_type": "stream",
     "text": [
      "[*********************100%***********************]  1 of 1 completed\n",
      "[*********************100%***********************]  1 of 1 completed\n",
      "[*********************100%***********************]  1 of 1 completed\n",
      "[*********************100%***********************]  1 of 1 completed\n",
      "[*********************100%***********************]  1 of 1 completed\n",
      "[*********************100%***********************]  1 of 1 completed\n",
      "[*********************100%***********************]  1 of 1 completed\n",
      "[*********************100%***********************]  1 of 1 completed\n",
      "BATAINDIA.NS\n",
      "[*********************100%***********************]  1 of 1 completed\n"
     ]
    },
    {
     "name": "stderr",
     "output_type": "stream",
     "text": [
      "C:\\Users\\Admin\\AppData\\Local\\Temp\\ipykernel_86652\\21544151.py:4: FutureWarning: The frame.append method is deprecated and will be removed from pandas in a future version. Use pandas.concat instead.\n",
      "  final = final.append(df, ignore_index=True)\n"
     ]
    },
    {
     "name": "stdout",
     "output_type": "stream",
     "text": [
      "[*********************100%***********************]  1 of 1 completed\n",
      "[*********************100%***********************]  1 of 1 completed\n",
      "[*********************100%***********************]  1 of 1 completed\n",
      "[*********************100%***********************]  1 of 1 completed\n",
      "[*********************100%***********************]  1 of 1 completed\n",
      "[*********************100%***********************]  1 of 1 completed\n",
      "[*********************100%***********************]  1 of 1 completed\n",
      "BERGEPAINT.NS\n",
      "[*********************100%***********************]  1 of 1 completed\n"
     ]
    },
    {
     "name": "stderr",
     "output_type": "stream",
     "text": [
      "C:\\Users\\Admin\\AppData\\Local\\Temp\\ipykernel_86652\\21544151.py:4: FutureWarning: The frame.append method is deprecated and will be removed from pandas in a future version. Use pandas.concat instead.\n",
      "  final = final.append(df, ignore_index=True)\n"
     ]
    },
    {
     "name": "stdout",
     "output_type": "stream",
     "text": [
      "[*********************100%***********************]  1 of 1 completed\n",
      "[*********************100%***********************]  1 of 1 completed\n",
      "[*********************100%***********************]  1 of 1 completed\n",
      "[*********************100%***********************]  1 of 1 completed\n",
      "[*********************100%***********************]  1 of 1 completed\n",
      "[*********************100%***********************]  1 of 1 completed\n",
      "[*********************100%***********************]  1 of 1 completed\n",
      "BEL.NS\n",
      "[*********************100%***********************]  1 of 1 completed\n"
     ]
    },
    {
     "name": "stderr",
     "output_type": "stream",
     "text": [
      "C:\\Users\\Admin\\AppData\\Local\\Temp\\ipykernel_86652\\21544151.py:4: FutureWarning: The frame.append method is deprecated and will be removed from pandas in a future version. Use pandas.concat instead.\n",
      "  final = final.append(df, ignore_index=True)\n"
     ]
    },
    {
     "name": "stdout",
     "output_type": "stream",
     "text": [
      "[*********************100%***********************]  1 of 1 completed\n",
      "[*********************100%***********************]  1 of 1 completed\n",
      "[*********************100%***********************]  1 of 1 completed\n",
      "[*********************100%***********************]  1 of 1 completed\n",
      "[*********************100%***********************]  1 of 1 completed\n",
      "[*********************100%***********************]  1 of 1 completed\n",
      "[*********************100%***********************]  1 of 1 completed\n",
      "BHARATFORG.NS\n"
     ]
    },
    {
     "name": "stderr",
     "output_type": "stream",
     "text": [
      "C:\\Users\\Admin\\AppData\\Local\\Temp\\ipykernel_86652\\21544151.py:4: FutureWarning: The frame.append method is deprecated and will be removed from pandas in a future version. Use pandas.concat instead.\n",
      "  final = final.append(df, ignore_index=True)\n"
     ]
    },
    {
     "name": "stdout",
     "output_type": "stream",
     "text": [
      "[*********************100%***********************]  1 of 1 completed\n",
      "[*********************100%***********************]  1 of 1 completed\n",
      "[*********************100%***********************]  1 of 1 completed\n",
      "[*********************100%***********************]  1 of 1 completed\n",
      "[*********************100%***********************]  1 of 1 completed\n",
      "[*********************100%***********************]  1 of 1 completed\n",
      "[*********************100%***********************]  1 of 1 completed\n",
      "[*********************100%***********************]  1 of 1 completed\n",
      "BHEL.NS\n",
      "[*********************100%***********************]  1 of 1 completed\n"
     ]
    },
    {
     "name": "stderr",
     "output_type": "stream",
     "text": [
      "C:\\Users\\Admin\\AppData\\Local\\Temp\\ipykernel_86652\\21544151.py:4: FutureWarning: The frame.append method is deprecated and will be removed from pandas in a future version. Use pandas.concat instead.\n",
      "  final = final.append(df, ignore_index=True)\n"
     ]
    },
    {
     "name": "stdout",
     "output_type": "stream",
     "text": [
      "[*********************100%***********************]  1 of 1 completed\n",
      "[*********************100%***********************]  1 of 1 completed\n",
      "[*********************100%***********************]  1 of 1 completed\n",
      "[*********************100%***********************]  1 of 1 completed\n",
      "[*********************100%***********************]  1 of 1 completed\n",
      "[*********************100%***********************]  1 of 1 completed\n",
      "[*********************100%***********************]  1 of 1 completed\n",
      "BPCL.NS\n",
      "[*********************100%***********************]  1 of 1 completed\n"
     ]
    },
    {
     "name": "stderr",
     "output_type": "stream",
     "text": [
      "C:\\Users\\Admin\\AppData\\Local\\Temp\\ipykernel_86652\\21544151.py:4: FutureWarning: The frame.append method is deprecated and will be removed from pandas in a future version. Use pandas.concat instead.\n",
      "  final = final.append(df, ignore_index=True)\n"
     ]
    },
    {
     "name": "stdout",
     "output_type": "stream",
     "text": [
      "[*********************100%***********************]  1 of 1 completed\n",
      "[*********************100%***********************]  1 of 1 completed\n",
      "[*********************100%***********************]  1 of 1 completed\n",
      "[*********************100%***********************]  1 of 1 completed\n",
      "[*********************100%***********************]  1 of 1 completed\n",
      "[*********************100%***********************]  1 of 1 completed\n",
      "[*********************100%***********************]  1 of 1 completed\n",
      "BHARTIARTL.NS\n",
      "[*********************100%***********************]  1 of 1 completed\n"
     ]
    },
    {
     "name": "stderr",
     "output_type": "stream",
     "text": [
      "C:\\Users\\Admin\\AppData\\Local\\Temp\\ipykernel_86652\\21544151.py:4: FutureWarning: The frame.append method is deprecated and will be removed from pandas in a future version. Use pandas.concat instead.\n",
      "  final = final.append(df, ignore_index=True)\n"
     ]
    },
    {
     "name": "stdout",
     "output_type": "stream",
     "text": [
      "[*********************100%***********************]  1 of 1 completed\n",
      "[*********************100%***********************]  1 of 1 completed\n",
      "[*********************100%***********************]  1 of 1 completed\n",
      "[*********************100%***********************]  1 of 1 completed\n",
      "[*********************100%***********************]  1 of 1 completed\n",
      "[*********************100%***********************]  1 of 1 completed\n",
      "[*********************100%***********************]  1 of 1 completed\n",
      "BIOCON.NS\n"
     ]
    },
    {
     "name": "stderr",
     "output_type": "stream",
     "text": [
      "C:\\Users\\Admin\\AppData\\Local\\Temp\\ipykernel_86652\\21544151.py:4: FutureWarning: The frame.append method is deprecated and will be removed from pandas in a future version. Use pandas.concat instead.\n",
      "  final = final.append(df, ignore_index=True)\n"
     ]
    },
    {
     "name": "stdout",
     "output_type": "stream",
     "text": [
      "[*********************100%***********************]  1 of 1 completed\n",
      "[*********************100%***********************]  1 of 1 completed\n",
      "[*********************100%***********************]  1 of 1 completed\n",
      "[*********************100%***********************]  1 of 1 completed\n",
      "[*********************100%***********************]  1 of 1 completed\n",
      "[*********************100%***********************]  1 of 1 completed\n",
      "[*********************100%***********************]  1 of 1 completed\n",
      "[*********************100%***********************]  1 of 1 completed\n",
      "BOSCHLTD.NS\n"
     ]
    },
    {
     "name": "stderr",
     "output_type": "stream",
     "text": [
      "C:\\Users\\Admin\\AppData\\Local\\Temp\\ipykernel_86652\\21544151.py:4: FutureWarning: The frame.append method is deprecated and will be removed from pandas in a future version. Use pandas.concat instead.\n",
      "  final = final.append(df, ignore_index=True)\n"
     ]
    },
    {
     "name": "stdout",
     "output_type": "stream",
     "text": [
      "[*********************100%***********************]  1 of 1 completed\n",
      "[*********************100%***********************]  1 of 1 completed\n",
      "[*********************100%***********************]  1 of 1 completed\n",
      "[*********************100%***********************]  1 of 1 completed\n",
      "[*********************100%***********************]  1 of 1 completed\n",
      "[*********************100%***********************]  1 of 1 completed\n",
      "[*********************100%***********************]  1 of 1 completed\n",
      "[*********************100%***********************]  1 of 1 completed\n",
      "BRITANNIA.NS\n"
     ]
    },
    {
     "name": "stderr",
     "output_type": "stream",
     "text": [
      "C:\\Users\\Admin\\AppData\\Local\\Temp\\ipykernel_86652\\21544151.py:4: FutureWarning: The frame.append method is deprecated and will be removed from pandas in a future version. Use pandas.concat instead.\n",
      "  final = final.append(df, ignore_index=True)\n"
     ]
    },
    {
     "name": "stdout",
     "output_type": "stream",
     "text": [
      "[*********************100%***********************]  1 of 1 completed\n",
      "[*********************100%***********************]  1 of 1 completed\n",
      "[*********************100%***********************]  1 of 1 completed\n",
      "[*********************100%***********************]  1 of 1 completed\n",
      "[*********************100%***********************]  1 of 1 completed\n",
      "[*********************100%***********************]  1 of 1 completed\n",
      "[*********************100%***********************]  1 of 1 completed\n",
      "[*********************100%***********************]  1 of 1 completed\n",
      "CANBK.NS\n",
      "[*********************100%***********************]  1 of 1 completed\n"
     ]
    },
    {
     "name": "stderr",
     "output_type": "stream",
     "text": [
      "C:\\Users\\Admin\\AppData\\Local\\Temp\\ipykernel_86652\\21544151.py:4: FutureWarning: The frame.append method is deprecated and will be removed from pandas in a future version. Use pandas.concat instead.\n",
      "  final = final.append(df, ignore_index=True)\n"
     ]
    },
    {
     "name": "stdout",
     "output_type": "stream",
     "text": [
      "[*********************100%***********************]  1 of 1 completed\n",
      "[*********************100%***********************]  1 of 1 completed\n",
      "[*********************100%***********************]  1 of 1 completed\n",
      "[*********************100%***********************]  1 of 1 completed\n",
      "[*********************100%***********************]  1 of 1 completed\n",
      "[*********************100%***********************]  1 of 1 completed\n",
      "[*********************100%***********************]  1 of 1 completed\n",
      "CHOLAFIN.NS\n",
      "[*********************100%***********************]  1 of 1 completed\n"
     ]
    },
    {
     "name": "stderr",
     "output_type": "stream",
     "text": [
      "C:\\Users\\Admin\\AppData\\Local\\Temp\\ipykernel_86652\\21544151.py:4: FutureWarning: The frame.append method is deprecated and will be removed from pandas in a future version. Use pandas.concat instead.\n",
      "  final = final.append(df, ignore_index=True)\n"
     ]
    },
    {
     "name": "stdout",
     "output_type": "stream",
     "text": [
      "[*********************100%***********************]  1 of 1 completed\n",
      "[*********************100%***********************]  1 of 1 completed\n",
      "[*********************100%***********************]  1 of 1 completed\n",
      "[*********************100%***********************]  1 of 1 completed\n",
      "[*********************100%***********************]  1 of 1 completed\n",
      "[*********************100%***********************]  1 of 1 completed\n",
      "[*********************100%***********************]  1 of 1 completed\n",
      "CIPLA.NS\n",
      "[*********************100%***********************]  1 of 1 completed\n"
     ]
    },
    {
     "name": "stderr",
     "output_type": "stream",
     "text": [
      "C:\\Users\\Admin\\AppData\\Local\\Temp\\ipykernel_86652\\21544151.py:4: FutureWarning: The frame.append method is deprecated and will be removed from pandas in a future version. Use pandas.concat instead.\n",
      "  final = final.append(df, ignore_index=True)\n"
     ]
    },
    {
     "name": "stdout",
     "output_type": "stream",
     "text": [
      "[*********************100%***********************]  1 of 1 completed\n",
      "[*********************100%***********************]  1 of 1 completed\n",
      "[*********************100%***********************]  1 of 1 completed\n",
      "[*********************100%***********************]  1 of 1 completed\n",
      "[*********************100%***********************]  1 of 1 completed\n",
      "[*********************100%***********************]  1 of 1 completed\n",
      "[*********************100%***********************]  1 of 1 completed\n",
      "CLEAN.NS\n",
      "[*********************100%***********************]  1 of 1 completed\n"
     ]
    },
    {
     "name": "stderr",
     "output_type": "stream",
     "text": [
      "C:\\Users\\Admin\\AppData\\Local\\Temp\\ipykernel_86652\\21544151.py:4: FutureWarning: The frame.append method is deprecated and will be removed from pandas in a future version. Use pandas.concat instead.\n",
      "  final = final.append(df, ignore_index=True)\n"
     ]
    },
    {
     "name": "stdout",
     "output_type": "stream",
     "text": [
      "[*********************100%***********************]  1 of 1 completed\n",
      "[*********************100%***********************]  1 of 1 completed\n",
      "[*********************100%***********************]  1 of 1 completed\n",
      "[*********************100%***********************]  1 of 1 completed\n",
      "[*********************100%***********************]  1 of 1 completed\n",
      "[*********************100%***********************]  1 of 1 completed\n",
      "[*********************100%***********************]  1 of 1 completed\n",
      "COALINDIA.NS\n",
      "[*********************100%***********************]  1 of 1 completed\n"
     ]
    },
    {
     "name": "stderr",
     "output_type": "stream",
     "text": [
      "C:\\Users\\Admin\\AppData\\Local\\Temp\\ipykernel_86652\\21544151.py:4: FutureWarning: The frame.append method is deprecated and will be removed from pandas in a future version. Use pandas.concat instead.\n",
      "  final = final.append(df, ignore_index=True)\n"
     ]
    },
    {
     "name": "stdout",
     "output_type": "stream",
     "text": [
      "[*********************100%***********************]  1 of 1 completed\n",
      "[*********************100%***********************]  1 of 1 completed\n",
      "[*********************100%***********************]  1 of 1 completed\n",
      "[*********************100%***********************]  1 of 1 completed\n",
      "[*********************100%***********************]  1 of 1 completed\n",
      "[*********************100%***********************]  1 of 1 completed\n",
      "[*********************100%***********************]  1 of 1 completed\n",
      "COFORGE.NS\n",
      "[*********************100%***********************]  1 of 1 completed\n"
     ]
    },
    {
     "name": "stderr",
     "output_type": "stream",
     "text": [
      "C:\\Users\\Admin\\AppData\\Local\\Temp\\ipykernel_86652\\21544151.py:4: FutureWarning: The frame.append method is deprecated and will be removed from pandas in a future version. Use pandas.concat instead.\n",
      "  final = final.append(df, ignore_index=True)\n"
     ]
    },
    {
     "name": "stdout",
     "output_type": "stream",
     "text": [
      "[*********************100%***********************]  1 of 1 completed\n",
      "[*********************100%***********************]  1 of 1 completed\n",
      "[*********************100%***********************]  1 of 1 completed\n",
      "[*********************100%***********************]  1 of 1 completed\n",
      "[*********************100%***********************]  1 of 1 completed\n",
      "[*********************100%***********************]  1 of 1 completed\n",
      "[*********************100%***********************]  1 of 1 completed\n",
      "COLPAL.NS\n",
      "[*********************100%***********************]  1 of 1 completed\n"
     ]
    },
    {
     "name": "stderr",
     "output_type": "stream",
     "text": [
      "C:\\Users\\Admin\\AppData\\Local\\Temp\\ipykernel_86652\\21544151.py:4: FutureWarning: The frame.append method is deprecated and will be removed from pandas in a future version. Use pandas.concat instead.\n",
      "  final = final.append(df, ignore_index=True)\n"
     ]
    },
    {
     "name": "stdout",
     "output_type": "stream",
     "text": [
      "[*********************100%***********************]  1 of 1 completed\n",
      "[*********************100%***********************]  1 of 1 completed\n",
      "[*********************100%***********************]  1 of 1 completed\n",
      "[*********************100%***********************]  1 of 1 completed\n",
      "[*********************100%***********************]  1 of 1 completed\n",
      "[*********************100%***********************]  1 of 1 completed\n",
      "[*********************100%***********************]  1 of 1 completed\n",
      "CONCOR.NS\n",
      "[*********************100%***********************]  1 of 1 completed\n"
     ]
    },
    {
     "name": "stderr",
     "output_type": "stream",
     "text": [
      "C:\\Users\\Admin\\AppData\\Local\\Temp\\ipykernel_86652\\21544151.py:4: FutureWarning: The frame.append method is deprecated and will be removed from pandas in a future version. Use pandas.concat instead.\n",
      "  final = final.append(df, ignore_index=True)\n"
     ]
    },
    {
     "name": "stdout",
     "output_type": "stream",
     "text": [
      "[*********************100%***********************]  1 of 1 completed\n",
      "[*********************100%***********************]  1 of 1 completed\n",
      "[*********************100%***********************]  1 of 1 completed\n",
      "[*********************100%***********************]  1 of 1 completed\n",
      "[*********************100%***********************]  1 of 1 completed\n",
      "[*********************100%***********************]  1 of 1 completed\n",
      "[*********************100%***********************]  1 of 1 completed\n",
      "COROMANDEL.NS\n",
      "[*********************100%***********************]  1 of 1 completed\n"
     ]
    },
    {
     "name": "stderr",
     "output_type": "stream",
     "text": [
      "C:\\Users\\Admin\\AppData\\Local\\Temp\\ipykernel_86652\\21544151.py:4: FutureWarning: The frame.append method is deprecated and will be removed from pandas in a future version. Use pandas.concat instead.\n",
      "  final = final.append(df, ignore_index=True)\n"
     ]
    },
    {
     "name": "stdout",
     "output_type": "stream",
     "text": [
      "[*********************100%***********************]  1 of 1 completed\n",
      "[*********************100%***********************]  1 of 1 completed\n",
      "[*********************100%***********************]  1 of 1 completed\n",
      "[*********************100%***********************]  1 of 1 completed\n",
      "[*********************100%***********************]  1 of 1 completed\n",
      "[*********************100%***********************]  1 of 1 completed\n",
      "[*********************100%***********************]  1 of 1 completed\n",
      "CROMPTON.NS\n",
      "[*********************100%***********************]  1 of 1 completed\n"
     ]
    },
    {
     "name": "stderr",
     "output_type": "stream",
     "text": [
      "C:\\Users\\Admin\\AppData\\Local\\Temp\\ipykernel_86652\\21544151.py:4: FutureWarning: The frame.append method is deprecated and will be removed from pandas in a future version. Use pandas.concat instead.\n",
      "  final = final.append(df, ignore_index=True)\n"
     ]
    },
    {
     "name": "stdout",
     "output_type": "stream",
     "text": [
      "[*********************100%***********************]  1 of 1 completed\n",
      "[*********************100%***********************]  1 of 1 completed\n",
      "[*********************100%***********************]  1 of 1 completed\n",
      "[*********************100%***********************]  1 of 1 completed\n",
      "[*********************100%***********************]  1 of 1 completed\n",
      "[*********************100%***********************]  1 of 1 completed\n",
      "[*********************100%***********************]  1 of 1 completed\n",
      "CUMMINSIND.NS\n",
      "[*********************100%***********************]  1 of 1 completed\n"
     ]
    },
    {
     "name": "stderr",
     "output_type": "stream",
     "text": [
      "C:\\Users\\Admin\\AppData\\Local\\Temp\\ipykernel_86652\\21544151.py:4: FutureWarning: The frame.append method is deprecated and will be removed from pandas in a future version. Use pandas.concat instead.\n",
      "  final = final.append(df, ignore_index=True)\n"
     ]
    },
    {
     "name": "stdout",
     "output_type": "stream",
     "text": [
      "[*********************100%***********************]  1 of 1 completed\n",
      "[*********************100%***********************]  1 of 1 completed\n",
      "[*********************100%***********************]  1 of 1 completed\n",
      "[*********************100%***********************]  1 of 1 completed\n",
      "[*********************100%***********************]  1 of 1 completed\n",
      "[*********************100%***********************]  1 of 1 completed\n",
      "[*********************100%***********************]  1 of 1 completed\n",
      "DLF.NS\n",
      "[*********************100%***********************]  1 of 1 completed\n"
     ]
    },
    {
     "name": "stderr",
     "output_type": "stream",
     "text": [
      "C:\\Users\\Admin\\AppData\\Local\\Temp\\ipykernel_86652\\21544151.py:4: FutureWarning: The frame.append method is deprecated and will be removed from pandas in a future version. Use pandas.concat instead.\n",
      "  final = final.append(df, ignore_index=True)\n"
     ]
    },
    {
     "name": "stdout",
     "output_type": "stream",
     "text": [
      "[*********************100%***********************]  1 of 1 completed\n",
      "[*********************100%***********************]  1 of 1 completed\n",
      "[*********************100%***********************]  1 of 1 completed\n",
      "[*********************100%***********************]  1 of 1 completed\n",
      "[*********************100%***********************]  1 of 1 completed\n",
      "[*********************100%***********************]  1 of 1 completed\n",
      "[*********************100%***********************]  1 of 1 completed\n",
      "DABUR.NS\n",
      "[*********************100%***********************]  1 of 1 completed\n"
     ]
    },
    {
     "name": "stderr",
     "output_type": "stream",
     "text": [
      "C:\\Users\\Admin\\AppData\\Local\\Temp\\ipykernel_86652\\21544151.py:4: FutureWarning: The frame.append method is deprecated and will be removed from pandas in a future version. Use pandas.concat instead.\n",
      "  final = final.append(df, ignore_index=True)\n"
     ]
    },
    {
     "name": "stdout",
     "output_type": "stream",
     "text": [
      "[*********************100%***********************]  1 of 1 completed\n",
      "[*********************100%***********************]  1 of 1 completed\n",
      "[*********************100%***********************]  1 of 1 completed\n",
      "[*********************100%***********************]  1 of 1 completed\n",
      "[*********************100%***********************]  1 of 1 completed\n",
      "[*********************100%***********************]  1 of 1 completed\n",
      "[*********************100%***********************]  1 of 1 completed\n",
      "DALBHARAT.NS\n",
      "[*********************100%***********************]  1 of 1 completed\n"
     ]
    },
    {
     "name": "stderr",
     "output_type": "stream",
     "text": [
      "C:\\Users\\Admin\\AppData\\Local\\Temp\\ipykernel_86652\\21544151.py:4: FutureWarning: The frame.append method is deprecated and will be removed from pandas in a future version. Use pandas.concat instead.\n",
      "  final = final.append(df, ignore_index=True)\n"
     ]
    },
    {
     "name": "stdout",
     "output_type": "stream",
     "text": [
      "[*********************100%***********************]  1 of 1 completed\n",
      "[*********************100%***********************]  1 of 1 completed\n",
      "[*********************100%***********************]  1 of 1 completed\n",
      "[*********************100%***********************]  1 of 1 completed\n",
      "[*********************100%***********************]  1 of 1 completed\n",
      "[*********************100%***********************]  1 of 1 completed\n",
      "[*********************100%***********************]  1 of 1 completed\n",
      "DEEPAKNTR.NS\n",
      "[*********************100%***********************]  1 of 1 completed\n"
     ]
    },
    {
     "name": "stderr",
     "output_type": "stream",
     "text": [
      "C:\\Users\\Admin\\AppData\\Local\\Temp\\ipykernel_86652\\21544151.py:4: FutureWarning: The frame.append method is deprecated and will be removed from pandas in a future version. Use pandas.concat instead.\n",
      "  final = final.append(df, ignore_index=True)\n"
     ]
    },
    {
     "name": "stdout",
     "output_type": "stream",
     "text": [
      "[*********************100%***********************]  1 of 1 completed\n",
      "[*********************100%***********************]  1 of 1 completed\n",
      "[*********************100%***********************]  1 of 1 completed\n",
      "[*********************100%***********************]  1 of 1 completed\n",
      "[*********************100%***********************]  1 of 1 completed\n",
      "[*********************100%***********************]  1 of 1 completed\n",
      "[*********************100%***********************]  1 of 1 completed\n",
      "DIVISLAB.NS\n",
      "[*********************100%***********************]  1 of 1 completed\n"
     ]
    },
    {
     "name": "stderr",
     "output_type": "stream",
     "text": [
      "C:\\Users\\Admin\\AppData\\Local\\Temp\\ipykernel_86652\\21544151.py:4: FutureWarning: The frame.append method is deprecated and will be removed from pandas in a future version. Use pandas.concat instead.\n",
      "  final = final.append(df, ignore_index=True)\n"
     ]
    },
    {
     "name": "stdout",
     "output_type": "stream",
     "text": [
      "[*********************100%***********************]  1 of 1 completed\n",
      "[*********************100%***********************]  1 of 1 completed\n",
      "[*********************100%***********************]  1 of 1 completed\n",
      "[*********************100%***********************]  1 of 1 completed\n",
      "[*********************100%***********************]  1 of 1 completed\n",
      "[*********************100%***********************]  1 of 1 completed\n",
      "[*********************100%***********************]  1 of 1 completed\n",
      "DIXON.NS\n",
      "[*********************100%***********************]  1 of 1 completed\n"
     ]
    },
    {
     "name": "stderr",
     "output_type": "stream",
     "text": [
      "C:\\Users\\Admin\\AppData\\Local\\Temp\\ipykernel_86652\\21544151.py:4: FutureWarning: The frame.append method is deprecated and will be removed from pandas in a future version. Use pandas.concat instead.\n",
      "  final = final.append(df, ignore_index=True)\n"
     ]
    },
    {
     "name": "stdout",
     "output_type": "stream",
     "text": [
      "[*********************100%***********************]  1 of 1 completed\n",
      "[*********************100%***********************]  1 of 1 completed\n",
      "[*********************100%***********************]  1 of 1 completed\n",
      "[*********************100%***********************]  1 of 1 completed\n",
      "[*********************100%***********************]  1 of 1 completed\n",
      "[*********************100%***********************]  1 of 1 completed\n",
      "[*********************100%***********************]  1 of 1 completed\n",
      "LALPATHLAB.NS\n",
      "[*********************100%***********************]  1 of 1 completed\n"
     ]
    },
    {
     "name": "stderr",
     "output_type": "stream",
     "text": [
      "C:\\Users\\Admin\\AppData\\Local\\Temp\\ipykernel_86652\\21544151.py:4: FutureWarning: The frame.append method is deprecated and will be removed from pandas in a future version. Use pandas.concat instead.\n",
      "  final = final.append(df, ignore_index=True)\n"
     ]
    },
    {
     "name": "stdout",
     "output_type": "stream",
     "text": [
      "[*********************100%***********************]  1 of 1 completed\n",
      "[*********************100%***********************]  1 of 1 completed\n",
      "[*********************100%***********************]  1 of 1 completed\n",
      "[*********************100%***********************]  1 of 1 completed\n",
      "[*********************100%***********************]  1 of 1 completed\n",
      "[*********************100%***********************]  1 of 1 completed\n",
      "[*********************100%***********************]  1 of 1 completed\n",
      "DRREDDY.NS\n",
      "[*********************100%***********************]  1 of 1 completed"
     ]
    },
    {
     "name": "stderr",
     "output_type": "stream",
     "text": [
      "C:\\Users\\Admin\\AppData\\Local\\Temp\\ipykernel_86652\\21544151.py:4: FutureWarning: The frame.append method is deprecated and will be removed from pandas in a future version. Use pandas.concat instead.\n",
      "  final = final.append(df, ignore_index=True)\n"
     ]
    },
    {
     "name": "stdout",
     "output_type": "stream",
     "text": [
      "\n",
      "[*********************100%***********************]  1 of 1 completed\n",
      "[*********************100%***********************]  1 of 1 completed\n",
      "[*********************100%***********************]  1 of 1 completed\n",
      "[*********************100%***********************]  1 of 1 completed\n",
      "[*********************100%***********************]  1 of 1 completed\n",
      "[*********************100%***********************]  1 of 1 completed\n",
      "[*********************100%***********************]  1 of 1 completed\n",
      "EICHERMOT.NS\n",
      "[*********************100%***********************]  1 of 1 completed"
     ]
    },
    {
     "name": "stderr",
     "output_type": "stream",
     "text": [
      "C:\\Users\\Admin\\AppData\\Local\\Temp\\ipykernel_86652\\21544151.py:4: FutureWarning: The frame.append method is deprecated and will be removed from pandas in a future version. Use pandas.concat instead.\n",
      "  final = final.append(df, ignore_index=True)\n"
     ]
    },
    {
     "name": "stdout",
     "output_type": "stream",
     "text": [
      "\n",
      "[*********************100%***********************]  1 of 1 completed\n",
      "[*********************100%***********************]  1 of 1 completed\n",
      "[*********************100%***********************]  1 of 1 completed\n",
      "[*********************100%***********************]  1 of 1 completed\n",
      "[*********************100%***********************]  1 of 1 completed\n",
      "[*********************100%***********************]  1 of 1 completed\n",
      "[*********************100%***********************]  1 of 1 completed\n",
      "EMAMILTD.NS\n",
      "[*********************100%***********************]  1 of 1 completed\n"
     ]
    },
    {
     "name": "stderr",
     "output_type": "stream",
     "text": [
      "C:\\Users\\Admin\\AppData\\Local\\Temp\\ipykernel_86652\\21544151.py:4: FutureWarning: The frame.append method is deprecated and will be removed from pandas in a future version. Use pandas.concat instead.\n",
      "  final = final.append(df, ignore_index=True)\n"
     ]
    },
    {
     "name": "stdout",
     "output_type": "stream",
     "text": [
      "[*********************100%***********************]  1 of 1 completed\n",
      "[*********************100%***********************]  1 of 1 completed\n",
      "[*********************100%***********************]  1 of 1 completed\n",
      "[*********************100%***********************]  1 of 1 completed\n",
      "[*********************100%***********************]  1 of 1 completed\n",
      "[*********************100%***********************]  1 of 1 completed\n",
      "[*********************100%***********************]  1 of 1 completed\n",
      "ESCORTS.NS\n"
     ]
    },
    {
     "name": "stderr",
     "output_type": "stream",
     "text": [
      "C:\\Users\\Admin\\AppData\\Local\\Temp\\ipykernel_86652\\21544151.py:4: FutureWarning: The frame.append method is deprecated and will be removed from pandas in a future version. Use pandas.concat instead.\n",
      "  final = final.append(df, ignore_index=True)\n"
     ]
    },
    {
     "name": "stdout",
     "output_type": "stream",
     "text": [
      "[*********************100%***********************]  1 of 1 completed\n",
      "[*********************100%***********************]  1 of 1 completed\n",
      "[*********************100%***********************]  1 of 1 completed\n",
      "[*********************100%***********************]  1 of 1 completed\n",
      "[*********************100%***********************]  1 of 1 completed\n",
      "[*********************100%***********************]  1 of 1 completed\n",
      "[*********************100%***********************]  1 of 1 completed\n",
      "[*********************100%***********************]  1 of 1 completed\n",
      "EXIDEIND.NS\n"
     ]
    },
    {
     "name": "stderr",
     "output_type": "stream",
     "text": [
      "C:\\Users\\Admin\\AppData\\Local\\Temp\\ipykernel_86652\\21544151.py:4: FutureWarning: The frame.append method is deprecated and will be removed from pandas in a future version. Use pandas.concat instead.\n",
      "  final = final.append(df, ignore_index=True)\n"
     ]
    },
    {
     "name": "stdout",
     "output_type": "stream",
     "text": [
      "[*********************100%***********************]  1 of 1 completed\n",
      "[*********************100%***********************]  1 of 1 completed\n",
      "[*********************100%***********************]  1 of 1 completed\n",
      "[*********************100%***********************]  1 of 1 completed\n",
      "[*********************100%***********************]  1 of 1 completed\n",
      "[*********************100%***********************]  1 of 1 completed\n",
      "[*********************100%***********************]  1 of 1 completed\n",
      "[*********************100%***********************]  1 of 1 completed\n",
      "NYKAA.NS\n"
     ]
    },
    {
     "name": "stderr",
     "output_type": "stream",
     "text": [
      "C:\\Users\\Admin\\AppData\\Local\\Temp\\ipykernel_86652\\21544151.py:4: FutureWarning: The frame.append method is deprecated and will be removed from pandas in a future version. Use pandas.concat instead.\n",
      "  final = final.append(df, ignore_index=True)\n"
     ]
    },
    {
     "name": "stdout",
     "output_type": "stream",
     "text": [
      "[*********************100%***********************]  1 of 1 completed\n",
      "[*********************100%***********************]  1 of 1 completed\n",
      "[*********************100%***********************]  1 of 1 completed\n",
      "[*********************100%***********************]  1 of 1 completed\n",
      "[*********************100%***********************]  1 of 1 completed\n",
      "[*********************100%***********************]  1 of 1 completed\n",
      "[*********************100%***********************]  1 of 1 completed\n",
      "[*********************100%***********************]  1 of 1 completed\n",
      "FEDERALBNK.NS\n",
      "[*********************100%***********************]  1 of 1 completed\n"
     ]
    },
    {
     "name": "stderr",
     "output_type": "stream",
     "text": [
      "C:\\Users\\Admin\\AppData\\Local\\Temp\\ipykernel_86652\\21544151.py:4: FutureWarning: The frame.append method is deprecated and will be removed from pandas in a future version. Use pandas.concat instead.\n",
      "  final = final.append(df, ignore_index=True)\n"
     ]
    },
    {
     "name": "stdout",
     "output_type": "stream",
     "text": [
      "[*********************100%***********************]  1 of 1 completed\n",
      "[*********************100%***********************]  1 of 1 completed\n",
      "[*********************100%***********************]  1 of 1 completed\n",
      "[*********************100%***********************]  1 of 1 completed\n",
      "[*********************100%***********************]  1 of 1 completed\n",
      "[*********************100%***********************]  1 of 1 completed\n",
      "[*********************100%***********************]  1 of 1 completed\n",
      "FORTIS.NS\n",
      "[*********************100%***********************]  1 of 1 completed\n"
     ]
    },
    {
     "name": "stderr",
     "output_type": "stream",
     "text": [
      "C:\\Users\\Admin\\AppData\\Local\\Temp\\ipykernel_86652\\21544151.py:4: FutureWarning: The frame.append method is deprecated and will be removed from pandas in a future version. Use pandas.concat instead.\n",
      "  final = final.append(df, ignore_index=True)\n"
     ]
    },
    {
     "name": "stdout",
     "output_type": "stream",
     "text": [
      "[*********************100%***********************]  1 of 1 completed\n",
      "[*********************100%***********************]  1 of 1 completed\n",
      "[*********************100%***********************]  1 of 1 completed\n",
      "[*********************100%***********************]  1 of 1 completed\n",
      "[*********************100%***********************]  1 of 1 completed\n",
      "[*********************100%***********************]  1 of 1 completed\n",
      "[*********************100%***********************]  1 of 1 completed\n",
      "GAIL.NS\n",
      "[*********************100%***********************]  1 of 1 completed\n"
     ]
    },
    {
     "name": "stderr",
     "output_type": "stream",
     "text": [
      "C:\\Users\\Admin\\AppData\\Local\\Temp\\ipykernel_86652\\21544151.py:4: FutureWarning: The frame.append method is deprecated and will be removed from pandas in a future version. Use pandas.concat instead.\n",
      "  final = final.append(df, ignore_index=True)\n"
     ]
    },
    {
     "name": "stdout",
     "output_type": "stream",
     "text": [
      "[*********************100%***********************]  1 of 1 completed\n",
      "[*********************100%***********************]  1 of 1 completed\n",
      "[*********************100%***********************]  1 of 1 completed\n",
      "[*********************100%***********************]  1 of 1 completed\n",
      "[*********************100%***********************]  1 of 1 completed\n",
      "[*********************100%***********************]  1 of 1 completed\n",
      "[*********************100%***********************]  1 of 1 completed\n",
      "GLAND.NS\n",
      "[*********************100%***********************]  1 of 1 completed\n"
     ]
    },
    {
     "name": "stderr",
     "output_type": "stream",
     "text": [
      "C:\\Users\\Admin\\AppData\\Local\\Temp\\ipykernel_86652\\21544151.py:4: FutureWarning: The frame.append method is deprecated and will be removed from pandas in a future version. Use pandas.concat instead.\n",
      "  final = final.append(df, ignore_index=True)\n"
     ]
    },
    {
     "name": "stdout",
     "output_type": "stream",
     "text": [
      "[*********************100%***********************]  1 of 1 completed\n",
      "[*********************100%***********************]  1 of 1 completed\n",
      "[*********************100%***********************]  1 of 1 completed\n",
      "[*********************100%***********************]  1 of 1 completed\n",
      "[*********************100%***********************]  1 of 1 completed\n",
      "[*********************100%***********************]  1 of 1 completed\n",
      "[*********************100%***********************]  1 of 1 completed\n",
      "GLENMARK.NS\n",
      "[*********************100%***********************]  1 of 1 completed\n"
     ]
    },
    {
     "name": "stderr",
     "output_type": "stream",
     "text": [
      "C:\\Users\\Admin\\AppData\\Local\\Temp\\ipykernel_86652\\21544151.py:4: FutureWarning: The frame.append method is deprecated and will be removed from pandas in a future version. Use pandas.concat instead.\n",
      "  final = final.append(df, ignore_index=True)\n"
     ]
    },
    {
     "name": "stdout",
     "output_type": "stream",
     "text": [
      "[*********************100%***********************]  1 of 1 completed\n",
      "[*********************100%***********************]  1 of 1 completed\n",
      "[*********************100%***********************]  1 of 1 completed\n",
      "[*********************100%***********************]  1 of 1 completed\n",
      "[*********************100%***********************]  1 of 1 completed\n",
      "[*********************100%***********************]  1 of 1 completed\n",
      "[*********************100%***********************]  1 of 1 completed\n",
      "GODREJCP.NS\n"
     ]
    },
    {
     "name": "stderr",
     "output_type": "stream",
     "text": [
      "C:\\Users\\Admin\\AppData\\Local\\Temp\\ipykernel_86652\\21544151.py:4: FutureWarning: The frame.append method is deprecated and will be removed from pandas in a future version. Use pandas.concat instead.\n",
      "  final = final.append(df, ignore_index=True)\n"
     ]
    },
    {
     "name": "stdout",
     "output_type": "stream",
     "text": [
      "[*********************100%***********************]  1 of 1 completed\n",
      "[*********************100%***********************]  1 of 1 completed\n",
      "[*********************100%***********************]  1 of 1 completed\n",
      "[*********************100%***********************]  1 of 1 completed\n",
      "[*********************100%***********************]  1 of 1 completed\n",
      "[*********************100%***********************]  1 of 1 completed\n",
      "[*********************100%***********************]  1 of 1 completed\n",
      "[*********************100%***********************]  1 of 1 completed\n",
      "GODREJPROP.NS\n",
      "[*********************100%***********************]  1 of 1 completed\n"
     ]
    },
    {
     "name": "stderr",
     "output_type": "stream",
     "text": [
      "C:\\Users\\Admin\\AppData\\Local\\Temp\\ipykernel_86652\\21544151.py:4: FutureWarning: The frame.append method is deprecated and will be removed from pandas in a future version. Use pandas.concat instead.\n",
      "  final = final.append(df, ignore_index=True)\n"
     ]
    },
    {
     "name": "stdout",
     "output_type": "stream",
     "text": [
      "[*********************100%***********************]  1 of 1 completed\n",
      "[*********************100%***********************]  1 of 1 completed\n",
      "[*********************100%***********************]  1 of 1 completed\n",
      "[*********************100%***********************]  1 of 1 completed\n",
      "[*********************100%***********************]  1 of 1 completed\n",
      "[*********************100%***********************]  1 of 1 completed\n",
      "[*********************100%***********************]  1 of 1 completed\n",
      "GRASIM.NS\n",
      "[*********************100%***********************]  1 of 1 completed\n"
     ]
    },
    {
     "name": "stderr",
     "output_type": "stream",
     "text": [
      "C:\\Users\\Admin\\AppData\\Local\\Temp\\ipykernel_86652\\21544151.py:4: FutureWarning: The frame.append method is deprecated and will be removed from pandas in a future version. Use pandas.concat instead.\n",
      "  final = final.append(df, ignore_index=True)\n"
     ]
    },
    {
     "name": "stdout",
     "output_type": "stream",
     "text": [
      "[*********************100%***********************]  1 of 1 completed\n",
      "[*********************100%***********************]  1 of 1 completed\n",
      "[*********************100%***********************]  1 of 1 completed\n",
      "[*********************100%***********************]  1 of 1 completed\n",
      "[*********************100%***********************]  1 of 1 completed\n",
      "[*********************100%***********************]  1 of 1 completed\n",
      "[*********************100%***********************]  1 of 1 completed\n",
      "GUJGASLTD.NS\n",
      "[*********************100%***********************]  1 of 1 completed\n"
     ]
    },
    {
     "name": "stderr",
     "output_type": "stream",
     "text": [
      "C:\\Users\\Admin\\AppData\\Local\\Temp\\ipykernel_86652\\21544151.py:4: FutureWarning: The frame.append method is deprecated and will be removed from pandas in a future version. Use pandas.concat instead.\n",
      "  final = final.append(df, ignore_index=True)\n"
     ]
    },
    {
     "name": "stdout",
     "output_type": "stream",
     "text": [
      "[*********************100%***********************]  1 of 1 completed\n",
      "[*********************100%***********************]  1 of 1 completed\n",
      "[*********************100%***********************]  1 of 1 completed\n",
      "[*********************100%***********************]  1 of 1 completed\n",
      "[*********************100%***********************]  1 of 1 completed\n",
      "[*********************100%***********************]  1 of 1 completed\n",
      "[*********************100%***********************]  1 of 1 completed\n",
      "GSPL.NS\n"
     ]
    },
    {
     "name": "stderr",
     "output_type": "stream",
     "text": [
      "C:\\Users\\Admin\\AppData\\Local\\Temp\\ipykernel_86652\\21544151.py:4: FutureWarning: The frame.append method is deprecated and will be removed from pandas in a future version. Use pandas.concat instead.\n",
      "  final = final.append(df, ignore_index=True)\n"
     ]
    },
    {
     "name": "stdout",
     "output_type": "stream",
     "text": [
      "[*********************100%***********************]  1 of 1 completed\n",
      "[*********************100%***********************]  1 of 1 completed\n",
      "[*********************100%***********************]  1 of 1 completed\n",
      "[*********************100%***********************]  1 of 1 completed\n",
      "[*********************100%***********************]  1 of 1 completed\n",
      "[*********************100%***********************]  1 of 1 completed\n",
      "[*********************100%***********************]  1 of 1 completed\n",
      "[*********************100%***********************]  1 of 1 completed\n",
      "HCLTECH.NS\n",
      "[*********************100%***********************]  1 of 1 completed\n"
     ]
    },
    {
     "name": "stderr",
     "output_type": "stream",
     "text": [
      "C:\\Users\\Admin\\AppData\\Local\\Temp\\ipykernel_86652\\21544151.py:4: FutureWarning: The frame.append method is deprecated and will be removed from pandas in a future version. Use pandas.concat instead.\n",
      "  final = final.append(df, ignore_index=True)\n"
     ]
    },
    {
     "name": "stdout",
     "output_type": "stream",
     "text": [
      "[*********************100%***********************]  1 of 1 completed\n",
      "[*********************100%***********************]  1 of 1 completed\n",
      "[*********************100%***********************]  1 of 1 completed\n",
      "[*********************100%***********************]  1 of 1 completed\n",
      "[*********************100%***********************]  1 of 1 completed\n",
      "[*********************100%***********************]  1 of 1 completed\n",
      "[*********************100%***********************]  1 of 1 completed\n",
      "HDFCAMC.NS\n",
      "[*********************100%***********************]  1 of 1 completed\n"
     ]
    },
    {
     "name": "stderr",
     "output_type": "stream",
     "text": [
      "C:\\Users\\Admin\\AppData\\Local\\Temp\\ipykernel_86652\\21544151.py:4: FutureWarning: The frame.append method is deprecated and will be removed from pandas in a future version. Use pandas.concat instead.\n",
      "  final = final.append(df, ignore_index=True)\n"
     ]
    },
    {
     "name": "stdout",
     "output_type": "stream",
     "text": [
      "[*********************100%***********************]  1 of 1 completed\n",
      "[*********************100%***********************]  1 of 1 completed\n",
      "[*********************100%***********************]  1 of 1 completed\n",
      "[*********************100%***********************]  1 of 1 completed\n",
      "[*********************100%***********************]  1 of 1 completed\n",
      "[*********************100%***********************]  1 of 1 completed\n",
      "[*********************100%***********************]  1 of 1 completed\n",
      "HDFCBANK.NS\n",
      "[*********************100%***********************]  1 of 1 completed\n"
     ]
    },
    {
     "name": "stderr",
     "output_type": "stream",
     "text": [
      "C:\\Users\\Admin\\AppData\\Local\\Temp\\ipykernel_86652\\21544151.py:4: FutureWarning: The frame.append method is deprecated and will be removed from pandas in a future version. Use pandas.concat instead.\n",
      "  final = final.append(df, ignore_index=True)\n"
     ]
    },
    {
     "name": "stdout",
     "output_type": "stream",
     "text": [
      "[*********************100%***********************]  1 of 1 completed\n",
      "[*********************100%***********************]  1 of 1 completed\n",
      "[*********************100%***********************]  1 of 1 completed\n",
      "[*********************100%***********************]  1 of 1 completed\n",
      "[*********************100%***********************]  1 of 1 completed\n",
      "[*********************100%***********************]  1 of 1 completed\n",
      "[*********************100%***********************]  1 of 1 completed\n",
      "HDFCLIFE.NS\n",
      "[*********************100%***********************]  1 of 1 completed\n"
     ]
    },
    {
     "name": "stderr",
     "output_type": "stream",
     "text": [
      "C:\\Users\\Admin\\AppData\\Local\\Temp\\ipykernel_86652\\21544151.py:4: FutureWarning: The frame.append method is deprecated and will be removed from pandas in a future version. Use pandas.concat instead.\n",
      "  final = final.append(df, ignore_index=True)\n"
     ]
    },
    {
     "name": "stdout",
     "output_type": "stream",
     "text": [
      "[*********************100%***********************]  1 of 1 completed\n",
      "[*********************100%***********************]  1 of 1 completed\n",
      "[*********************100%***********************]  1 of 1 completed\n",
      "[*********************100%***********************]  1 of 1 completed\n",
      "[*********************100%***********************]  1 of 1 completed\n",
      "[*********************100%***********************]  1 of 1 completed\n",
      "[*********************100%***********************]  1 of 1 completed\n",
      "HAVELLS.NS\n",
      "[*********************100%***********************]  1 of 1 completed\n"
     ]
    },
    {
     "name": "stderr",
     "output_type": "stream",
     "text": [
      "C:\\Users\\Admin\\AppData\\Local\\Temp\\ipykernel_86652\\21544151.py:4: FutureWarning: The frame.append method is deprecated and will be removed from pandas in a future version. Use pandas.concat instead.\n",
      "  final = final.append(df, ignore_index=True)\n"
     ]
    },
    {
     "name": "stdout",
     "output_type": "stream",
     "text": [
      "[*********************100%***********************]  1 of 1 completed\n",
      "[*********************100%***********************]  1 of 1 completed\n",
      "[*********************100%***********************]  1 of 1 completed\n",
      "[*********************100%***********************]  1 of 1 completed\n",
      "[*********************100%***********************]  1 of 1 completed\n",
      "[*********************100%***********************]  1 of 1 completed\n",
      "[*********************100%***********************]  1 of 1 completed\n",
      "HEROMOTOCO.NS\n"
     ]
    },
    {
     "name": "stderr",
     "output_type": "stream",
     "text": [
      "C:\\Users\\Admin\\AppData\\Local\\Temp\\ipykernel_86652\\21544151.py:4: FutureWarning: The frame.append method is deprecated and will be removed from pandas in a future version. Use pandas.concat instead.\n",
      "  final = final.append(df, ignore_index=True)\n"
     ]
    },
    {
     "name": "stdout",
     "output_type": "stream",
     "text": [
      "[*********************100%***********************]  1 of 1 completed\n",
      "[*********************100%***********************]  1 of 1 completed\n",
      "[*********************100%***********************]  1 of 1 completed\n",
      "[*********************100%***********************]  1 of 1 completed\n",
      "[*********************100%***********************]  1 of 1 completed\n",
      "[*********************100%***********************]  1 of 1 completed\n",
      "[*********************100%***********************]  1 of 1 completed\n",
      "[*********************100%***********************]  1 of 1 completed\n",
      "HINDALCO.NS\n",
      "[*********************100%***********************]  1 of 1 completed\n"
     ]
    },
    {
     "name": "stderr",
     "output_type": "stream",
     "text": [
      "C:\\Users\\Admin\\AppData\\Local\\Temp\\ipykernel_86652\\21544151.py:4: FutureWarning: The frame.append method is deprecated and will be removed from pandas in a future version. Use pandas.concat instead.\n",
      "  final = final.append(df, ignore_index=True)\n"
     ]
    },
    {
     "name": "stdout",
     "output_type": "stream",
     "text": [
      "[*********************100%***********************]  1 of 1 completed\n",
      "[*********************100%***********************]  1 of 1 completed\n",
      "[*********************100%***********************]  1 of 1 completed\n",
      "[*********************100%***********************]  1 of 1 completed\n",
      "[*********************100%***********************]  1 of 1 completed\n",
      "[*********************100%***********************]  1 of 1 completed\n",
      "[*********************100%***********************]  1 of 1 completed\n",
      "HAL.NS\n",
      "[*********************100%***********************]  1 of 1 completed\n"
     ]
    },
    {
     "name": "stderr",
     "output_type": "stream",
     "text": [
      "C:\\Users\\Admin\\AppData\\Local\\Temp\\ipykernel_86652\\21544151.py:4: FutureWarning: The frame.append method is deprecated and will be removed from pandas in a future version. Use pandas.concat instead.\n",
      "  final = final.append(df, ignore_index=True)\n"
     ]
    },
    {
     "name": "stdout",
     "output_type": "stream",
     "text": [
      "[*********************100%***********************]  1 of 1 completed\n",
      "[*********************100%***********************]  1 of 1 completed\n",
      "[*********************100%***********************]  1 of 1 completed\n",
      "[*********************100%***********************]  1 of 1 completed\n",
      "[*********************100%***********************]  1 of 1 completed\n",
      "[*********************100%***********************]  1 of 1 completed\n",
      "[*********************100%***********************]  1 of 1 completed\n",
      "HINDPETRO.NS\n",
      "[*********************100%***********************]  1 of 1 completed\n"
     ]
    },
    {
     "name": "stderr",
     "output_type": "stream",
     "text": [
      "C:\\Users\\Admin\\AppData\\Local\\Temp\\ipykernel_86652\\21544151.py:4: FutureWarning: The frame.append method is deprecated and will be removed from pandas in a future version. Use pandas.concat instead.\n",
      "  final = final.append(df, ignore_index=True)\n"
     ]
    },
    {
     "name": "stdout",
     "output_type": "stream",
     "text": [
      "[*********************100%***********************]  1 of 1 completed\n",
      "[*********************100%***********************]  1 of 1 completed\n",
      "[*********************100%***********************]  1 of 1 completed\n",
      "[*********************100%***********************]  1 of 1 completed\n",
      "[*********************100%***********************]  1 of 1 completed\n",
      "[*********************100%***********************]  1 of 1 completed\n",
      "[*********************100%***********************]  1 of 1 completed\n",
      "HINDUNILVR.NS\n",
      "[*********************100%***********************]  1 of 1 completed"
     ]
    },
    {
     "name": "stderr",
     "output_type": "stream",
     "text": [
      "C:\\Users\\Admin\\AppData\\Local\\Temp\\ipykernel_86652\\21544151.py:4: FutureWarning: The frame.append method is deprecated and will be removed from pandas in a future version. Use pandas.concat instead.\n",
      "  final = final.append(df, ignore_index=True)\n"
     ]
    },
    {
     "name": "stdout",
     "output_type": "stream",
     "text": [
      "\n",
      "[*********************100%***********************]  1 of 1 completed\n",
      "[*********************100%***********************]  1 of 1 completed\n",
      "[*********************100%***********************]  1 of 1 completed\n",
      "[*********************100%***********************]  1 of 1 completed\n",
      "[*********************100%***********************]  1 of 1 completed\n",
      "[*********************100%***********************]  1 of 1 completed\n",
      "[*********************100%***********************]  1 of 1 completed\n",
      "HINDZINC.NS\n",
      "[*********************100%***********************]  1 of 1 completed\n"
     ]
    },
    {
     "name": "stderr",
     "output_type": "stream",
     "text": [
      "C:\\Users\\Admin\\AppData\\Local\\Temp\\ipykernel_86652\\21544151.py:4: FutureWarning: The frame.append method is deprecated and will be removed from pandas in a future version. Use pandas.concat instead.\n",
      "  final = final.append(df, ignore_index=True)\n"
     ]
    },
    {
     "name": "stdout",
     "output_type": "stream",
     "text": [
      "[*********************100%***********************]  1 of 1 completed\n",
      "[*********************100%***********************]  1 of 1 completed\n",
      "[*********************100%***********************]  1 of 1 completed\n",
      "[*********************100%***********************]  1 of 1 completed\n",
      "[*********************100%***********************]  1 of 1 completed\n",
      "[*********************100%***********************]  1 of 1 completed\n",
      "[*********************100%***********************]  1 of 1 completed\n",
      "HONAUT.NS\n",
      "[*********************100%***********************]  1 of 1 completed\n"
     ]
    },
    {
     "name": "stderr",
     "output_type": "stream",
     "text": [
      "C:\\Users\\Admin\\AppData\\Local\\Temp\\ipykernel_86652\\21544151.py:4: FutureWarning: The frame.append method is deprecated and will be removed from pandas in a future version. Use pandas.concat instead.\n",
      "  final = final.append(df, ignore_index=True)\n"
     ]
    },
    {
     "name": "stdout",
     "output_type": "stream",
     "text": [
      "[*********************100%***********************]  1 of 1 completed\n",
      "[*********************100%***********************]  1 of 1 completed\n",
      "[*********************100%***********************]  1 of 1 completed\n",
      "[*********************100%***********************]  1 of 1 completed\n",
      "[*********************100%***********************]  1 of 1 completed\n",
      "[*********************100%***********************]  1 of 1 completed\n",
      "[*********************100%***********************]  1 of 1 completed\n",
      "HDFC.NS\n",
      "[*********************100%***********************]  1 of 1 completed\n"
     ]
    },
    {
     "name": "stderr",
     "output_type": "stream",
     "text": [
      "C:\\Users\\Admin\\AppData\\Local\\Temp\\ipykernel_86652\\21544151.py:4: FutureWarning: The frame.append method is deprecated and will be removed from pandas in a future version. Use pandas.concat instead.\n",
      "  final = final.append(df, ignore_index=True)\n"
     ]
    },
    {
     "name": "stdout",
     "output_type": "stream",
     "text": [
      "[*********************100%***********************]  1 of 1 completed\n",
      "[*********************100%***********************]  1 of 1 completed\n",
      "[*********************100%***********************]  1 of 1 completed\n",
      "[*********************100%***********************]  1 of 1 completed\n",
      "[*********************100%***********************]  1 of 1 completed\n",
      "[*********************100%***********************]  1 of 1 completed\n",
      "[*********************100%***********************]  1 of 1 completed\n",
      "ICICIBANK.NS\n",
      "[*********************100%***********************]  1 of 1 completed\n"
     ]
    },
    {
     "name": "stderr",
     "output_type": "stream",
     "text": [
      "C:\\Users\\Admin\\AppData\\Local\\Temp\\ipykernel_86652\\21544151.py:4: FutureWarning: The frame.append method is deprecated and will be removed from pandas in a future version. Use pandas.concat instead.\n",
      "  final = final.append(df, ignore_index=True)\n"
     ]
    },
    {
     "name": "stdout",
     "output_type": "stream",
     "text": [
      "[*********************100%***********************]  1 of 1 completed\n",
      "[*********************100%***********************]  1 of 1 completed\n",
      "[*********************100%***********************]  1 of 1 completed\n",
      "[*********************100%***********************]  1 of 1 completed\n",
      "[*********************100%***********************]  1 of 1 completed\n",
      "[*********************100%***********************]  1 of 1 completed\n",
      "[*********************100%***********************]  1 of 1 completed\n",
      "ICICIGI.NS\n"
     ]
    },
    {
     "name": "stderr",
     "output_type": "stream",
     "text": [
      "C:\\Users\\Admin\\AppData\\Local\\Temp\\ipykernel_86652\\21544151.py:4: FutureWarning: The frame.append method is deprecated and will be removed from pandas in a future version. Use pandas.concat instead.\n",
      "  final = final.append(df, ignore_index=True)\n"
     ]
    },
    {
     "name": "stdout",
     "output_type": "stream",
     "text": [
      "[*********************100%***********************]  1 of 1 completed\n",
      "[*********************100%***********************]  1 of 1 completed\n",
      "[*********************100%***********************]  1 of 1 completed\n",
      "[*********************100%***********************]  1 of 1 completed\n",
      "[*********************100%***********************]  1 of 1 completed\n",
      "[*********************100%***********************]  1 of 1 completed\n",
      "[*********************100%***********************]  1 of 1 completed\n",
      "[*********************100%***********************]  1 of 1 completed\n",
      "ICICIPRULI.NS\n",
      "[*********************100%***********************]  1 of 1 completed\n"
     ]
    },
    {
     "name": "stderr",
     "output_type": "stream",
     "text": [
      "C:\\Users\\Admin\\AppData\\Local\\Temp\\ipykernel_86652\\21544151.py:4: FutureWarning: The frame.append method is deprecated and will be removed from pandas in a future version. Use pandas.concat instead.\n",
      "  final = final.append(df, ignore_index=True)\n"
     ]
    },
    {
     "name": "stdout",
     "output_type": "stream",
     "text": [
      "[*********************100%***********************]  1 of 1 completed\n",
      "[*********************100%***********************]  1 of 1 completed\n",
      "[*********************100%***********************]  1 of 1 completed\n",
      "[*********************100%***********************]  1 of 1 completed\n",
      "[*********************100%***********************]  1 of 1 completed\n",
      "[*********************100%***********************]  1 of 1 completed\n",
      "[*********************100%***********************]  1 of 1 completed\n",
      "ISEC.NS\n"
     ]
    },
    {
     "name": "stderr",
     "output_type": "stream",
     "text": [
      "C:\\Users\\Admin\\AppData\\Local\\Temp\\ipykernel_86652\\21544151.py:4: FutureWarning: The frame.append method is deprecated and will be removed from pandas in a future version. Use pandas.concat instead.\n",
      "  final = final.append(df, ignore_index=True)\n"
     ]
    },
    {
     "name": "stdout",
     "output_type": "stream",
     "text": [
      "[*********************100%***********************]  1 of 1 completed\n",
      "[*********************100%***********************]  1 of 1 completed\n",
      "[*********************100%***********************]  1 of 1 completed\n",
      "[*********************100%***********************]  1 of 1 completed\n",
      "[*********************100%***********************]  1 of 1 completed\n",
      "[*********************100%***********************]  1 of 1 completed\n",
      "[*********************100%***********************]  1 of 1 completed\n",
      "[*********************100%***********************]  1 of 1 completed\n",
      "IDBI.NS\n",
      "[*********************100%***********************]  1 of 1 completed"
     ]
    },
    {
     "name": "stderr",
     "output_type": "stream",
     "text": [
      "C:\\Users\\Admin\\AppData\\Local\\Temp\\ipykernel_86652\\21544151.py:4: FutureWarning: The frame.append method is deprecated and will be removed from pandas in a future version. Use pandas.concat instead.\n",
      "  final = final.append(df, ignore_index=True)\n"
     ]
    },
    {
     "name": "stdout",
     "output_type": "stream",
     "text": [
      "\n",
      "[*********************100%***********************]  1 of 1 completed\n",
      "[*********************100%***********************]  1 of 1 completed\n",
      "[*********************100%***********************]  1 of 1 completed\n",
      "[*********************100%***********************]  1 of 1 completed\n",
      "[*********************100%***********************]  1 of 1 completed\n",
      "[*********************100%***********************]  1 of 1 completed\n",
      "[*********************100%***********************]  1 of 1 completed\n",
      "IDFCFIRSTB.NS\n",
      "[*********************100%***********************]  1 of 1 completed\n"
     ]
    },
    {
     "name": "stderr",
     "output_type": "stream",
     "text": [
      "C:\\Users\\Admin\\AppData\\Local\\Temp\\ipykernel_86652\\21544151.py:4: FutureWarning: The frame.append method is deprecated and will be removed from pandas in a future version. Use pandas.concat instead.\n",
      "  final = final.append(df, ignore_index=True)\n"
     ]
    },
    {
     "name": "stdout",
     "output_type": "stream",
     "text": [
      "[*********************100%***********************]  1 of 1 completed\n",
      "[*********************100%***********************]  1 of 1 completed\n",
      "[*********************100%***********************]  1 of 1 completed\n",
      "[*********************100%***********************]  1 of 1 completed\n",
      "[*********************100%***********************]  1 of 1 completed\n",
      "[*********************100%***********************]  1 of 1 completed\n",
      "[*********************100%***********************]  1 of 1 completed\n",
      "ITC.NS\n",
      "[*********************100%***********************]  1 of 1 completed\n"
     ]
    },
    {
     "name": "stderr",
     "output_type": "stream",
     "text": [
      "C:\\Users\\Admin\\AppData\\Local\\Temp\\ipykernel_86652\\21544151.py:4: FutureWarning: The frame.append method is deprecated and will be removed from pandas in a future version. Use pandas.concat instead.\n",
      "  final = final.append(df, ignore_index=True)\n"
     ]
    },
    {
     "name": "stdout",
     "output_type": "stream",
     "text": [
      "[*********************100%***********************]  1 of 1 completed\n",
      "[*********************100%***********************]  1 of 1 completed\n",
      "[*********************100%***********************]  1 of 1 completed\n",
      "[*********************100%***********************]  1 of 1 completed\n",
      "[*********************100%***********************]  1 of 1 completed\n",
      "[*********************100%***********************]  1 of 1 completed\n",
      "[*********************100%***********************]  1 of 1 completed\n",
      "INDIAMART.NS\n",
      "[*********************100%***********************]  1 of 1 completed\n"
     ]
    },
    {
     "name": "stderr",
     "output_type": "stream",
     "text": [
      "C:\\Users\\Admin\\AppData\\Local\\Temp\\ipykernel_86652\\21544151.py:4: FutureWarning: The frame.append method is deprecated and will be removed from pandas in a future version. Use pandas.concat instead.\n",
      "  final = final.append(df, ignore_index=True)\n"
     ]
    },
    {
     "name": "stdout",
     "output_type": "stream",
     "text": [
      "[*********************100%***********************]  1 of 1 completed\n",
      "[*********************100%***********************]  1 of 1 completed\n",
      "[*********************100%***********************]  1 of 1 completed\n",
      "[*********************100%***********************]  1 of 1 completed\n",
      "[*********************100%***********************]  1 of 1 completed\n",
      "[*********************100%***********************]  1 of 1 completed\n",
      "[*********************100%***********************]  1 of 1 completed\n",
      "INDIANB.NS\n",
      "[*********************100%***********************]  1 of 1 completed"
     ]
    },
    {
     "name": "stderr",
     "output_type": "stream",
     "text": [
      "C:\\Users\\Admin\\AppData\\Local\\Temp\\ipykernel_86652\\21544151.py:4: FutureWarning: The frame.append method is deprecated and will be removed from pandas in a future version. Use pandas.concat instead.\n",
      "  final = final.append(df, ignore_index=True)\n"
     ]
    },
    {
     "name": "stdout",
     "output_type": "stream",
     "text": [
      "\n",
      "[*********************100%***********************]  1 of 1 completed\n",
      "[*********************100%***********************]  1 of 1 completed\n",
      "[*********************100%***********************]  1 of 1 completed\n",
      "[*********************100%***********************]  1 of 1 completed\n",
      "[*********************100%***********************]  1 of 1 completed\n",
      "[*********************100%***********************]  1 of 1 completed\n",
      "[*********************100%***********************]  1 of 1 completed\n",
      "IEX.NS\n",
      "[*********************100%***********************]  1 of 1 completed\n"
     ]
    },
    {
     "name": "stderr",
     "output_type": "stream",
     "text": [
      "C:\\Users\\Admin\\AppData\\Local\\Temp\\ipykernel_86652\\21544151.py:4: FutureWarning: The frame.append method is deprecated and will be removed from pandas in a future version. Use pandas.concat instead.\n",
      "  final = final.append(df, ignore_index=True)\n"
     ]
    },
    {
     "name": "stdout",
     "output_type": "stream",
     "text": [
      "[*********************100%***********************]  1 of 1 completed\n",
      "[*********************100%***********************]  1 of 1 completed\n",
      "[*********************100%***********************]  1 of 1 completed\n",
      "[*********************100%***********************]  1 of 1 completed\n",
      "[*********************100%***********************]  1 of 1 completed\n",
      "[*********************100%***********************]  1 of 1 completed\n",
      "[*********************100%***********************]  1 of 1 completed\n",
      "INDHOTEL.NS\n",
      "[*********************100%***********************]  1 of 1 completed"
     ]
    },
    {
     "name": "stderr",
     "output_type": "stream",
     "text": [
      "C:\\Users\\Admin\\AppData\\Local\\Temp\\ipykernel_86652\\21544151.py:4: FutureWarning: The frame.append method is deprecated and will be removed from pandas in a future version. Use pandas.concat instead.\n",
      "  final = final.append(df, ignore_index=True)\n"
     ]
    },
    {
     "name": "stdout",
     "output_type": "stream",
     "text": [
      "\n",
      "[*********************100%***********************]  1 of 1 completed\n",
      "[*********************100%***********************]  1 of 1 completed\n",
      "[*********************100%***********************]  1 of 1 completed\n",
      "[*********************100%***********************]  1 of 1 completed\n",
      "[*********************100%***********************]  1 of 1 completed\n",
      "[*********************100%***********************]  1 of 1 completed\n",
      "[*********************100%***********************]  1 of 1 completed\n",
      "IOC.NS\n",
      "[*********************100%***********************]  1 of 1 completed\n"
     ]
    },
    {
     "name": "stderr",
     "output_type": "stream",
     "text": [
      "C:\\Users\\Admin\\AppData\\Local\\Temp\\ipykernel_86652\\21544151.py:4: FutureWarning: The frame.append method is deprecated and will be removed from pandas in a future version. Use pandas.concat instead.\n",
      "  final = final.append(df, ignore_index=True)\n"
     ]
    },
    {
     "name": "stdout",
     "output_type": "stream",
     "text": [
      "[*********************100%***********************]  1 of 1 completed\n",
      "[*********************100%***********************]  1 of 1 completed\n",
      "[*********************100%***********************]  1 of 1 completed\n",
      "[*********************100%***********************]  1 of 1 completed\n",
      "[*********************100%***********************]  1 of 1 completed\n",
      "[*********************100%***********************]  1 of 1 completed\n",
      "[*********************100%***********************]  1 of 1 completed\n",
      "IRCTC.NS\n",
      "[*********************100%***********************]  1 of 1 completed\n"
     ]
    },
    {
     "name": "stderr",
     "output_type": "stream",
     "text": [
      "C:\\Users\\Admin\\AppData\\Local\\Temp\\ipykernel_86652\\21544151.py:4: FutureWarning: The frame.append method is deprecated and will be removed from pandas in a future version. Use pandas.concat instead.\n",
      "  final = final.append(df, ignore_index=True)\n"
     ]
    },
    {
     "name": "stdout",
     "output_type": "stream",
     "text": [
      "[*********************100%***********************]  1 of 1 completed\n",
      "[*********************100%***********************]  1 of 1 completed\n",
      "[*********************100%***********************]  1 of 1 completed\n",
      "[*********************100%***********************]  1 of 1 completed\n",
      "[*********************100%***********************]  1 of 1 completed\n",
      "[*********************100%***********************]  1 of 1 completed\n",
      "[*********************100%***********************]  1 of 1 completed\n",
      "IGL.NS\n",
      "[*********************100%***********************]  1 of 1 completed\n"
     ]
    },
    {
     "name": "stderr",
     "output_type": "stream",
     "text": [
      "C:\\Users\\Admin\\AppData\\Local\\Temp\\ipykernel_86652\\21544151.py:4: FutureWarning: The frame.append method is deprecated and will be removed from pandas in a future version. Use pandas.concat instead.\n",
      "  final = final.append(df, ignore_index=True)\n"
     ]
    },
    {
     "name": "stdout",
     "output_type": "stream",
     "text": [
      "[*********************100%***********************]  1 of 1 completed\n",
      "[*********************100%***********************]  1 of 1 completed\n",
      "[*********************100%***********************]  1 of 1 completed\n",
      "[*********************100%***********************]  1 of 1 completed\n",
      "[*********************100%***********************]  1 of 1 completed\n",
      "[*********************100%***********************]  1 of 1 completed\n",
      "[*********************100%***********************]  1 of 1 completed\n",
      "INDUSTOWER.NS\n",
      "[*********************100%***********************]  1 of 1 completed"
     ]
    },
    {
     "name": "stderr",
     "output_type": "stream",
     "text": [
      "C:\\Users\\Admin\\AppData\\Local\\Temp\\ipykernel_86652\\21544151.py:4: FutureWarning: The frame.append method is deprecated and will be removed from pandas in a future version. Use pandas.concat instead.\n",
      "  final = final.append(df, ignore_index=True)\n"
     ]
    },
    {
     "name": "stdout",
     "output_type": "stream",
     "text": [
      "\n",
      "[*********************100%***********************]  1 of 1 completed\n",
      "[*********************100%***********************]  1 of 1 completed\n",
      "[*********************100%***********************]  1 of 1 completed\n",
      "[*********************100%***********************]  1 of 1 completed\n",
      "[*********************100%***********************]  1 of 1 completed\n",
      "[*********************100%***********************]  1 of 1 completed\n",
      "[*********************100%***********************]  1 of 1 completed\n",
      "INDUSINDBK.NS\n",
      "[*********************100%***********************]  1 of 1 completed\n"
     ]
    },
    {
     "name": "stderr",
     "output_type": "stream",
     "text": [
      "C:\\Users\\Admin\\AppData\\Local\\Temp\\ipykernel_86652\\21544151.py:4: FutureWarning: The frame.append method is deprecated and will be removed from pandas in a future version. Use pandas.concat instead.\n",
      "  final = final.append(df, ignore_index=True)\n"
     ]
    },
    {
     "name": "stdout",
     "output_type": "stream",
     "text": [
      "[*********************100%***********************]  1 of 1 completed\n",
      "[*********************100%***********************]  1 of 1 completed\n",
      "[*********************100%***********************]  1 of 1 completed\n",
      "[*********************100%***********************]  1 of 1 completed\n",
      "[*********************100%***********************]  1 of 1 completed\n",
      "[*********************100%***********************]  1 of 1 completed\n",
      "[*********************100%***********************]  1 of 1 completed\n",
      "NAUKRI.NS\n",
      "[*********************100%***********************]  1 of 1 completed\n"
     ]
    },
    {
     "name": "stderr",
     "output_type": "stream",
     "text": [
      "C:\\Users\\Admin\\AppData\\Local\\Temp\\ipykernel_86652\\21544151.py:4: FutureWarning: The frame.append method is deprecated and will be removed from pandas in a future version. Use pandas.concat instead.\n",
      "  final = final.append(df, ignore_index=True)\n"
     ]
    },
    {
     "name": "stdout",
     "output_type": "stream",
     "text": [
      "[*********************100%***********************]  1 of 1 completed\n",
      "[*********************100%***********************]  1 of 1 completed\n",
      "[*********************100%***********************]  1 of 1 completed\n",
      "[*********************100%***********************]  1 of 1 completed\n",
      "[*********************100%***********************]  1 of 1 completed\n",
      "[*********************100%***********************]  1 of 1 completed\n",
      "[*********************100%***********************]  1 of 1 completed\n",
      "INFY.NS\n",
      "[*********************100%***********************]  1 of 1 completed"
     ]
    },
    {
     "name": "stderr",
     "output_type": "stream",
     "text": [
      "C:\\Users\\Admin\\AppData\\Local\\Temp\\ipykernel_86652\\21544151.py:4: FutureWarning: The frame.append method is deprecated and will be removed from pandas in a future version. Use pandas.concat instead.\n",
      "  final = final.append(df, ignore_index=True)\n"
     ]
    },
    {
     "name": "stdout",
     "output_type": "stream",
     "text": [
      "\n",
      "[*********************100%***********************]  1 of 1 completed\n",
      "[*********************100%***********************]  1 of 1 completed\n",
      "[*********************100%***********************]  1 of 1 completed\n",
      "[*********************100%***********************]  1 of 1 completed\n",
      "[*********************100%***********************]  1 of 1 completed\n",
      "[*********************100%***********************]  1 of 1 completed\n",
      "[*********************100%***********************]  1 of 1 completed\n",
      "INDIGO.NS\n"
     ]
    },
    {
     "name": "stderr",
     "output_type": "stream",
     "text": [
      "C:\\Users\\Admin\\AppData\\Local\\Temp\\ipykernel_86652\\21544151.py:4: FutureWarning: The frame.append method is deprecated and will be removed from pandas in a future version. Use pandas.concat instead.\n",
      "  final = final.append(df, ignore_index=True)\n"
     ]
    },
    {
     "name": "stdout",
     "output_type": "stream",
     "text": [
      "[*********************100%***********************]  1 of 1 completed\n",
      "[*********************100%***********************]  1 of 1 completed\n",
      "[*********************100%***********************]  1 of 1 completed\n",
      "[*********************100%***********************]  1 of 1 completed\n",
      "[*********************100%***********************]  1 of 1 completed\n",
      "[*********************100%***********************]  1 of 1 completed\n",
      "[*********************100%***********************]  1 of 1 completed\n",
      "[*********************100%***********************]  1 of 1 completed\n",
      "IPCALAB.NS\n",
      "[*********************100%***********************]  1 of 1 completed\n"
     ]
    },
    {
     "name": "stderr",
     "output_type": "stream",
     "text": [
      "C:\\Users\\Admin\\AppData\\Local\\Temp\\ipykernel_86652\\21544151.py:4: FutureWarning: The frame.append method is deprecated and will be removed from pandas in a future version. Use pandas.concat instead.\n",
      "  final = final.append(df, ignore_index=True)\n"
     ]
    },
    {
     "name": "stdout",
     "output_type": "stream",
     "text": [
      "[*********************100%***********************]  1 of 1 completed\n",
      "[*********************100%***********************]  1 of 1 completed\n",
      "[*********************100%***********************]  1 of 1 completed\n",
      "[*********************100%***********************]  1 of 1 completed\n",
      "[*********************100%***********************]  1 of 1 completed\n",
      "[*********************100%***********************]  1 of 1 completed\n",
      "[*********************100%***********************]  1 of 1 completed\n",
      "JSWENERGY.NS\n",
      "[*********************100%***********************]  1 of 1 completed\n"
     ]
    },
    {
     "name": "stderr",
     "output_type": "stream",
     "text": [
      "C:\\Users\\Admin\\AppData\\Local\\Temp\\ipykernel_86652\\21544151.py:4: FutureWarning: The frame.append method is deprecated and will be removed from pandas in a future version. Use pandas.concat instead.\n",
      "  final = final.append(df, ignore_index=True)\n"
     ]
    },
    {
     "name": "stdout",
     "output_type": "stream",
     "text": [
      "[*********************100%***********************]  1 of 1 completed\n",
      "[*********************100%***********************]  1 of 1 completed\n",
      "[*********************100%***********************]  1 of 1 completed\n",
      "[*********************100%***********************]  1 of 1 completed\n",
      "[*********************100%***********************]  1 of 1 completed\n",
      "[*********************100%***********************]  1 of 1 completed\n",
      "[*********************100%***********************]  1 of 1 completed\n",
      "JSWSTEEL.NS\n"
     ]
    },
    {
     "name": "stderr",
     "output_type": "stream",
     "text": [
      "C:\\Users\\Admin\\AppData\\Local\\Temp\\ipykernel_86652\\21544151.py:4: FutureWarning: The frame.append method is deprecated and will be removed from pandas in a future version. Use pandas.concat instead.\n",
      "  final = final.append(df, ignore_index=True)\n"
     ]
    },
    {
     "name": "stdout",
     "output_type": "stream",
     "text": [
      "[*********************100%***********************]  1 of 1 completed\n",
      "[*********************100%***********************]  1 of 1 completed\n",
      "[*********************100%***********************]  1 of 1 completed\n",
      "[*********************100%***********************]  1 of 1 completed\n",
      "[*********************100%***********************]  1 of 1 completed\n",
      "[*********************100%***********************]  1 of 1 completed\n",
      "[*********************100%***********************]  1 of 1 completed\n",
      "[*********************100%***********************]  1 of 1 completed\n",
      "JINDALSTEL.NS\n"
     ]
    },
    {
     "name": "stderr",
     "output_type": "stream",
     "text": [
      "C:\\Users\\Admin\\AppData\\Local\\Temp\\ipykernel_86652\\21544151.py:4: FutureWarning: The frame.append method is deprecated and will be removed from pandas in a future version. Use pandas.concat instead.\n",
      "  final = final.append(df, ignore_index=True)\n"
     ]
    },
    {
     "name": "stdout",
     "output_type": "stream",
     "text": [
      "[*********************100%***********************]  1 of 1 completed\n",
      "[*********************100%***********************]  1 of 1 completed\n",
      "[*********************100%***********************]  1 of 1 completed\n",
      "[*********************100%***********************]  1 of 1 completed\n",
      "[*********************100%***********************]  1 of 1 completed\n",
      "[*********************100%***********************]  1 of 1 completed\n",
      "[*********************100%***********************]  1 of 1 completed\n",
      "[*********************100%***********************]  1 of 1 completed\n",
      "JUBLFOOD.NS\n",
      "[*********************100%***********************]  1 of 1 completed"
     ]
    },
    {
     "name": "stderr",
     "output_type": "stream",
     "text": [
      "C:\\Users\\Admin\\AppData\\Local\\Temp\\ipykernel_86652\\21544151.py:4: FutureWarning: The frame.append method is deprecated and will be removed from pandas in a future version. Use pandas.concat instead.\n",
      "  final = final.append(df, ignore_index=True)\n"
     ]
    },
    {
     "name": "stdout",
     "output_type": "stream",
     "text": [
      "\n",
      "[*********************100%***********************]  1 of 1 completed\n",
      "[*********************100%***********************]  1 of 1 completed\n",
      "[*********************100%***********************]  1 of 1 completed\n",
      "[*********************100%***********************]  1 of 1 completed\n",
      "[*********************100%***********************]  1 of 1 completed\n",
      "[*********************100%***********************]  1 of 1 completed\n",
      "[*********************100%***********************]  1 of 1 completed\n",
      "KOTAKBANK.NS\n"
     ]
    },
    {
     "name": "stderr",
     "output_type": "stream",
     "text": [
      "C:\\Users\\Admin\\AppData\\Local\\Temp\\ipykernel_86652\\21544151.py:4: FutureWarning: The frame.append method is deprecated and will be removed from pandas in a future version. Use pandas.concat instead.\n",
      "  final = final.append(df, ignore_index=True)\n"
     ]
    },
    {
     "name": "stdout",
     "output_type": "stream",
     "text": [
      "[*********************100%***********************]  1 of 1 completed\n",
      "[*********************100%***********************]  1 of 1 completed\n",
      "[*********************100%***********************]  1 of 1 completed\n",
      "[*********************100%***********************]  1 of 1 completed\n",
      "[*********************100%***********************]  1 of 1 completed\n",
      "[*********************100%***********************]  1 of 1 completed\n",
      "[*********************100%***********************]  1 of 1 completed\n",
      "[*********************100%***********************]  1 of 1 completed\n",
      "L&TFH.NS\n",
      "[*********************100%***********************]  1 of 1 completed\n"
     ]
    },
    {
     "name": "stderr",
     "output_type": "stream",
     "text": [
      "C:\\Users\\Admin\\AppData\\Local\\Temp\\ipykernel_86652\\21544151.py:4: FutureWarning: The frame.append method is deprecated and will be removed from pandas in a future version. Use pandas.concat instead.\n",
      "  final = final.append(df, ignore_index=True)\n"
     ]
    },
    {
     "name": "stdout",
     "output_type": "stream",
     "text": [
      "[*********************100%***********************]  1 of 1 completed\n",
      "[*********************100%***********************]  1 of 1 completed\n",
      "[*********************100%***********************]  1 of 1 completed\n",
      "[*********************100%***********************]  1 of 1 completed\n",
      "[*********************100%***********************]  1 of 1 completed\n",
      "[*********************100%***********************]  1 of 1 completed\n",
      "[*********************100%***********************]  1 of 1 completed\n",
      "LTTS.NS\n"
     ]
    },
    {
     "name": "stderr",
     "output_type": "stream",
     "text": [
      "C:\\Users\\Admin\\AppData\\Local\\Temp\\ipykernel_86652\\21544151.py:4: FutureWarning: The frame.append method is deprecated and will be removed from pandas in a future version. Use pandas.concat instead.\n",
      "  final = final.append(df, ignore_index=True)\n"
     ]
    },
    {
     "name": "stdout",
     "output_type": "stream",
     "text": [
      "[*********************100%***********************]  1 of 1 completed\n",
      "[*********************100%***********************]  1 of 1 completed\n",
      "[*********************100%***********************]  1 of 1 completed\n",
      "[*********************100%***********************]  1 of 1 completed\n",
      "[*********************100%***********************]  1 of 1 completed\n",
      "[*********************100%***********************]  1 of 1 completed\n",
      "[*********************100%***********************]  1 of 1 completed\n",
      "[*********************100%***********************]  1 of 1 completed\n",
      "LICHSGFIN.NS\n",
      "[*********************100%***********************]  1 of 1 completed\n"
     ]
    },
    {
     "name": "stderr",
     "output_type": "stream",
     "text": [
      "C:\\Users\\Admin\\AppData\\Local\\Temp\\ipykernel_86652\\21544151.py:4: FutureWarning: The frame.append method is deprecated and will be removed from pandas in a future version. Use pandas.concat instead.\n",
      "  final = final.append(df, ignore_index=True)\n"
     ]
    },
    {
     "name": "stdout",
     "output_type": "stream",
     "text": [
      "[*********************100%***********************]  1 of 1 completed\n",
      "[*********************100%***********************]  1 of 1 completed\n",
      "[*********************100%***********************]  1 of 1 completed\n",
      "[*********************100%***********************]  1 of 1 completed\n",
      "[*********************100%***********************]  1 of 1 completed\n",
      "[*********************100%***********************]  1 of 1 completed\n",
      "[*********************100%***********************]  1 of 1 completed\n",
      "LTI.NS\n",
      "[*********************100%***********************]  1 of 1 completed\n",
      "\n",
      "1 Failed download:\n",
      "- LTI.NS: No data found, symbol may be delisted\n"
     ]
    },
    {
     "name": "stderr",
     "output_type": "stream",
     "text": [
      "C:\\Users\\Admin\\AppData\\Local\\Temp\\ipykernel_86652\\21544151.py:4: FutureWarning: The frame.append method is deprecated and will be removed from pandas in a future version. Use pandas.concat instead.\n",
      "  final = final.append(df, ignore_index=True)\n"
     ]
    },
    {
     "name": "stdout",
     "output_type": "stream",
     "text": [
      "[*********************100%***********************]  1 of 1 completed\n",
      "\n",
      "1 Failed download:\n",
      "- LTI.NS: No data found, symbol may be delisted\n",
      "[*********************100%***********************]  1 of 1 completed\n",
      "\n",
      "1 Failed download:\n",
      "- LTI.NS: No data found, symbol may be delisted\n",
      "[*********************100%***********************]  1 of 1 completed\n",
      "\n",
      "1 Failed download:\n",
      "- LTI.NS: No data found, symbol may be delisted\n",
      "[*********************100%***********************]  1 of 1 completed\n",
      "\n",
      "1 Failed download:\n",
      "- LTI.NS: No data found, symbol may be delisted\n",
      "[*********************100%***********************]  1 of 1 completed\n",
      "\n",
      "1 Failed download:\n",
      "- LTI.NS: No data found, symbol may be delisted\n",
      "[*********************100%***********************]  1 of 1 completed\n",
      "\n",
      "1 Failed download:\n",
      "- LTI.NS: No data found, symbol may be delisted\n",
      "[*********************100%***********************]  1 of 1 completed\n",
      "\n",
      "1 Failed download:\n",
      "- LTI.NS: No data found, symbol may be delisted\n",
      "LT.NS\n",
      "[*********************100%***********************]  1 of 1 completed\n"
     ]
    },
    {
     "name": "stderr",
     "output_type": "stream",
     "text": [
      "C:\\Users\\Admin\\AppData\\Local\\Temp\\ipykernel_86652\\1438680510.py:38: RuntimeWarning: invalid value encountered in long_scalars\n",
      "  return (256*((final_W1.size*100)/(W1.size))+128*((final_W2.size*100)/(W2.size))+64*((final_W4.size*100)/(W4.size))+32*((final_W8.size*100)/(W8.size))+16*((final_W16.size*100)/(W16.size))+8*((final_M6.size*100)/M6.size)+4*((final_Y1.size*100)/(Y1.size))+2*((final_Y2.size*100)/(Y2.size)))\n",
      "C:\\Users\\Admin\\AppData\\Local\\Temp\\ipykernel_86652\\1438680510.py:72: RuntimeWarning: invalid value encountered in long_scalars\n",
      "  return (256*((final_W1.size*100)/(W1.size))+128*((final_W2.size*100)/(W2.size))+64*((final_W4.size*100)/(W4.size))+32*((final_W8.size*100)/(W8.size))+16*((final_W16.size*100)/(W16.size))+8*((final_M6.size*100)/M6.size)+4*((final_Y1.size*100)/(Y1.size))+2*((final_Y2.size*100)/(Y2.size)))\n",
      "C:\\Users\\Admin\\AppData\\Local\\Temp\\ipykernel_86652\\21544151.py:4: FutureWarning: The frame.append method is deprecated and will be removed from pandas in a future version. Use pandas.concat instead.\n",
      "  final = final.append(df, ignore_index=True)\n"
     ]
    },
    {
     "name": "stdout",
     "output_type": "stream",
     "text": [
      "[*********************100%***********************]  1 of 1 completed\n",
      "[*********************100%***********************]  1 of 1 completed\n",
      "[*********************100%***********************]  1 of 1 completed\n",
      "[*********************100%***********************]  1 of 1 completed\n",
      "[*********************100%***********************]  1 of 1 completed\n",
      "[*********************100%***********************]  1 of 1 completed\n",
      "[*********************100%***********************]  1 of 1 completed\n",
      "LAURUSLABS.NS\n",
      "[*********************100%***********************]  1 of 1 completed\n"
     ]
    },
    {
     "name": "stderr",
     "output_type": "stream",
     "text": [
      "C:\\Users\\Admin\\AppData\\Local\\Temp\\ipykernel_86652\\21544151.py:4: FutureWarning: The frame.append method is deprecated and will be removed from pandas in a future version. Use pandas.concat instead.\n",
      "  final = final.append(df, ignore_index=True)\n"
     ]
    },
    {
     "name": "stdout",
     "output_type": "stream",
     "text": [
      "[*********************100%***********************]  1 of 1 completed\n",
      "[*********************100%***********************]  1 of 1 completed\n",
      "[*********************100%***********************]  1 of 1 completed\n",
      "[*********************100%***********************]  1 of 1 completed\n",
      "[*********************100%***********************]  1 of 1 completed\n",
      "[*********************100%***********************]  1 of 1 completed\n",
      "[*********************100%***********************]  1 of 1 completed\n",
      "LUPIN.NS\n",
      "[*********************100%***********************]  1 of 1 completed"
     ]
    },
    {
     "name": "stderr",
     "output_type": "stream",
     "text": [
      "C:\\Users\\Admin\\AppData\\Local\\Temp\\ipykernel_86652\\21544151.py:4: FutureWarning: The frame.append method is deprecated and will be removed from pandas in a future version. Use pandas.concat instead.\n",
      "  final = final.append(df, ignore_index=True)\n"
     ]
    },
    {
     "name": "stdout",
     "output_type": "stream",
     "text": [
      "\n",
      "[*********************100%***********************]  1 of 1 completed\n",
      "[*********************100%***********************]  1 of 1 completed\n",
      "[*********************100%***********************]  1 of 1 completed\n",
      "[*********************100%***********************]  1 of 1 completed\n",
      "[*********************100%***********************]  1 of 1 completed\n",
      "[*********************100%***********************]  1 of 1 completed\n",
      "[*********************100%***********************]  1 of 1 completed\n",
      "MRF.NS\n",
      "[*********************100%***********************]  1 of 1 completed\n"
     ]
    },
    {
     "name": "stderr",
     "output_type": "stream",
     "text": [
      "C:\\Users\\Admin\\AppData\\Local\\Temp\\ipykernel_86652\\21544151.py:4: FutureWarning: The frame.append method is deprecated and will be removed from pandas in a future version. Use pandas.concat instead.\n",
      "  final = final.append(df, ignore_index=True)\n"
     ]
    },
    {
     "name": "stdout",
     "output_type": "stream",
     "text": [
      "[*********************100%***********************]  1 of 1 completed\n",
      "[*********************100%***********************]  1 of 1 completed\n",
      "[*********************100%***********************]  1 of 1 completed\n",
      "[*********************100%***********************]  1 of 1 completed\n",
      "[*********************100%***********************]  1 of 1 completed\n",
      "[*********************100%***********************]  1 of 1 completed\n",
      "[*********************100%***********************]  1 of 1 completed\n",
      "M&MFIN.NS\n",
      "[*********************100%***********************]  1 of 1 completed\n"
     ]
    },
    {
     "name": "stderr",
     "output_type": "stream",
     "text": [
      "C:\\Users\\Admin\\AppData\\Local\\Temp\\ipykernel_86652\\21544151.py:4: FutureWarning: The frame.append method is deprecated and will be removed from pandas in a future version. Use pandas.concat instead.\n",
      "  final = final.append(df, ignore_index=True)\n"
     ]
    },
    {
     "name": "stdout",
     "output_type": "stream",
     "text": [
      "[*********************100%***********************]  1 of 1 completed\n",
      "[*********************100%***********************]  1 of 1 completed\n",
      "[*********************100%***********************]  1 of 1 completed\n",
      "[*********************100%***********************]  1 of 1 completed\n",
      "[*********************100%***********************]  1 of 1 completed\n",
      "[*********************100%***********************]  1 of 1 completed\n",
      "[*********************100%***********************]  1 of 1 completed\n",
      "M&M.NS\n",
      "[*********************100%***********************]  1 of 1 completed"
     ]
    },
    {
     "name": "stderr",
     "output_type": "stream",
     "text": [
      "C:\\Users\\Admin\\AppData\\Local\\Temp\\ipykernel_86652\\21544151.py:4: FutureWarning: The frame.append method is deprecated and will be removed from pandas in a future version. Use pandas.concat instead.\n",
      "  final = final.append(df, ignore_index=True)\n"
     ]
    },
    {
     "name": "stdout",
     "output_type": "stream",
     "text": [
      "\n",
      "[*********************100%***********************]  1 of 1 completed\n",
      "[*********************100%***********************]  1 of 1 completed\n",
      "[*********************100%***********************]  1 of 1 completed\n",
      "[*********************100%***********************]  1 of 1 completed\n",
      "[*********************100%***********************]  1 of 1 completed\n",
      "[*********************100%***********************]  1 of 1 completed\n",
      "[*********************100%***********************]  1 of 1 completed\n",
      "MANAPPURAM.NS\n",
      "[*********************100%***********************]  1 of 1 completed\n"
     ]
    },
    {
     "name": "stderr",
     "output_type": "stream",
     "text": [
      "C:\\Users\\Admin\\AppData\\Local\\Temp\\ipykernel_86652\\21544151.py:4: FutureWarning: The frame.append method is deprecated and will be removed from pandas in a future version. Use pandas.concat instead.\n",
      "  final = final.append(df, ignore_index=True)\n"
     ]
    },
    {
     "name": "stdout",
     "output_type": "stream",
     "text": [
      "[*********************100%***********************]  1 of 1 completed\n",
      "[*********************100%***********************]  1 of 1 completed\n",
      "[*********************100%***********************]  1 of 1 completed\n",
      "[*********************100%***********************]  1 of 1 completed\n",
      "[*********************100%***********************]  1 of 1 completed\n",
      "[*********************100%***********************]  1 of 1 completed\n",
      "[*********************100%***********************]  1 of 1 completed\n",
      "MARICO.NS\n"
     ]
    },
    {
     "name": "stderr",
     "output_type": "stream",
     "text": [
      "C:\\Users\\Admin\\AppData\\Local\\Temp\\ipykernel_86652\\21544151.py:4: FutureWarning: The frame.append method is deprecated and will be removed from pandas in a future version. Use pandas.concat instead.\n",
      "  final = final.append(df, ignore_index=True)\n"
     ]
    },
    {
     "name": "stdout",
     "output_type": "stream",
     "text": [
      "[*********************100%***********************]  1 of 1 completed\n",
      "[*********************100%***********************]  1 of 1 completed\n",
      "[*********************100%***********************]  1 of 1 completed\n",
      "[*********************100%***********************]  1 of 1 completed\n",
      "[*********************100%***********************]  1 of 1 completed\n",
      "[*********************100%***********************]  1 of 1 completed\n",
      "[*********************100%***********************]  1 of 1 completed\n",
      "[*********************100%***********************]  1 of 1 completed\n",
      "MARUTI.NS\n",
      "[*********************100%***********************]  1 of 1 completed\n"
     ]
    },
    {
     "name": "stderr",
     "output_type": "stream",
     "text": [
      "C:\\Users\\Admin\\AppData\\Local\\Temp\\ipykernel_86652\\21544151.py:4: FutureWarning: The frame.append method is deprecated and will be removed from pandas in a future version. Use pandas.concat instead.\n",
      "  final = final.append(df, ignore_index=True)\n"
     ]
    },
    {
     "name": "stdout",
     "output_type": "stream",
     "text": [
      "[*********************100%***********************]  1 of 1 completed\n",
      "[*********************100%***********************]  1 of 1 completed\n",
      "[*********************100%***********************]  1 of 1 completed\n",
      "[*********************100%***********************]  1 of 1 completed\n",
      "[*********************100%***********************]  1 of 1 completed\n",
      "[*********************100%***********************]  1 of 1 completed\n",
      "[*********************100%***********************]  1 of 1 completed\n",
      "MFSL.NS\n",
      "[*********************100%***********************]  1 of 1 completed\n"
     ]
    },
    {
     "name": "stderr",
     "output_type": "stream",
     "text": [
      "C:\\Users\\Admin\\AppData\\Local\\Temp\\ipykernel_86652\\21544151.py:4: FutureWarning: The frame.append method is deprecated and will be removed from pandas in a future version. Use pandas.concat instead.\n",
      "  final = final.append(df, ignore_index=True)\n"
     ]
    },
    {
     "name": "stdout",
     "output_type": "stream",
     "text": [
      "[*********************100%***********************]  1 of 1 completed\n",
      "[*********************100%***********************]  1 of 1 completed\n",
      "[*********************100%***********************]  1 of 1 completed\n",
      "[*********************100%***********************]  1 of 1 completed\n",
      "[*********************100%***********************]  1 of 1 completed\n",
      "[*********************100%***********************]  1 of 1 completed\n",
      "[*********************100%***********************]  1 of 1 completed\n",
      "MAXHEALTH.NS\n",
      "[*********************100%***********************]  1 of 1 completed\n"
     ]
    },
    {
     "name": "stderr",
     "output_type": "stream",
     "text": [
      "C:\\Users\\Admin\\AppData\\Local\\Temp\\ipykernel_86652\\21544151.py:4: FutureWarning: The frame.append method is deprecated and will be removed from pandas in a future version. Use pandas.concat instead.\n",
      "  final = final.append(df, ignore_index=True)\n"
     ]
    },
    {
     "name": "stdout",
     "output_type": "stream",
     "text": [
      "[*********************100%***********************]  1 of 1 completed\n",
      "[*********************100%***********************]  1 of 1 completed\n",
      "[*********************100%***********************]  1 of 1 completed\n",
      "[*********************100%***********************]  1 of 1 completed\n",
      "[*********************100%***********************]  1 of 1 completed\n",
      "[*********************100%***********************]  1 of 1 completed\n",
      "[*********************100%***********************]  1 of 1 completed\n",
      "METROPOLIS.NS\n",
      "[*********************100%***********************]  1 of 1 completed\n"
     ]
    },
    {
     "name": "stderr",
     "output_type": "stream",
     "text": [
      "C:\\Users\\Admin\\AppData\\Local\\Temp\\ipykernel_86652\\21544151.py:4: FutureWarning: The frame.append method is deprecated and will be removed from pandas in a future version. Use pandas.concat instead.\n",
      "  final = final.append(df, ignore_index=True)\n"
     ]
    },
    {
     "name": "stdout",
     "output_type": "stream",
     "text": [
      "[*********************100%***********************]  1 of 1 completed\n",
      "[*********************100%***********************]  1 of 1 completed\n",
      "[*********************100%***********************]  1 of 1 completed\n",
      "[*********************100%***********************]  1 of 1 completed\n",
      "[*********************100%***********************]  1 of 1 completed\n",
      "[*********************100%***********************]  1 of 1 completed\n",
      "[*********************100%***********************]  1 of 1 completed\n",
      "MINDTREE.NS\n",
      "[*********************100%***********************]  1 of 1 completed\n",
      "\n",
      "1 Failed download:\n",
      "- MINDTREE.NS: No data found, symbol may be delisted\n"
     ]
    },
    {
     "name": "stderr",
     "output_type": "stream",
     "text": [
      "C:\\Users\\Admin\\AppData\\Local\\Temp\\ipykernel_86652\\21544151.py:4: FutureWarning: The frame.append method is deprecated and will be removed from pandas in a future version. Use pandas.concat instead.\n",
      "  final = final.append(df, ignore_index=True)\n"
     ]
    },
    {
     "name": "stdout",
     "output_type": "stream",
     "text": [
      "[*********************100%***********************]  1 of 1 completed\n",
      "\n",
      "1 Failed download:\n",
      "- MINDTREE.NS: No data found, symbol may be delisted\n",
      "[*********************100%***********************]  1 of 1 completed\n",
      "\n",
      "1 Failed download:\n",
      "- MINDTREE.NS: No data found, symbol may be delisted\n",
      "[*********************100%***********************]  1 of 1 completed\n",
      "\n",
      "1 Failed download:\n",
      "- MINDTREE.NS: No data found, symbol may be delisted\n",
      "[*********************100%***********************]  1 of 1 completed\n",
      "\n",
      "1 Failed download:\n",
      "- MINDTREE.NS: No data found, symbol may be delisted\n",
      "[*********************100%***********************]  1 of 1 completed\n",
      "\n",
      "1 Failed download:\n",
      "- MINDTREE.NS: No data found, symbol may be delisted\n",
      "[*********************100%***********************]  1 of 1 completed\n",
      "\n",
      "1 Failed download:\n",
      "- MINDTREE.NS: No data found, symbol may be delisted\n",
      "[*********************100%***********************]  1 of 1 completed\n",
      "\n",
      "1 Failed download:\n",
      "- MINDTREE.NS: No data found, symbol may be delisted\n",
      "MPHASIS.NS\n",
      "[*********************100%***********************]  1 of 1 completed\n"
     ]
    },
    {
     "name": "stderr",
     "output_type": "stream",
     "text": [
      "C:\\Users\\Admin\\AppData\\Local\\Temp\\ipykernel_86652\\1438680510.py:38: RuntimeWarning: invalid value encountered in long_scalars\n",
      "  return (256*((final_W1.size*100)/(W1.size))+128*((final_W2.size*100)/(W2.size))+64*((final_W4.size*100)/(W4.size))+32*((final_W8.size*100)/(W8.size))+16*((final_W16.size*100)/(W16.size))+8*((final_M6.size*100)/M6.size)+4*((final_Y1.size*100)/(Y1.size))+2*((final_Y2.size*100)/(Y2.size)))\n",
      "C:\\Users\\Admin\\AppData\\Local\\Temp\\ipykernel_86652\\1438680510.py:72: RuntimeWarning: invalid value encountered in long_scalars\n",
      "  return (256*((final_W1.size*100)/(W1.size))+128*((final_W2.size*100)/(W2.size))+64*((final_W4.size*100)/(W4.size))+32*((final_W8.size*100)/(W8.size))+16*((final_W16.size*100)/(W16.size))+8*((final_M6.size*100)/M6.size)+4*((final_Y1.size*100)/(Y1.size))+2*((final_Y2.size*100)/(Y2.size)))\n",
      "C:\\Users\\Admin\\AppData\\Local\\Temp\\ipykernel_86652\\21544151.py:4: FutureWarning: The frame.append method is deprecated and will be removed from pandas in a future version. Use pandas.concat instead.\n",
      "  final = final.append(df, ignore_index=True)\n"
     ]
    },
    {
     "name": "stdout",
     "output_type": "stream",
     "text": [
      "[*********************100%***********************]  1 of 1 completed\n",
      "[*********************100%***********************]  1 of 1 completed\n",
      "[*********************100%***********************]  1 of 1 completed\n",
      "[*********************100%***********************]  1 of 1 completed\n",
      "[*********************100%***********************]  1 of 1 completed\n",
      "[*********************100%***********************]  1 of 1 completed\n",
      "[*********************100%***********************]  1 of 1 completed\n",
      "MUTHOOTFIN.NS\n",
      "[*********************100%***********************]  1 of 1 completed\n"
     ]
    },
    {
     "name": "stderr",
     "output_type": "stream",
     "text": [
      "C:\\Users\\Admin\\AppData\\Local\\Temp\\ipykernel_86652\\21544151.py:4: FutureWarning: The frame.append method is deprecated and will be removed from pandas in a future version. Use pandas.concat instead.\n",
      "  final = final.append(df, ignore_index=True)\n"
     ]
    },
    {
     "name": "stdout",
     "output_type": "stream",
     "text": [
      "[*********************100%***********************]  1 of 1 completed\n",
      "[*********************100%***********************]  1 of 1 completed\n",
      "[*********************100%***********************]  1 of 1 completed\n",
      "[*********************100%***********************]  1 of 1 completed\n",
      "[*********************100%***********************]  1 of 1 completed\n",
      "[*********************100%***********************]  1 of 1 completed\n",
      "[*********************100%***********************]  1 of 1 completed\n",
      "NMDC.NS\n"
     ]
    },
    {
     "name": "stderr",
     "output_type": "stream",
     "text": [
      "C:\\Users\\Admin\\AppData\\Local\\Temp\\ipykernel_86652\\21544151.py:4: FutureWarning: The frame.append method is deprecated and will be removed from pandas in a future version. Use pandas.concat instead.\n",
      "  final = final.append(df, ignore_index=True)\n"
     ]
    },
    {
     "name": "stdout",
     "output_type": "stream",
     "text": [
      "[*********************100%***********************]  1 of 1 completed\n",
      "[*********************100%***********************]  1 of 1 completed\n",
      "[*********************100%***********************]  1 of 1 completed\n",
      "[*********************100%***********************]  1 of 1 completed\n",
      "[*********************100%***********************]  1 of 1 completed\n",
      "[*********************100%***********************]  1 of 1 completed\n",
      "[*********************100%***********************]  1 of 1 completed\n",
      "[*********************100%***********************]  1 of 1 completed\n",
      "NTPC.NS\n",
      "[*********************100%***********************]  1 of 1 completed\n"
     ]
    },
    {
     "name": "stderr",
     "output_type": "stream",
     "text": [
      "C:\\Users\\Admin\\AppData\\Local\\Temp\\ipykernel_86652\\21544151.py:4: FutureWarning: The frame.append method is deprecated and will be removed from pandas in a future version. Use pandas.concat instead.\n",
      "  final = final.append(df, ignore_index=True)\n"
     ]
    },
    {
     "name": "stdout",
     "output_type": "stream",
     "text": [
      "[*********************100%***********************]  1 of 1 completed\n",
      "[*********************100%***********************]  1 of 1 completed\n",
      "[*********************100%***********************]  1 of 1 completed\n",
      "[*********************100%***********************]  1 of 1 completed\n",
      "[*********************100%***********************]  1 of 1 completed\n",
      "[*********************100%***********************]  1 of 1 completed\n",
      "[*********************100%***********************]  1 of 1 completed\n",
      "NATIONALUM.NS\n",
      "[*********************100%***********************]  1 of 1 completed"
     ]
    },
    {
     "name": "stderr",
     "output_type": "stream",
     "text": [
      "C:\\Users\\Admin\\AppData\\Local\\Temp\\ipykernel_86652\\21544151.py:4: FutureWarning: The frame.append method is deprecated and will be removed from pandas in a future version. Use pandas.concat instead.\n",
      "  final = final.append(df, ignore_index=True)\n"
     ]
    },
    {
     "name": "stdout",
     "output_type": "stream",
     "text": [
      "\n",
      "[*********************100%***********************]  1 of 1 completed\n",
      "[*********************100%***********************]  1 of 1 completed\n",
      "[*********************100%***********************]  1 of 1 completed\n",
      "[*********************100%***********************]  1 of 1 completed\n",
      "[*********************100%***********************]  1 of 1 completed\n",
      "[*********************100%***********************]  1 of 1 completed\n",
      "[*********************100%***********************]  1 of 1 completed\n",
      "NAVINFLUOR.NS\n",
      "[*********************100%***********************]  1 of 1 completed\n"
     ]
    },
    {
     "name": "stderr",
     "output_type": "stream",
     "text": [
      "C:\\Users\\Admin\\AppData\\Local\\Temp\\ipykernel_86652\\21544151.py:4: FutureWarning: The frame.append method is deprecated and will be removed from pandas in a future version. Use pandas.concat instead.\n",
      "  final = final.append(df, ignore_index=True)\n"
     ]
    },
    {
     "name": "stdout",
     "output_type": "stream",
     "text": [
      "[*********************100%***********************]  1 of 1 completed\n",
      "[*********************100%***********************]  1 of 1 completed\n",
      "[*********************100%***********************]  1 of 1 completed\n",
      "[*********************100%***********************]  1 of 1 completed\n",
      "[*********************100%***********************]  1 of 1 completed\n",
      "[*********************100%***********************]  1 of 1 completed\n",
      "[*********************100%***********************]  1 of 1 completed\n",
      "NESTLEIND.NS\n",
      "[*********************100%***********************]  1 of 1 completed\n"
     ]
    },
    {
     "name": "stderr",
     "output_type": "stream",
     "text": [
      "C:\\Users\\Admin\\AppData\\Local\\Temp\\ipykernel_86652\\21544151.py:4: FutureWarning: The frame.append method is deprecated and will be removed from pandas in a future version. Use pandas.concat instead.\n",
      "  final = final.append(df, ignore_index=True)\n"
     ]
    },
    {
     "name": "stdout",
     "output_type": "stream",
     "text": [
      "[*********************100%***********************]  1 of 1 completed\n",
      "[*********************100%***********************]  1 of 1 completed\n",
      "[*********************100%***********************]  1 of 1 completed\n",
      "[*********************100%***********************]  1 of 1 completed\n",
      "[*********************100%***********************]  1 of 1 completed\n",
      "[*********************100%***********************]  1 of 1 completed\n",
      "[*********************100%***********************]  1 of 1 completed\n",
      "NAM-INDIA.NS\n",
      "[*********************100%***********************]  1 of 1 completed\n"
     ]
    },
    {
     "name": "stderr",
     "output_type": "stream",
     "text": [
      "C:\\Users\\Admin\\AppData\\Local\\Temp\\ipykernel_86652\\21544151.py:4: FutureWarning: The frame.append method is deprecated and will be removed from pandas in a future version. Use pandas.concat instead.\n",
      "  final = final.append(df, ignore_index=True)\n"
     ]
    },
    {
     "name": "stdout",
     "output_type": "stream",
     "text": [
      "[*********************100%***********************]  1 of 1 completed\n",
      "[*********************100%***********************]  1 of 1 completed\n",
      "[*********************100%***********************]  1 of 1 completed\n",
      "[*********************100%***********************]  1 of 1 completed\n",
      "[*********************100%***********************]  1 of 1 completed\n",
      "[*********************100%***********************]  1 of 1 completed\n",
      "[*********************100%***********************]  1 of 1 completed\n",
      "OBEROIRLTY.NS\n",
      "[*********************100%***********************]  1 of 1 completed\n"
     ]
    },
    {
     "name": "stderr",
     "output_type": "stream",
     "text": [
      "C:\\Users\\Admin\\AppData\\Local\\Temp\\ipykernel_86652\\21544151.py:4: FutureWarning: The frame.append method is deprecated and will be removed from pandas in a future version. Use pandas.concat instead.\n",
      "  final = final.append(df, ignore_index=True)\n"
     ]
    },
    {
     "name": "stdout",
     "output_type": "stream",
     "text": [
      "[*********************100%***********************]  1 of 1 completed\n",
      "[*********************100%***********************]  1 of 1 completed\n",
      "[*********************100%***********************]  1 of 1 completed\n",
      "[*********************100%***********************]  1 of 1 completed\n",
      "[*********************100%***********************]  1 of 1 completed\n",
      "[*********************100%***********************]  1 of 1 completed\n",
      "[*********************100%***********************]  1 of 1 completed\n",
      "ONGC.NS\n",
      "[*********************100%***********************]  1 of 1 completed\n"
     ]
    },
    {
     "name": "stderr",
     "output_type": "stream",
     "text": [
      "C:\\Users\\Admin\\AppData\\Local\\Temp\\ipykernel_86652\\21544151.py:4: FutureWarning: The frame.append method is deprecated and will be removed from pandas in a future version. Use pandas.concat instead.\n",
      "  final = final.append(df, ignore_index=True)\n"
     ]
    },
    {
     "name": "stdout",
     "output_type": "stream",
     "text": [
      "[*********************100%***********************]  1 of 1 completed\n",
      "[*********************100%***********************]  1 of 1 completed\n",
      "[*********************100%***********************]  1 of 1 completed\n",
      "[*********************100%***********************]  1 of 1 completed\n",
      "[*********************100%***********************]  1 of 1 completed\n",
      "[*********************100%***********************]  1 of 1 completed\n",
      "[*********************100%***********************]  1 of 1 completed\n",
      "OIL.NS\n",
      "[*********************100%***********************]  1 of 1 completed\n"
     ]
    },
    {
     "name": "stderr",
     "output_type": "stream",
     "text": [
      "C:\\Users\\Admin\\AppData\\Local\\Temp\\ipykernel_86652\\21544151.py:4: FutureWarning: The frame.append method is deprecated and will be removed from pandas in a future version. Use pandas.concat instead.\n",
      "  final = final.append(df, ignore_index=True)\n"
     ]
    },
    {
     "name": "stdout",
     "output_type": "stream",
     "text": [
      "[*********************100%***********************]  1 of 1 completed\n",
      "[*********************100%***********************]  1 of 1 completed\n",
      "[*********************100%***********************]  1 of 1 completed\n",
      "[*********************100%***********************]  1 of 1 completed\n",
      "[*********************100%***********************]  1 of 1 completed\n",
      "[*********************100%***********************]  1 of 1 completed\n",
      "[*********************100%***********************]  1 of 1 completed\n",
      "PAYTM.NS\n",
      "[*********************100%***********************]  1 of 1 completed\n"
     ]
    },
    {
     "name": "stderr",
     "output_type": "stream",
     "text": [
      "C:\\Users\\Admin\\AppData\\Local\\Temp\\ipykernel_86652\\21544151.py:4: FutureWarning: The frame.append method is deprecated and will be removed from pandas in a future version. Use pandas.concat instead.\n",
      "  final = final.append(df, ignore_index=True)\n"
     ]
    },
    {
     "name": "stdout",
     "output_type": "stream",
     "text": [
      "[*********************100%***********************]  1 of 1 completed\n",
      "[*********************100%***********************]  1 of 1 completed\n",
      "[*********************100%***********************]  1 of 1 completed\n",
      "[*********************100%***********************]  1 of 1 completed\n",
      "[*********************100%***********************]  1 of 1 completed\n",
      "[*********************100%***********************]  1 of 1 completed\n",
      "[*********************100%***********************]  1 of 1 completed\n",
      "OFSS.NS\n",
      "[*********************100%***********************]  1 of 1 completed\n"
     ]
    },
    {
     "name": "stderr",
     "output_type": "stream",
     "text": [
      "C:\\Users\\Admin\\AppData\\Local\\Temp\\ipykernel_86652\\21544151.py:4: FutureWarning: The frame.append method is deprecated and will be removed from pandas in a future version. Use pandas.concat instead.\n",
      "  final = final.append(df, ignore_index=True)\n"
     ]
    },
    {
     "name": "stdout",
     "output_type": "stream",
     "text": [
      "[*********************100%***********************]  1 of 1 completed\n",
      "[*********************100%***********************]  1 of 1 completed\n",
      "[*********************100%***********************]  1 of 1 completed\n",
      "[*********************100%***********************]  1 of 1 completed\n",
      "[*********************100%***********************]  1 of 1 completed\n",
      "[*********************100%***********************]  1 of 1 completed\n",
      "[*********************100%***********************]  1 of 1 completed\n",
      "POLICYBZR.NS\n",
      "[*********************100%***********************]  1 of 1 completed\n"
     ]
    },
    {
     "name": "stderr",
     "output_type": "stream",
     "text": [
      "C:\\Users\\Admin\\AppData\\Local\\Temp\\ipykernel_86652\\21544151.py:4: FutureWarning: The frame.append method is deprecated and will be removed from pandas in a future version. Use pandas.concat instead.\n",
      "  final = final.append(df, ignore_index=True)\n"
     ]
    },
    {
     "name": "stdout",
     "output_type": "stream",
     "text": [
      "[*********************100%***********************]  1 of 1 completed\n",
      "[*********************100%***********************]  1 of 1 completed\n",
      "[*********************100%***********************]  1 of 1 completed\n",
      "[*********************100%***********************]  1 of 1 completed\n",
      "[*********************100%***********************]  1 of 1 completed\n",
      "[*********************100%***********************]  1 of 1 completed\n",
      "[*********************100%***********************]  1 of 1 completed\n",
      "PIIND.NS\n",
      "[*********************100%***********************]  1 of 1 completed"
     ]
    },
    {
     "name": "stderr",
     "output_type": "stream",
     "text": [
      "C:\\Users\\Admin\\AppData\\Local\\Temp\\ipykernel_86652\\21544151.py:4: FutureWarning: The frame.append method is deprecated and will be removed from pandas in a future version. Use pandas.concat instead.\n",
      "  final = final.append(df, ignore_index=True)\n"
     ]
    },
    {
     "name": "stdout",
     "output_type": "stream",
     "text": [
      "\n",
      "[*********************100%***********************]  1 of 1 completed\n",
      "[*********************100%***********************]  1 of 1 completed\n",
      "[*********************100%***********************]  1 of 1 completed\n",
      "[*********************100%***********************]  1 of 1 completed\n",
      "[*********************100%***********************]  1 of 1 completed\n",
      "[*********************100%***********************]  1 of 1 completed\n",
      "[*********************100%***********************]  1 of 1 completed\n",
      "PAGEIND.NS\n",
      "[*********************100%***********************]  1 of 1 completed\n"
     ]
    },
    {
     "name": "stderr",
     "output_type": "stream",
     "text": [
      "C:\\Users\\Admin\\AppData\\Local\\Temp\\ipykernel_86652\\21544151.py:4: FutureWarning: The frame.append method is deprecated and will be removed from pandas in a future version. Use pandas.concat instead.\n",
      "  final = final.append(df, ignore_index=True)\n"
     ]
    },
    {
     "name": "stdout",
     "output_type": "stream",
     "text": [
      "[*********************100%***********************]  1 of 1 completed\n",
      "[*********************100%***********************]  1 of 1 completed\n",
      "[*********************100%***********************]  1 of 1 completed\n",
      "[*********************100%***********************]  1 of 1 completed\n",
      "[*********************100%***********************]  1 of 1 completed\n",
      "[*********************100%***********************]  1 of 1 completed\n",
      "[*********************100%***********************]  1 of 1 completed\n",
      "PERSISTENT.NS\n",
      "[*********************100%***********************]  1 of 1 completed"
     ]
    },
    {
     "name": "stderr",
     "output_type": "stream",
     "text": [
      "C:\\Users\\Admin\\AppData\\Local\\Temp\\ipykernel_86652\\21544151.py:4: FutureWarning: The frame.append method is deprecated and will be removed from pandas in a future version. Use pandas.concat instead.\n",
      "  final = final.append(df, ignore_index=True)\n"
     ]
    },
    {
     "name": "stdout",
     "output_type": "stream",
     "text": [
      "\n",
      "[*********************100%***********************]  1 of 1 completed\n",
      "[*********************100%***********************]  1 of 1 completed\n",
      "[*********************100%***********************]  1 of 1 completed\n",
      "[*********************100%***********************]  1 of 1 completed\n",
      "[*********************100%***********************]  1 of 1 completed\n",
      "[*********************100%***********************]  1 of 1 completed\n",
      "[*********************100%***********************]  1 of 1 completed\n",
      "PETRONET.NS\n",
      "[*********************100%***********************]  1 of 1 completed\n"
     ]
    },
    {
     "name": "stderr",
     "output_type": "stream",
     "text": [
      "C:\\Users\\Admin\\AppData\\Local\\Temp\\ipykernel_86652\\21544151.py:4: FutureWarning: The frame.append method is deprecated and will be removed from pandas in a future version. Use pandas.concat instead.\n",
      "  final = final.append(df, ignore_index=True)\n"
     ]
    },
    {
     "name": "stdout",
     "output_type": "stream",
     "text": [
      "[*********************100%***********************]  1 of 1 completed\n",
      "[*********************100%***********************]  1 of 1 completed\n",
      "[*********************100%***********************]  1 of 1 completed\n",
      "[*********************100%***********************]  1 of 1 completed\n",
      "[*********************100%***********************]  1 of 1 completed\n",
      "[*********************100%***********************]  1 of 1 completed\n",
      "[*********************100%***********************]  1 of 1 completed\n",
      "PIDILITIND.NS\n",
      "[*********************100%***********************]  1 of 1 completed"
     ]
    },
    {
     "name": "stderr",
     "output_type": "stream",
     "text": [
      "C:\\Users\\Admin\\AppData\\Local\\Temp\\ipykernel_86652\\21544151.py:4: FutureWarning: The frame.append method is deprecated and will be removed from pandas in a future version. Use pandas.concat instead.\n",
      "  final = final.append(df, ignore_index=True)\n"
     ]
    },
    {
     "name": "stdout",
     "output_type": "stream",
     "text": [
      "\n",
      "[*********************100%***********************]  1 of 1 completed\n",
      "[*********************100%***********************]  1 of 1 completed\n",
      "[*********************100%***********************]  1 of 1 completed\n",
      "[*********************100%***********************]  1 of 1 completed\n",
      "[*********************100%***********************]  1 of 1 completed\n",
      "[*********************100%***********************]  1 of 1 completed\n",
      "[*********************100%***********************]  1 of 1 completed\n",
      "PEL.NS\n",
      "[*********************100%***********************]  1 of 1 completed\n"
     ]
    },
    {
     "name": "stderr",
     "output_type": "stream",
     "text": [
      "C:\\Users\\Admin\\AppData\\Local\\Temp\\ipykernel_86652\\21544151.py:4: FutureWarning: The frame.append method is deprecated and will be removed from pandas in a future version. Use pandas.concat instead.\n",
      "  final = final.append(df, ignore_index=True)\n"
     ]
    },
    {
     "name": "stdout",
     "output_type": "stream",
     "text": [
      "[*********************100%***********************]  1 of 1 completed\n",
      "[*********************100%***********************]  1 of 1 completed\n",
      "[*********************100%***********************]  1 of 1 completed\n",
      "[*********************100%***********************]  1 of 1 completed\n",
      "[*********************100%***********************]  1 of 1 completed\n",
      "[*********************100%***********************]  1 of 1 completed\n",
      "[*********************100%***********************]  1 of 1 completed\n",
      "POLYCAB.NS\n",
      "[*********************100%***********************]  1 of 1 completed\n"
     ]
    },
    {
     "name": "stderr",
     "output_type": "stream",
     "text": [
      "C:\\Users\\Admin\\AppData\\Local\\Temp\\ipykernel_86652\\21544151.py:4: FutureWarning: The frame.append method is deprecated and will be removed from pandas in a future version. Use pandas.concat instead.\n",
      "  final = final.append(df, ignore_index=True)\n"
     ]
    },
    {
     "name": "stdout",
     "output_type": "stream",
     "text": [
      "[*********************100%***********************]  1 of 1 completed\n",
      "[*********************100%***********************]  1 of 1 completed\n",
      "[*********************100%***********************]  1 of 1 completed\n",
      "[*********************100%***********************]  1 of 1 completed\n",
      "[*********************100%***********************]  1 of 1 completed\n",
      "[*********************100%***********************]  1 of 1 completed\n",
      "[*********************100%***********************]  1 of 1 completed\n",
      "PFC.NS\n",
      "[*********************100%***********************]  1 of 1 completed\n"
     ]
    },
    {
     "name": "stderr",
     "output_type": "stream",
     "text": [
      "C:\\Users\\Admin\\AppData\\Local\\Temp\\ipykernel_86652\\21544151.py:4: FutureWarning: The frame.append method is deprecated and will be removed from pandas in a future version. Use pandas.concat instead.\n",
      "  final = final.append(df, ignore_index=True)\n"
     ]
    },
    {
     "name": "stdout",
     "output_type": "stream",
     "text": [
      "[*********************100%***********************]  1 of 1 completed\n",
      "[*********************100%***********************]  1 of 1 completed\n",
      "[*********************100%***********************]  1 of 1 completed\n",
      "[*********************100%***********************]  1 of 1 completed\n",
      "[*********************100%***********************]  1 of 1 completed\n",
      "[*********************100%***********************]  1 of 1 completed\n",
      "[*********************100%***********************]  1 of 1 completed\n",
      "POWERGRID.NS\n",
      "[*********************100%***********************]  1 of 1 completed\n"
     ]
    },
    {
     "name": "stderr",
     "output_type": "stream",
     "text": [
      "C:\\Users\\Admin\\AppData\\Local\\Temp\\ipykernel_86652\\21544151.py:4: FutureWarning: The frame.append method is deprecated and will be removed from pandas in a future version. Use pandas.concat instead.\n",
      "  final = final.append(df, ignore_index=True)\n"
     ]
    },
    {
     "name": "stdout",
     "output_type": "stream",
     "text": [
      "[*********************100%***********************]  1 of 1 completed\n",
      "[*********************100%***********************]  1 of 1 completed\n",
      "[*********************100%***********************]  1 of 1 completed\n",
      "[*********************100%***********************]  1 of 1 completed\n",
      "[*********************100%***********************]  1 of 1 completed\n",
      "[*********************100%***********************]  1 of 1 completed\n",
      "[*********************100%***********************]  1 of 1 completed\n",
      "PRESTIGE.NS\n",
      "[*********************100%***********************]  1 of 1 completed\n"
     ]
    },
    {
     "name": "stderr",
     "output_type": "stream",
     "text": [
      "C:\\Users\\Admin\\AppData\\Local\\Temp\\ipykernel_86652\\21544151.py:4: FutureWarning: The frame.append method is deprecated and will be removed from pandas in a future version. Use pandas.concat instead.\n",
      "  final = final.append(df, ignore_index=True)\n"
     ]
    },
    {
     "name": "stdout",
     "output_type": "stream",
     "text": [
      "[*********************100%***********************]  1 of 1 completed\n",
      "[*********************100%***********************]  1 of 1 completed\n",
      "[*********************100%***********************]  1 of 1 completed\n",
      "[*********************100%***********************]  1 of 1 completed\n",
      "[*********************100%***********************]  1 of 1 completed\n",
      "[*********************100%***********************]  1 of 1 completed\n",
      "[*********************100%***********************]  1 of 1 completed\n",
      "PGHH.NS\n",
      "[*********************100%***********************]  1 of 1 completed\n"
     ]
    },
    {
     "name": "stderr",
     "output_type": "stream",
     "text": [
      "C:\\Users\\Admin\\AppData\\Local\\Temp\\ipykernel_86652\\21544151.py:4: FutureWarning: The frame.append method is deprecated and will be removed from pandas in a future version. Use pandas.concat instead.\n",
      "  final = final.append(df, ignore_index=True)\n"
     ]
    },
    {
     "name": "stdout",
     "output_type": "stream",
     "text": [
      "[*********************100%***********************]  1 of 1 completed\n",
      "[*********************100%***********************]  1 of 1 completed\n",
      "[*********************100%***********************]  1 of 1 completed\n",
      "[*********************100%***********************]  1 of 1 completed\n",
      "[*********************100%***********************]  1 of 1 completed\n",
      "[*********************100%***********************]  1 of 1 completed\n",
      "[*********************100%***********************]  1 of 1 completed\n",
      "PNB.NS\n",
      "[*********************100%***********************]  1 of 1 completed\n"
     ]
    },
    {
     "name": "stderr",
     "output_type": "stream",
     "text": [
      "C:\\Users\\Admin\\AppData\\Local\\Temp\\ipykernel_86652\\21544151.py:4: FutureWarning: The frame.append method is deprecated and will be removed from pandas in a future version. Use pandas.concat instead.\n",
      "  final = final.append(df, ignore_index=True)\n"
     ]
    },
    {
     "name": "stdout",
     "output_type": "stream",
     "text": [
      "[*********************100%***********************]  1 of 1 completed\n",
      "[*********************100%***********************]  1 of 1 completed\n",
      "[*********************100%***********************]  1 of 1 completed\n",
      "[*********************100%***********************]  1 of 1 completed\n",
      "[*********************100%***********************]  1 of 1 completed\n",
      "[*********************100%***********************]  1 of 1 completed\n",
      "[*********************100%***********************]  1 of 1 completed\n",
      "RECLTD.NS\n",
      "[*********************100%***********************]  1 of 1 completed\n"
     ]
    },
    {
     "name": "stderr",
     "output_type": "stream",
     "text": [
      "C:\\Users\\Admin\\AppData\\Local\\Temp\\ipykernel_86652\\21544151.py:4: FutureWarning: The frame.append method is deprecated and will be removed from pandas in a future version. Use pandas.concat instead.\n",
      "  final = final.append(df, ignore_index=True)\n"
     ]
    },
    {
     "name": "stdout",
     "output_type": "stream",
     "text": [
      "[*********************100%***********************]  1 of 1 completed\n",
      "[*********************100%***********************]  1 of 1 completed\n",
      "[*********************100%***********************]  1 of 1 completed\n",
      "[*********************100%***********************]  1 of 1 completed\n",
      "[*********************100%***********************]  1 of 1 completed\n",
      "[*********************100%***********************]  1 of 1 completed\n",
      "[*********************100%***********************]  1 of 1 completed\n",
      "RELIANCE.NS\n",
      "[*********************100%***********************]  1 of 1 completed\n"
     ]
    },
    {
     "name": "stderr",
     "output_type": "stream",
     "text": [
      "C:\\Users\\Admin\\AppData\\Local\\Temp\\ipykernel_86652\\21544151.py:4: FutureWarning: The frame.append method is deprecated and will be removed from pandas in a future version. Use pandas.concat instead.\n",
      "  final = final.append(df, ignore_index=True)\n"
     ]
    },
    {
     "name": "stdout",
     "output_type": "stream",
     "text": [
      "[*********************100%***********************]  1 of 1 completed\n",
      "[*********************100%***********************]  1 of 1 completed\n",
      "[*********************100%***********************]  1 of 1 completed\n",
      "[*********************100%***********************]  1 of 1 completed\n",
      "[*********************100%***********************]  1 of 1 completed\n",
      "[*********************100%***********************]  1 of 1 completed\n",
      "[*********************100%***********************]  1 of 1 completed\n",
      "SBICARD.NS\n",
      "[*********************100%***********************]  1 of 1 completed\n"
     ]
    },
    {
     "name": "stderr",
     "output_type": "stream",
     "text": [
      "C:\\Users\\Admin\\AppData\\Local\\Temp\\ipykernel_86652\\21544151.py:4: FutureWarning: The frame.append method is deprecated and will be removed from pandas in a future version. Use pandas.concat instead.\n",
      "  final = final.append(df, ignore_index=True)\n"
     ]
    },
    {
     "name": "stdout",
     "output_type": "stream",
     "text": [
      "[*********************100%***********************]  1 of 1 completed\n",
      "[*********************100%***********************]  1 of 1 completed\n",
      "[*********************100%***********************]  1 of 1 completed\n",
      "[*********************100%***********************]  1 of 1 completed\n",
      "[*********************100%***********************]  1 of 1 completed\n",
      "[*********************100%***********************]  1 of 1 completed\n",
      "[*********************100%***********************]  1 of 1 completed\n",
      "SBILIFE.NS\n",
      "[*********************100%***********************]  1 of 1 completed\n"
     ]
    },
    {
     "name": "stderr",
     "output_type": "stream",
     "text": [
      "C:\\Users\\Admin\\AppData\\Local\\Temp\\ipykernel_86652\\21544151.py:4: FutureWarning: The frame.append method is deprecated and will be removed from pandas in a future version. Use pandas.concat instead.\n",
      "  final = final.append(df, ignore_index=True)\n"
     ]
    },
    {
     "name": "stdout",
     "output_type": "stream",
     "text": [
      "[*********************100%***********************]  1 of 1 completed\n",
      "[*********************100%***********************]  1 of 1 completed\n",
      "[*********************100%***********************]  1 of 1 completed\n",
      "[*********************100%***********************]  1 of 1 completed\n",
      "[*********************100%***********************]  1 of 1 completed\n",
      "[*********************100%***********************]  1 of 1 completed\n",
      "[*********************100%***********************]  1 of 1 completed\n",
      "SRF.NS\n",
      "[*********************100%***********************]  1 of 1 completed\n"
     ]
    },
    {
     "name": "stderr",
     "output_type": "stream",
     "text": [
      "C:\\Users\\Admin\\AppData\\Local\\Temp\\ipykernel_86652\\21544151.py:4: FutureWarning: The frame.append method is deprecated and will be removed from pandas in a future version. Use pandas.concat instead.\n",
      "  final = final.append(df, ignore_index=True)\n"
     ]
    },
    {
     "name": "stdout",
     "output_type": "stream",
     "text": [
      "[*********************100%***********************]  1 of 1 completed\n",
      "[*********************100%***********************]  1 of 1 completed\n",
      "[*********************100%***********************]  1 of 1 completed\n",
      "[*********************100%***********************]  1 of 1 completed\n",
      "[*********************100%***********************]  1 of 1 completed\n",
      "[*********************100%***********************]  1 of 1 completed\n",
      "[*********************100%***********************]  1 of 1 completed\n",
      "SHREECEM.NS\n",
      "[*********************100%***********************]  1 of 1 completed\n"
     ]
    },
    {
     "name": "stderr",
     "output_type": "stream",
     "text": [
      "C:\\Users\\Admin\\AppData\\Local\\Temp\\ipykernel_86652\\21544151.py:4: FutureWarning: The frame.append method is deprecated and will be removed from pandas in a future version. Use pandas.concat instead.\n",
      "  final = final.append(df, ignore_index=True)\n"
     ]
    },
    {
     "name": "stdout",
     "output_type": "stream",
     "text": [
      "[*********************100%***********************]  1 of 1 completed\n",
      "[*********************100%***********************]  1 of 1 completed\n",
      "[*********************100%***********************]  1 of 1 completed\n",
      "[*********************100%***********************]  1 of 1 completed\n",
      "[*********************100%***********************]  1 of 1 completed\n",
      "[*********************100%***********************]  1 of 1 completed\n",
      "[*********************100%***********************]  1 of 1 completed\n",
      "SRTRANSFIN.NS\n",
      "[*********************100%***********************]  1 of 1 completed\n",
      "\n",
      "1 Failed download:\n",
      "- SRTRANSFIN.NS: No data found, symbol may be delisted\n"
     ]
    },
    {
     "name": "stderr",
     "output_type": "stream",
     "text": [
      "C:\\Users\\Admin\\AppData\\Local\\Temp\\ipykernel_86652\\21544151.py:4: FutureWarning: The frame.append method is deprecated and will be removed from pandas in a future version. Use pandas.concat instead.\n",
      "  final = final.append(df, ignore_index=True)\n"
     ]
    },
    {
     "name": "stdout",
     "output_type": "stream",
     "text": [
      "[*********************100%***********************]  1 of 1 completed\n",
      "\n",
      "1 Failed download:\n",
      "- SRTRANSFIN.NS: No data found, symbol may be delisted\n",
      "[*********************100%***********************]  1 of 1 completed\n",
      "\n",
      "1 Failed download:\n",
      "- SRTRANSFIN.NS: No data found, symbol may be delisted\n",
      "[*********************100%***********************]  1 of 1 completed\n",
      "\n",
      "1 Failed download:\n",
      "- SRTRANSFIN.NS: No data found, symbol may be delisted\n",
      "[*********************100%***********************]  1 of 1 completed\n",
      "\n",
      "1 Failed download:\n",
      "- SRTRANSFIN.NS: No data found, symbol may be delisted\n",
      "[*********************100%***********************]  1 of 1 completed\n",
      "\n",
      "1 Failed download:\n",
      "- SRTRANSFIN.NS: No data found, symbol may be delisted\n",
      "[*********************100%***********************]  1 of 1 completed\n",
      "\n",
      "1 Failed download:\n",
      "- SRTRANSFIN.NS: No data found, symbol may be delisted\n",
      "[*********************100%***********************]  1 of 1 completed\n",
      "\n",
      "1 Failed download:\n",
      "- SRTRANSFIN.NS: No data found, symbol may be delisted\n",
      "SIEMENS.NS\n"
     ]
    },
    {
     "name": "stderr",
     "output_type": "stream",
     "text": [
      "C:\\Users\\Admin\\AppData\\Local\\Temp\\ipykernel_86652\\1438680510.py:38: RuntimeWarning: invalid value encountered in long_scalars\n",
      "  return (256*((final_W1.size*100)/(W1.size))+128*((final_W2.size*100)/(W2.size))+64*((final_W4.size*100)/(W4.size))+32*((final_W8.size*100)/(W8.size))+16*((final_W16.size*100)/(W16.size))+8*((final_M6.size*100)/M6.size)+4*((final_Y1.size*100)/(Y1.size))+2*((final_Y2.size*100)/(Y2.size)))\n",
      "C:\\Users\\Admin\\AppData\\Local\\Temp\\ipykernel_86652\\1438680510.py:72: RuntimeWarning: invalid value encountered in long_scalars\n",
      "  return (256*((final_W1.size*100)/(W1.size))+128*((final_W2.size*100)/(W2.size))+64*((final_W4.size*100)/(W4.size))+32*((final_W8.size*100)/(W8.size))+16*((final_W16.size*100)/(W16.size))+8*((final_M6.size*100)/M6.size)+4*((final_Y1.size*100)/(Y1.size))+2*((final_Y2.size*100)/(Y2.size)))\n",
      "C:\\Users\\Admin\\AppData\\Local\\Temp\\ipykernel_86652\\21544151.py:4: FutureWarning: The frame.append method is deprecated and will be removed from pandas in a future version. Use pandas.concat instead.\n",
      "  final = final.append(df, ignore_index=True)\n"
     ]
    },
    {
     "name": "stdout",
     "output_type": "stream",
     "text": [
      "[*********************100%***********************]  1 of 1 completed\n",
      "[*********************100%***********************]  1 of 1 completed\n",
      "[*********************100%***********************]  1 of 1 completed\n",
      "[*********************100%***********************]  1 of 1 completed\n",
      "[*********************100%***********************]  1 of 1 completed\n",
      "[*********************100%***********************]  1 of 1 completed\n",
      "[*********************100%***********************]  1 of 1 completed\n",
      "[*********************100%***********************]  1 of 1 completed\n",
      "SONACOMS.NS\n"
     ]
    },
    {
     "name": "stderr",
     "output_type": "stream",
     "text": [
      "C:\\Users\\Admin\\AppData\\Local\\Temp\\ipykernel_86652\\21544151.py:4: FutureWarning: The frame.append method is deprecated and will be removed from pandas in a future version. Use pandas.concat instead.\n",
      "  final = final.append(df, ignore_index=True)\n"
     ]
    },
    {
     "name": "stdout",
     "output_type": "stream",
     "text": [
      "[*********************100%***********************]  1 of 1 completed\n",
      "[*********************100%***********************]  1 of 1 completed\n",
      "[*********************100%***********************]  1 of 1 completed\n",
      "[*********************100%***********************]  1 of 1 completed\n",
      "[*********************100%***********************]  1 of 1 completed\n",
      "[*********************100%***********************]  1 of 1 completed\n",
      "[*********************100%***********************]  1 of 1 completed\n",
      "[*********************100%***********************]  1 of 1 completed\n",
      "SBIN.NS\n"
     ]
    },
    {
     "name": "stderr",
     "output_type": "stream",
     "text": [
      "C:\\Users\\Admin\\AppData\\Local\\Temp\\ipykernel_86652\\21544151.py:4: FutureWarning: The frame.append method is deprecated and will be removed from pandas in a future version. Use pandas.concat instead.\n",
      "  final = final.append(df, ignore_index=True)\n"
     ]
    },
    {
     "name": "stdout",
     "output_type": "stream",
     "text": [
      "[*********************100%***********************]  1 of 1 completed\n",
      "[*********************100%***********************]  1 of 1 completed\n",
      "[*********************100%***********************]  1 of 1 completed\n",
      "[*********************100%***********************]  1 of 1 completed\n",
      "[*********************100%***********************]  1 of 1 completed\n",
      "[*********************100%***********************]  1 of 1 completed\n",
      "[*********************100%***********************]  1 of 1 completed\n",
      "[*********************100%***********************]  1 of 1 completed\n",
      "SAIL.NS\n"
     ]
    },
    {
     "name": "stderr",
     "output_type": "stream",
     "text": [
      "C:\\Users\\Admin\\AppData\\Local\\Temp\\ipykernel_86652\\21544151.py:4: FutureWarning: The frame.append method is deprecated and will be removed from pandas in a future version. Use pandas.concat instead.\n",
      "  final = final.append(df, ignore_index=True)\n"
     ]
    },
    {
     "name": "stdout",
     "output_type": "stream",
     "text": [
      "[*********************100%***********************]  1 of 1 completed\n",
      "[*********************100%***********************]  1 of 1 completed\n",
      "[*********************100%***********************]  1 of 1 completed\n",
      "[*********************100%***********************]  1 of 1 completed\n",
      "[*********************100%***********************]  1 of 1 completed\n",
      "[*********************100%***********************]  1 of 1 completed\n",
      "[*********************100%***********************]  1 of 1 completed\n",
      "[*********************100%***********************]  1 of 1 completed\n",
      "SUNPHARMA.NS\n"
     ]
    },
    {
     "name": "stderr",
     "output_type": "stream",
     "text": [
      "C:\\Users\\Admin\\AppData\\Local\\Temp\\ipykernel_86652\\21544151.py:4: FutureWarning: The frame.append method is deprecated and will be removed from pandas in a future version. Use pandas.concat instead.\n",
      "  final = final.append(df, ignore_index=True)\n"
     ]
    },
    {
     "name": "stdout",
     "output_type": "stream",
     "text": [
      "[*********************100%***********************]  1 of 1 completed\n",
      "[*********************100%***********************]  1 of 1 completed\n",
      "[*********************100%***********************]  1 of 1 completed\n",
      "[*********************100%***********************]  1 of 1 completed\n",
      "[*********************100%***********************]  1 of 1 completed\n",
      "[*********************100%***********************]  1 of 1 completed\n",
      "[*********************100%***********************]  1 of 1 completed\n",
      "[*********************100%***********************]  1 of 1 completed\n",
      "SUNTV.NS\n",
      "[*********************100%***********************]  1 of 1 completed"
     ]
    },
    {
     "name": "stderr",
     "output_type": "stream",
     "text": [
      "C:\\Users\\Admin\\AppData\\Local\\Temp\\ipykernel_86652\\21544151.py:4: FutureWarning: The frame.append method is deprecated and will be removed from pandas in a future version. Use pandas.concat instead.\n",
      "  final = final.append(df, ignore_index=True)\n"
     ]
    },
    {
     "name": "stdout",
     "output_type": "stream",
     "text": [
      "\n",
      "[*********************100%***********************]  1 of 1 completed\n",
      "[*********************100%***********************]  1 of 1 completed\n",
      "[*********************100%***********************]  1 of 1 completed\n",
      "[*********************100%***********************]  1 of 1 completed\n",
      "[*********************100%***********************]  1 of 1 completed\n",
      "[*********************100%***********************]  1 of 1 completed\n",
      "[*********************100%***********************]  1 of 1 completed\n",
      "SYNGENE.NS\n",
      "[*********************100%***********************]  1 of 1 completed\n"
     ]
    },
    {
     "name": "stderr",
     "output_type": "stream",
     "text": [
      "C:\\Users\\Admin\\AppData\\Local\\Temp\\ipykernel_86652\\21544151.py:4: FutureWarning: The frame.append method is deprecated and will be removed from pandas in a future version. Use pandas.concat instead.\n",
      "  final = final.append(df, ignore_index=True)\n"
     ]
    },
    {
     "name": "stdout",
     "output_type": "stream",
     "text": [
      "[*********************100%***********************]  1 of 1 completed\n",
      "[*********************100%***********************]  1 of 1 completed\n",
      "[*********************100%***********************]  1 of 1 completed\n",
      "[*********************100%***********************]  1 of 1 completed\n",
      "[*********************100%***********************]  1 of 1 completed\n",
      "[*********************100%***********************]  1 of 1 completed\n",
      "[*********************100%***********************]  1 of 1 completed\n",
      "TVSMOTOR.NS\n",
      "[*********************100%***********************]  1 of 1 completed\n"
     ]
    },
    {
     "name": "stderr",
     "output_type": "stream",
     "text": [
      "C:\\Users\\Admin\\AppData\\Local\\Temp\\ipykernel_86652\\21544151.py:4: FutureWarning: The frame.append method is deprecated and will be removed from pandas in a future version. Use pandas.concat instead.\n",
      "  final = final.append(df, ignore_index=True)\n"
     ]
    },
    {
     "name": "stdout",
     "output_type": "stream",
     "text": [
      "[*********************100%***********************]  1 of 1 completed\n",
      "[*********************100%***********************]  1 of 1 completed\n",
      "[*********************100%***********************]  1 of 1 completed\n",
      "[*********************100%***********************]  1 of 1 completed\n",
      "[*********************100%***********************]  1 of 1 completed\n",
      "[*********************100%***********************]  1 of 1 completed\n",
      "[*********************100%***********************]  1 of 1 completed\n",
      "TATACHEM.NS\n",
      "[*********************100%***********************]  1 of 1 completed"
     ]
    },
    {
     "name": "stderr",
     "output_type": "stream",
     "text": [
      "C:\\Users\\Admin\\AppData\\Local\\Temp\\ipykernel_86652\\21544151.py:4: FutureWarning: The frame.append method is deprecated and will be removed from pandas in a future version. Use pandas.concat instead.\n",
      "  final = final.append(df, ignore_index=True)\n"
     ]
    },
    {
     "name": "stdout",
     "output_type": "stream",
     "text": [
      "\n",
      "[*********************100%***********************]  1 of 1 completed\n",
      "[*********************100%***********************]  1 of 1 completed\n",
      "[*********************100%***********************]  1 of 1 completed\n",
      "[*********************100%***********************]  1 of 1 completed\n",
      "[*********************100%***********************]  1 of 1 completed\n",
      "[*********************100%***********************]  1 of 1 completed\n",
      "[*********************100%***********************]  1 of 1 completed\n",
      "TATACOMM.NS\n",
      "[*********************100%***********************]  1 of 1 completed\n"
     ]
    },
    {
     "name": "stderr",
     "output_type": "stream",
     "text": [
      "C:\\Users\\Admin\\AppData\\Local\\Temp\\ipykernel_86652\\21544151.py:4: FutureWarning: The frame.append method is deprecated and will be removed from pandas in a future version. Use pandas.concat instead.\n",
      "  final = final.append(df, ignore_index=True)\n"
     ]
    },
    {
     "name": "stdout",
     "output_type": "stream",
     "text": [
      "[*********************100%***********************]  1 of 1 completed\n",
      "[*********************100%***********************]  1 of 1 completed\n",
      "[*********************100%***********************]  1 of 1 completed\n",
      "[*********************100%***********************]  1 of 1 completed\n",
      "[*********************100%***********************]  1 of 1 completed\n",
      "[*********************100%***********************]  1 of 1 completed\n",
      "[*********************100%***********************]  1 of 1 completed\n",
      "TCS.NS\n",
      "[*********************100%***********************]  1 of 1 completed"
     ]
    },
    {
     "name": "stderr",
     "output_type": "stream",
     "text": [
      "C:\\Users\\Admin\\AppData\\Local\\Temp\\ipykernel_86652\\21544151.py:4: FutureWarning: The frame.append method is deprecated and will be removed from pandas in a future version. Use pandas.concat instead.\n",
      "  final = final.append(df, ignore_index=True)\n"
     ]
    },
    {
     "name": "stdout",
     "output_type": "stream",
     "text": [
      "\n",
      "[*********************100%***********************]  1 of 1 completed\n",
      "[*********************100%***********************]  1 of 1 completed\n",
      "[*********************100%***********************]  1 of 1 completed\n",
      "[*********************100%***********************]  1 of 1 completed\n",
      "[*********************100%***********************]  1 of 1 completed\n",
      "[*********************100%***********************]  1 of 1 completed\n",
      "[*********************100%***********************]  1 of 1 completed\n",
      "TATACONSUM.NS\n",
      "[*********************100%***********************]  1 of 1 completed"
     ]
    },
    {
     "name": "stderr",
     "output_type": "stream",
     "text": [
      "C:\\Users\\Admin\\AppData\\Local\\Temp\\ipykernel_86652\\21544151.py:4: FutureWarning: The frame.append method is deprecated and will be removed from pandas in a future version. Use pandas.concat instead.\n",
      "  final = final.append(df, ignore_index=True)\n"
     ]
    },
    {
     "name": "stdout",
     "output_type": "stream",
     "text": [
      "\n",
      "[*********************100%***********************]  1 of 1 completed\n",
      "[*********************100%***********************]  1 of 1 completed\n",
      "[*********************100%***********************]  1 of 1 completed\n",
      "[*********************100%***********************]  1 of 1 completed\n",
      "[*********************100%***********************]  1 of 1 completed\n",
      "[*********************100%***********************]  1 of 1 completed\n",
      "[*********************100%***********************]  1 of 1 completed\n",
      "TATAELXSI.NS\n",
      "[*********************100%***********************]  1 of 1 completed\n"
     ]
    },
    {
     "name": "stderr",
     "output_type": "stream",
     "text": [
      "C:\\Users\\Admin\\AppData\\Local\\Temp\\ipykernel_86652\\21544151.py:4: FutureWarning: The frame.append method is deprecated and will be removed from pandas in a future version. Use pandas.concat instead.\n",
      "  final = final.append(df, ignore_index=True)\n"
     ]
    },
    {
     "name": "stdout",
     "output_type": "stream",
     "text": [
      "[*********************100%***********************]  1 of 1 completed\n",
      "[*********************100%***********************]  1 of 1 completed\n",
      "[*********************100%***********************]  1 of 1 completed\n",
      "[*********************100%***********************]  1 of 1 completed\n",
      "[*********************100%***********************]  1 of 1 completed\n",
      "[*********************100%***********************]  1 of 1 completed\n",
      "[*********************100%***********************]  1 of 1 completed\n",
      "TATAMOTORS.NS\n",
      "[*********************100%***********************]  1 of 1 completed\n"
     ]
    },
    {
     "name": "stderr",
     "output_type": "stream",
     "text": [
      "C:\\Users\\Admin\\AppData\\Local\\Temp\\ipykernel_86652\\21544151.py:4: FutureWarning: The frame.append method is deprecated and will be removed from pandas in a future version. Use pandas.concat instead.\n",
      "  final = final.append(df, ignore_index=True)\n"
     ]
    },
    {
     "name": "stdout",
     "output_type": "stream",
     "text": [
      "[*********************100%***********************]  1 of 1 completed\n",
      "[*********************100%***********************]  1 of 1 completed\n",
      "[*********************100%***********************]  1 of 1 completed\n",
      "[*********************100%***********************]  1 of 1 completed\n",
      "[*********************100%***********************]  1 of 1 completed\n",
      "[*********************100%***********************]  1 of 1 completed\n",
      "[*********************100%***********************]  1 of 1 completed\n",
      "TATAPOWER.NS\n",
      "[*********************100%***********************]  1 of 1 completed"
     ]
    },
    {
     "name": "stderr",
     "output_type": "stream",
     "text": [
      "C:\\Users\\Admin\\AppData\\Local\\Temp\\ipykernel_86652\\21544151.py:4: FutureWarning: The frame.append method is deprecated and will be removed from pandas in a future version. Use pandas.concat instead.\n",
      "  final = final.append(df, ignore_index=True)\n"
     ]
    },
    {
     "name": "stdout",
     "output_type": "stream",
     "text": [
      "\n",
      "[*********************100%***********************]  1 of 1 completed\n",
      "[*********************100%***********************]  1 of 1 completed\n",
      "[*********************100%***********************]  1 of 1 completed\n",
      "[*********************100%***********************]  1 of 1 completed\n",
      "[*********************100%***********************]  1 of 1 completed\n",
      "[*********************100%***********************]  1 of 1 completed\n",
      "[*********************100%***********************]  1 of 1 completed\n",
      "TATASTEEL.NS\n",
      "[*********************100%***********************]  1 of 1 completed\n"
     ]
    },
    {
     "name": "stderr",
     "output_type": "stream",
     "text": [
      "C:\\Users\\Admin\\AppData\\Local\\Temp\\ipykernel_86652\\21544151.py:4: FutureWarning: The frame.append method is deprecated and will be removed from pandas in a future version. Use pandas.concat instead.\n",
      "  final = final.append(df, ignore_index=True)\n"
     ]
    },
    {
     "name": "stdout",
     "output_type": "stream",
     "text": [
      "[*********************100%***********************]  1 of 1 completed\n",
      "[*********************100%***********************]  1 of 1 completed\n",
      "[*********************100%***********************]  1 of 1 completed\n",
      "[*********************100%***********************]  1 of 1 completed\n",
      "[*********************100%***********************]  1 of 1 completed\n",
      "[*********************100%***********************]  1 of 1 completed\n",
      "[*********************100%***********************]  1 of 1 completed\n",
      "TECHM.NS\n",
      "[*********************100%***********************]  1 of 1 completed\n"
     ]
    },
    {
     "name": "stderr",
     "output_type": "stream",
     "text": [
      "C:\\Users\\Admin\\AppData\\Local\\Temp\\ipykernel_86652\\21544151.py:4: FutureWarning: The frame.append method is deprecated and will be removed from pandas in a future version. Use pandas.concat instead.\n",
      "  final = final.append(df, ignore_index=True)\n"
     ]
    },
    {
     "name": "stdout",
     "output_type": "stream",
     "text": [
      "[*********************100%***********************]  1 of 1 completed\n",
      "[*********************100%***********************]  1 of 1 completed\n",
      "[*********************100%***********************]  1 of 1 completed\n",
      "[*********************100%***********************]  1 of 1 completed\n",
      "[*********************100%***********************]  1 of 1 completed\n",
      "[*********************100%***********************]  1 of 1 completed\n",
      "[*********************100%***********************]  1 of 1 completed\n",
      "RAMCOCEM.NS\n"
     ]
    },
    {
     "name": "stderr",
     "output_type": "stream",
     "text": [
      "C:\\Users\\Admin\\AppData\\Local\\Temp\\ipykernel_86652\\21544151.py:4: FutureWarning: The frame.append method is deprecated and will be removed from pandas in a future version. Use pandas.concat instead.\n",
      "  final = final.append(df, ignore_index=True)\n"
     ]
    },
    {
     "name": "stdout",
     "output_type": "stream",
     "text": [
      "[*********************100%***********************]  1 of 1 completed\n",
      "[*********************100%***********************]  1 of 1 completed\n",
      "[*********************100%***********************]  1 of 1 completed\n",
      "[*********************100%***********************]  1 of 1 completed\n",
      "[*********************100%***********************]  1 of 1 completed\n",
      "[*********************100%***********************]  1 of 1 completed\n",
      "[*********************100%***********************]  1 of 1 completed\n",
      "[*********************100%***********************]  1 of 1 completed\n",
      "TITAN.NS\n"
     ]
    },
    {
     "name": "stderr",
     "output_type": "stream",
     "text": [
      "C:\\Users\\Admin\\AppData\\Local\\Temp\\ipykernel_86652\\21544151.py:4: FutureWarning: The frame.append method is deprecated and will be removed from pandas in a future version. Use pandas.concat instead.\n",
      "  final = final.append(df, ignore_index=True)\n"
     ]
    },
    {
     "name": "stdout",
     "output_type": "stream",
     "text": [
      "[*********************100%***********************]  1 of 1 completed\n",
      "[*********************100%***********************]  1 of 1 completed\n",
      "[*********************100%***********************]  1 of 1 completed\n",
      "[*********************100%***********************]  1 of 1 completed\n",
      "[*********************100%***********************]  1 of 1 completed\n",
      "[*********************100%***********************]  1 of 1 completed\n",
      "[*********************100%***********************]  1 of 1 completed\n",
      "[*********************100%***********************]  1 of 1 completed\n",
      "TORNTPHARM.NS\n"
     ]
    },
    {
     "name": "stderr",
     "output_type": "stream",
     "text": [
      "C:\\Users\\Admin\\AppData\\Local\\Temp\\ipykernel_86652\\21544151.py:4: FutureWarning: The frame.append method is deprecated and will be removed from pandas in a future version. Use pandas.concat instead.\n",
      "  final = final.append(df, ignore_index=True)\n"
     ]
    },
    {
     "name": "stdout",
     "output_type": "stream",
     "text": [
      "[*********************100%***********************]  1 of 1 completed\n",
      "[*********************100%***********************]  1 of 1 completed\n",
      "[*********************100%***********************]  1 of 1 completed\n",
      "[*********************100%***********************]  1 of 1 completed\n",
      "[*********************100%***********************]  1 of 1 completed\n",
      "[*********************100%***********************]  1 of 1 completed\n",
      "[*********************100%***********************]  1 of 1 completed\n",
      "[*********************100%***********************]  1 of 1 completed\n",
      "TORNTPOWER.NS\n"
     ]
    },
    {
     "name": "stderr",
     "output_type": "stream",
     "text": [
      "C:\\Users\\Admin\\AppData\\Local\\Temp\\ipykernel_86652\\21544151.py:4: FutureWarning: The frame.append method is deprecated and will be removed from pandas in a future version. Use pandas.concat instead.\n",
      "  final = final.append(df, ignore_index=True)\n"
     ]
    },
    {
     "name": "stdout",
     "output_type": "stream",
     "text": [
      "[*********************100%***********************]  1 of 1 completed\n",
      "[*********************100%***********************]  1 of 1 completed\n",
      "[*********************100%***********************]  1 of 1 completed\n",
      "[*********************100%***********************]  1 of 1 completed\n",
      "[*********************100%***********************]  1 of 1 completed\n",
      "[*********************100%***********************]  1 of 1 completed\n",
      "[*********************100%***********************]  1 of 1 completed\n",
      "[*********************100%***********************]  1 of 1 completed\n",
      "TRENT.NS\n",
      "[*********************100%***********************]  1 of 1 completed\n"
     ]
    },
    {
     "name": "stderr",
     "output_type": "stream",
     "text": [
      "C:\\Users\\Admin\\AppData\\Local\\Temp\\ipykernel_86652\\21544151.py:4: FutureWarning: The frame.append method is deprecated and will be removed from pandas in a future version. Use pandas.concat instead.\n",
      "  final = final.append(df, ignore_index=True)\n"
     ]
    },
    {
     "name": "stdout",
     "output_type": "stream",
     "text": [
      "[*********************100%***********************]  1 of 1 completed\n",
      "[*********************100%***********************]  1 of 1 completed\n",
      "[*********************100%***********************]  1 of 1 completed\n",
      "[*********************100%***********************]  1 of 1 completed\n",
      "[*********************100%***********************]  1 of 1 completed\n",
      "[*********************100%***********************]  1 of 1 completed\n",
      "[*********************100%***********************]  1 of 1 completed\n",
      "TRIDENT.NS\n",
      "[*********************100%***********************]  1 of 1 completed"
     ]
    },
    {
     "name": "stderr",
     "output_type": "stream",
     "text": [
      "C:\\Users\\Admin\\AppData\\Local\\Temp\\ipykernel_86652\\21544151.py:4: FutureWarning: The frame.append method is deprecated and will be removed from pandas in a future version. Use pandas.concat instead.\n",
      "  final = final.append(df, ignore_index=True)\n"
     ]
    },
    {
     "name": "stdout",
     "output_type": "stream",
     "text": [
      "\n",
      "[*********************100%***********************]  1 of 1 completed\n",
      "[*********************100%***********************]  1 of 1 completed\n",
      "[*********************100%***********************]  1 of 1 completed\n",
      "[*********************100%***********************]  1 of 1 completed\n",
      "[*********************100%***********************]  1 of 1 completed\n",
      "[*********************100%***********************]  1 of 1 completed\n",
      "[*********************100%***********************]  1 of 1 completed\n",
      "UPL.NS\n",
      "[*********************100%***********************]  1 of 1 completed\n"
     ]
    },
    {
     "name": "stderr",
     "output_type": "stream",
     "text": [
      "C:\\Users\\Admin\\AppData\\Local\\Temp\\ipykernel_86652\\21544151.py:4: FutureWarning: The frame.append method is deprecated and will be removed from pandas in a future version. Use pandas.concat instead.\n",
      "  final = final.append(df, ignore_index=True)\n"
     ]
    },
    {
     "name": "stdout",
     "output_type": "stream",
     "text": [
      "[*********************100%***********************]  1 of 1 completed\n",
      "[*********************100%***********************]  1 of 1 completed\n",
      "[*********************100%***********************]  1 of 1 completed\n",
      "[*********************100%***********************]  1 of 1 completed\n",
      "[*********************100%***********************]  1 of 1 completed\n",
      "[*********************100%***********************]  1 of 1 completed\n",
      "[*********************100%***********************]  1 of 1 completed\n",
      "ULTRACEMCO.NS\n"
     ]
    },
    {
     "name": "stderr",
     "output_type": "stream",
     "text": [
      "C:\\Users\\Admin\\AppData\\Local\\Temp\\ipykernel_86652\\21544151.py:4: FutureWarning: The frame.append method is deprecated and will be removed from pandas in a future version. Use pandas.concat instead.\n",
      "  final = final.append(df, ignore_index=True)\n"
     ]
    },
    {
     "name": "stdout",
     "output_type": "stream",
     "text": [
      "[*********************100%***********************]  1 of 1 completed\n",
      "[*********************100%***********************]  1 of 1 completed\n",
      "[*********************100%***********************]  1 of 1 completed\n",
      "[*********************100%***********************]  1 of 1 completed\n",
      "[*********************100%***********************]  1 of 1 completed\n",
      "[*********************100%***********************]  1 of 1 completed\n",
      "[*********************100%***********************]  1 of 1 completed\n",
      "[*********************100%***********************]  1 of 1 completed\n",
      "UNIONBANK.NS\n",
      "[*********************100%***********************]  1 of 1 completed"
     ]
    },
    {
     "name": "stderr",
     "output_type": "stream",
     "text": [
      "C:\\Users\\Admin\\AppData\\Local\\Temp\\ipykernel_86652\\21544151.py:4: FutureWarning: The frame.append method is deprecated and will be removed from pandas in a future version. Use pandas.concat instead.\n",
      "  final = final.append(df, ignore_index=True)\n"
     ]
    },
    {
     "name": "stdout",
     "output_type": "stream",
     "text": [
      "\n",
      "[*********************100%***********************]  1 of 1 completed\n",
      "[*********************100%***********************]  1 of 1 completed\n",
      "[*********************100%***********************]  1 of 1 completed\n",
      "[*********************100%***********************]  1 of 1 completed\n",
      "[*********************100%***********************]  1 of 1 completed\n",
      "[*********************100%***********************]  1 of 1 completed\n",
      "[*********************100%***********************]  1 of 1 completed\n",
      "UBL.NS\n",
      "[*********************100%***********************]  1 of 1 completed\n"
     ]
    },
    {
     "name": "stderr",
     "output_type": "stream",
     "text": [
      "C:\\Users\\Admin\\AppData\\Local\\Temp\\ipykernel_86652\\21544151.py:4: FutureWarning: The frame.append method is deprecated and will be removed from pandas in a future version. Use pandas.concat instead.\n",
      "  final = final.append(df, ignore_index=True)\n"
     ]
    },
    {
     "name": "stdout",
     "output_type": "stream",
     "text": [
      "[*********************100%***********************]  1 of 1 completed\n",
      "[*********************100%***********************]  1 of 1 completed\n",
      "[*********************100%***********************]  1 of 1 completed\n",
      "[*********************100%***********************]  1 of 1 completed\n",
      "[*********************100%***********************]  1 of 1 completed\n",
      "[*********************100%***********************]  1 of 1 completed\n",
      "[*********************100%***********************]  1 of 1 completed\n",
      "MCDOWELL-N.NS\n",
      "[*********************100%***********************]  1 of 1 completed\n"
     ]
    },
    {
     "name": "stderr",
     "output_type": "stream",
     "text": [
      "C:\\Users\\Admin\\AppData\\Local\\Temp\\ipykernel_86652\\21544151.py:4: FutureWarning: The frame.append method is deprecated and will be removed from pandas in a future version. Use pandas.concat instead.\n",
      "  final = final.append(df, ignore_index=True)\n"
     ]
    },
    {
     "name": "stdout",
     "output_type": "stream",
     "text": [
      "[*********************100%***********************]  1 of 1 completed\n",
      "[*********************100%***********************]  1 of 1 completed\n",
      "[*********************100%***********************]  1 of 1 completed\n",
      "[*********************100%***********************]  1 of 1 completed\n",
      "[*********************100%***********************]  1 of 1 completed\n",
      "[*********************100%***********************]  1 of 1 completed\n",
      "[*********************100%***********************]  1 of 1 completed\n",
      "VBL.NS\n",
      "[*********************100%***********************]  1 of 1 completed\n"
     ]
    },
    {
     "name": "stderr",
     "output_type": "stream",
     "text": [
      "C:\\Users\\Admin\\AppData\\Local\\Temp\\ipykernel_86652\\21544151.py:4: FutureWarning: The frame.append method is deprecated and will be removed from pandas in a future version. Use pandas.concat instead.\n",
      "  final = final.append(df, ignore_index=True)\n"
     ]
    },
    {
     "name": "stdout",
     "output_type": "stream",
     "text": [
      "[*********************100%***********************]  1 of 1 completed\n",
      "[*********************100%***********************]  1 of 1 completed\n",
      "[*********************100%***********************]  1 of 1 completed\n",
      "[*********************100%***********************]  1 of 1 completed\n",
      "[*********************100%***********************]  1 of 1 completed\n",
      "[*********************100%***********************]  1 of 1 completed\n",
      "[*********************100%***********************]  1 of 1 completed\n",
      "VEDL.NS\n"
     ]
    },
    {
     "name": "stderr",
     "output_type": "stream",
     "text": [
      "C:\\Users\\Admin\\AppData\\Local\\Temp\\ipykernel_86652\\21544151.py:4: FutureWarning: The frame.append method is deprecated and will be removed from pandas in a future version. Use pandas.concat instead.\n",
      "  final = final.append(df, ignore_index=True)\n"
     ]
    },
    {
     "name": "stdout",
     "output_type": "stream",
     "text": [
      "[*********************100%***********************]  1 of 1 completed\n",
      "[*********************100%***********************]  1 of 1 completed\n",
      "[*********************100%***********************]  1 of 1 completed\n",
      "[*********************100%***********************]  1 of 1 completed\n",
      "[*********************100%***********************]  1 of 1 completed\n",
      "[*********************100%***********************]  1 of 1 completed\n",
      "[*********************100%***********************]  1 of 1 completed\n",
      "[*********************100%***********************]  1 of 1 completed\n",
      "IDEA.NS\n",
      "[*********************100%***********************]  1 of 1 completed\n"
     ]
    },
    {
     "name": "stderr",
     "output_type": "stream",
     "text": [
      "C:\\Users\\Admin\\AppData\\Local\\Temp\\ipykernel_86652\\21544151.py:4: FutureWarning: The frame.append method is deprecated and will be removed from pandas in a future version. Use pandas.concat instead.\n",
      "  final = final.append(df, ignore_index=True)\n"
     ]
    },
    {
     "name": "stdout",
     "output_type": "stream",
     "text": [
      "[*********************100%***********************]  1 of 1 completed\n",
      "[*********************100%***********************]  1 of 1 completed\n",
      "[*********************100%***********************]  1 of 1 completed\n",
      "[*********************100%***********************]  1 of 1 completed\n",
      "[*********************100%***********************]  1 of 1 completed\n",
      "[*********************100%***********************]  1 of 1 completed\n",
      "[*********************100%***********************]  1 of 1 completed\n",
      "VOLTAS.NS\n",
      "[*********************100%***********************]  1 of 1 completed\n"
     ]
    },
    {
     "name": "stderr",
     "output_type": "stream",
     "text": [
      "C:\\Users\\Admin\\AppData\\Local\\Temp\\ipykernel_86652\\21544151.py:4: FutureWarning: The frame.append method is deprecated and will be removed from pandas in a future version. Use pandas.concat instead.\n",
      "  final = final.append(df, ignore_index=True)\n"
     ]
    },
    {
     "name": "stdout",
     "output_type": "stream",
     "text": [
      "[*********************100%***********************]  1 of 1 completed\n",
      "[*********************100%***********************]  1 of 1 completed\n",
      "[*********************100%***********************]  1 of 1 completed\n",
      "[*********************100%***********************]  1 of 1 completed\n",
      "[*********************100%***********************]  1 of 1 completed\n",
      "[*********************100%***********************]  1 of 1 completed\n",
      "[*********************100%***********************]  1 of 1 completed\n",
      "WHIRLPOOL.NS\n",
      "[*********************100%***********************]  1 of 1 completed"
     ]
    },
    {
     "name": "stderr",
     "output_type": "stream",
     "text": [
      "C:\\Users\\Admin\\AppData\\Local\\Temp\\ipykernel_86652\\21544151.py:4: FutureWarning: The frame.append method is deprecated and will be removed from pandas in a future version. Use pandas.concat instead.\n",
      "  final = final.append(df, ignore_index=True)\n"
     ]
    },
    {
     "name": "stdout",
     "output_type": "stream",
     "text": [
      "\n",
      "[*********************100%***********************]  1 of 1 completed\n",
      "[*********************100%***********************]  1 of 1 completed\n",
      "[*********************100%***********************]  1 of 1 completed\n",
      "[*********************100%***********************]  1 of 1 completed\n",
      "[*********************100%***********************]  1 of 1 completed\n",
      "[*********************100%***********************]  1 of 1 completed\n",
      "[*********************100%***********************]  1 of 1 completed\n",
      "WIPRO.NS\n"
     ]
    },
    {
     "name": "stderr",
     "output_type": "stream",
     "text": [
      "C:\\Users\\Admin\\AppData\\Local\\Temp\\ipykernel_86652\\21544151.py:4: FutureWarning: The frame.append method is deprecated and will be removed from pandas in a future version. Use pandas.concat instead.\n",
      "  final = final.append(df, ignore_index=True)\n"
     ]
    },
    {
     "name": "stdout",
     "output_type": "stream",
     "text": [
      "[*********************100%***********************]  1 of 1 completed\n",
      "[*********************100%***********************]  1 of 1 completed\n",
      "[*********************100%***********************]  1 of 1 completed\n",
      "[*********************100%***********************]  1 of 1 completed\n",
      "[*********************100%***********************]  1 of 1 completed\n",
      "[*********************100%***********************]  1 of 1 completed\n",
      "[*********************100%***********************]  1 of 1 completed\n",
      "[*********************100%***********************]  1 of 1 completed\n",
      "YESBANK.NS\n",
      "[*********************100%***********************]  1 of 1 completed\n"
     ]
    },
    {
     "name": "stderr",
     "output_type": "stream",
     "text": [
      "C:\\Users\\Admin\\AppData\\Local\\Temp\\ipykernel_86652\\21544151.py:4: FutureWarning: The frame.append method is deprecated and will be removed from pandas in a future version. Use pandas.concat instead.\n",
      "  final = final.append(df, ignore_index=True)\n"
     ]
    },
    {
     "name": "stdout",
     "output_type": "stream",
     "text": [
      "[*********************100%***********************]  1 of 1 completed\n",
      "[*********************100%***********************]  1 of 1 completed\n",
      "[*********************100%***********************]  1 of 1 completed\n",
      "[*********************100%***********************]  1 of 1 completed\n",
      "[*********************100%***********************]  1 of 1 completed\n",
      "[*********************100%***********************]  1 of 1 completed\n",
      "[*********************100%***********************]  1 of 1 completed\n",
      "ZEEL.NS\n",
      "[*********************100%***********************]  1 of 1 completed"
     ]
    },
    {
     "name": "stderr",
     "output_type": "stream",
     "text": [
      "C:\\Users\\Admin\\AppData\\Local\\Temp\\ipykernel_86652\\21544151.py:4: FutureWarning: The frame.append method is deprecated and will be removed from pandas in a future version. Use pandas.concat instead.\n",
      "  final = final.append(df, ignore_index=True)\n"
     ]
    },
    {
     "name": "stdout",
     "output_type": "stream",
     "text": [
      "\n",
      "[*********************100%***********************]  1 of 1 completed\n",
      "[*********************100%***********************]  1 of 1 completed\n",
      "[*********************100%***********************]  1 of 1 completed\n",
      "[*********************100%***********************]  1 of 1 completed\n",
      "[*********************100%***********************]  1 of 1 completed\n",
      "[*********************100%***********************]  1 of 1 completed\n",
      "[*********************100%***********************]  1 of 1 completed\n",
      "ZOMATO.NS\n",
      "[*********************100%***********************]  1 of 1 completed\n"
     ]
    },
    {
     "name": "stderr",
     "output_type": "stream",
     "text": [
      "C:\\Users\\Admin\\AppData\\Local\\Temp\\ipykernel_86652\\21544151.py:4: FutureWarning: The frame.append method is deprecated and will be removed from pandas in a future version. Use pandas.concat instead.\n",
      "  final = final.append(df, ignore_index=True)\n"
     ]
    },
    {
     "name": "stdout",
     "output_type": "stream",
     "text": [
      "[*********************100%***********************]  1 of 1 completed\n",
      "[*********************100%***********************]  1 of 1 completed\n",
      "[*********************100%***********************]  1 of 1 completed\n",
      "[*********************100%***********************]  1 of 1 completed\n",
      "[*********************100%***********************]  1 of 1 completed\n",
      "[*********************100%***********************]  1 of 1 completed\n",
      "[*********************100%***********************]  1 of 1 completed\n",
      "ZYDUSLIFE.NS\n"
     ]
    },
    {
     "name": "stderr",
     "output_type": "stream",
     "text": [
      "C:\\Users\\Admin\\AppData\\Local\\Temp\\ipykernel_86652\\21544151.py:4: FutureWarning: The frame.append method is deprecated and will be removed from pandas in a future version. Use pandas.concat instead.\n",
      "  final = final.append(df, ignore_index=True)\n"
     ]
    },
    {
     "name": "stdout",
     "output_type": "stream",
     "text": [
      "[*********************100%***********************]  1 of 1 completed\n",
      "[*********************100%***********************]  1 of 1 completed\n",
      "[*********************100%***********************]  1 of 1 completed\n",
      "[*********************100%***********************]  1 of 1 completed\n",
      "[*********************100%***********************]  1 of 1 completed\n",
      "[*********************100%***********************]  1 of 1 completed\n",
      "[*********************100%***********************]  1 of 1 completed\n",
      "[*********************100%***********************]  1 of 1 completed\n"
     ]
    },
    {
     "name": "stderr",
     "output_type": "stream",
     "text": [
      "C:\\Users\\Admin\\AppData\\Local\\Temp\\ipykernel_86652\\21544151.py:4: FutureWarning: The frame.append method is deprecated and will be removed from pandas in a future version. Use pandas.concat instead.\n",
      "  final = final.append(df, ignore_index=True)\n"
     ]
    }
   ],
   "source": [
    "for stock in stock_list:\n",
    "    print(stock)\n",
    "    df = get_data(stock)\n",
    "    final = final.append(df, ignore_index=True)"
   ]
  },
  {
   "cell_type": "code",
   "execution_count": 6,
   "id": "785a3ccf",
   "metadata": {},
   "outputs": [
    {
     "data": {
      "text/html": [
       "<div>\n",
       "<style scoped>\n",
       "    .dataframe tbody tr th:only-of-type {\n",
       "        vertical-align: middle;\n",
       "    }\n",
       "\n",
       "    .dataframe tbody tr th {\n",
       "        vertical-align: top;\n",
       "    }\n",
       "\n",
       "    .dataframe thead th {\n",
       "        text-align: right;\n",
       "    }\n",
       "</style>\n",
       "<table border=\"1\" class=\"dataframe\">\n",
       "  <thead>\n",
       "    <tr style=\"text-align: right;\">\n",
       "      <th></th>\n",
       "      <th>Stock</th>\n",
       "      <th>P035</th>\n",
       "      <th>P05</th>\n",
       "      <th>P1</th>\n",
       "      <th>P2</th>\n",
       "      <th>P35</th>\n",
       "      <th>R05</th>\n",
       "      <th>R1</th>\n",
       "      <th>R03</th>\n",
       "      <th>R0</th>\n",
       "    </tr>\n",
       "  </thead>\n",
       "  <tbody>\n",
       "    <tr>\n",
       "      <th>0</th>\n",
       "      <td>ABB.NS</td>\n",
       "      <td>8348.554621</td>\n",
       "      <td>8316.280849</td>\n",
       "      <td>5596.098102</td>\n",
       "      <td>2932.691173</td>\n",
       "      <td>402.049372</td>\n",
       "      <td>183.719151</td>\n",
       "      <td>2903.901898</td>\n",
       "      <td>108.557227</td>\n",
       "      <td>33.953858</td>\n",
       "    </tr>\n",
       "    <tr>\n",
       "      <th>1</th>\n",
       "      <td>ACC.NS</td>\n",
       "      <td>8301.635424</td>\n",
       "      <td>6932.607087</td>\n",
       "      <td>6576.783855</td>\n",
       "      <td>4860.122564</td>\n",
       "      <td>2163.936721</td>\n",
       "      <td>1567.392913</td>\n",
       "      <td>1923.216145</td>\n",
       "      <td>191.233424</td>\n",
       "      <td>36.027368</td>\n",
       "    </tr>\n",
       "    <tr>\n",
       "      <th>2</th>\n",
       "      <td>AUBANK.NS</td>\n",
       "      <td>7151.367298</td>\n",
       "      <td>7056.438234</td>\n",
       "      <td>4947.737446</td>\n",
       "      <td>4582.745158</td>\n",
       "      <td>2962.937617</td>\n",
       "      <td>1443.561766</td>\n",
       "      <td>3552.262554</td>\n",
       "      <td>205.856442</td>\n",
       "      <td>30.487117</td>\n",
       "    </tr>\n",
       "    <tr>\n",
       "      <th>3</th>\n",
       "      <td>ABBOTINDIA.NS</td>\n",
       "      <td>5651.630937</td>\n",
       "      <td>5533.059595</td>\n",
       "      <td>3872.044539</td>\n",
       "      <td>1299.000944</td>\n",
       "      <td>43.897007</td>\n",
       "      <td>2966.940405</td>\n",
       "      <td>4627.955461</td>\n",
       "      <td>1705.504699</td>\n",
       "      <td>368.477549</td>\n",
       "    </tr>\n",
       "    <tr>\n",
       "      <th>4</th>\n",
       "      <td>ADANIENT.NS</td>\n",
       "      <td>8119.613827</td>\n",
       "      <td>7986.179485</td>\n",
       "      <td>6358.032873</td>\n",
       "      <td>5915.963909</td>\n",
       "      <td>2687.354225</td>\n",
       "      <td>513.820515</td>\n",
       "      <td>2141.967127</td>\n",
       "      <td>377.814528</td>\n",
       "      <td>2.794428</td>\n",
       "    </tr>\n",
       "  </tbody>\n",
       "</table>\n",
       "</div>"
      ],
      "text/plain": [
       "           Stock         P035          P05           P1           P2  \\\n",
       "0         ABB.NS  8348.554621  8316.280849  5596.098102  2932.691173   \n",
       "1         ACC.NS  8301.635424  6932.607087  6576.783855  4860.122564   \n",
       "2      AUBANK.NS  7151.367298  7056.438234  4947.737446  4582.745158   \n",
       "3  ABBOTINDIA.NS  5651.630937  5533.059595  3872.044539  1299.000944   \n",
       "4    ADANIENT.NS  8119.613827  7986.179485  6358.032873  5915.963909   \n",
       "\n",
       "           P35          R05           R1          R03          R0  \n",
       "0   402.049372   183.719151  2903.901898   108.557227   33.953858  \n",
       "1  2163.936721  1567.392913  1923.216145   191.233424   36.027368  \n",
       "2  2962.937617  1443.561766  3552.262554   205.856442   30.487117  \n",
       "3    43.897007  2966.940405  4627.955461  1705.504699  368.477549  \n",
       "4  2687.354225   513.820515  2141.967127   377.814528    2.794428  "
      ]
     },
     "execution_count": 6,
     "metadata": {},
     "output_type": "execute_result"
    }
   ],
   "source": [
    "final.head()"
   ]
  },
  {
   "cell_type": "code",
   "execution_count": 7,
   "id": "5ff2f4d1",
   "metadata": {},
   "outputs": [],
   "source": [
    "final['St'] = 18*final['P35'] + 14*final['P2'] + 10*final['P1'] + 6*final['P05'] + 0.5*final['P035']\n",
    "final['Rt'] = 64*final['R0'] + 32*final['R03'] + 8*final['R05'] + 3*final['R1']\n",
    "final['V'] = (final['St']*final['St']) / final['Rt']            # Final Score on which the stocks will be rated"
   ]
  },
  {
   "cell_type": "code",
   "execution_count": 8,
   "id": "d177a3e1",
   "metadata": {
    "scrolled": true
   },
   "outputs": [
    {
     "data": {
      "text/html": [
       "<div>\n",
       "<style scoped>\n",
       "    .dataframe tbody tr th:only-of-type {\n",
       "        vertical-align: middle;\n",
       "    }\n",
       "\n",
       "    .dataframe tbody tr th {\n",
       "        vertical-align: top;\n",
       "    }\n",
       "\n",
       "    .dataframe thead th {\n",
       "        text-align: right;\n",
       "    }\n",
       "</style>\n",
       "<table border=\"1\" class=\"dataframe\">\n",
       "  <thead>\n",
       "    <tr style=\"text-align: right;\">\n",
       "      <th></th>\n",
       "      <th>Stock</th>\n",
       "      <th>P035</th>\n",
       "      <th>P05</th>\n",
       "      <th>P1</th>\n",
       "      <th>P2</th>\n",
       "      <th>P35</th>\n",
       "      <th>R05</th>\n",
       "      <th>R1</th>\n",
       "      <th>R03</th>\n",
       "      <th>R0</th>\n",
       "      <th>St</th>\n",
       "      <th>Rt</th>\n",
       "      <th>V</th>\n",
       "    </tr>\n",
       "  </thead>\n",
       "  <tbody>\n",
       "    <tr>\n",
       "      <th>8</th>\n",
       "      <td>ADANITRANS.NS</td>\n",
       "      <td>8315.180234</td>\n",
       "      <td>8182.530881</td>\n",
       "      <td>7924.808488</td>\n",
       "      <td>6243.012317</td>\n",
       "      <td>4807.549284</td>\n",
       "      <td>317.469119</td>\n",
       "      <td>575.191512</td>\n",
       "      <td>112.803193</td>\n",
       "      <td>64.658533</td>\n",
       "      <td>306438.919830</td>\n",
       "      <td>12013.175810</td>\n",
       "      <td>7.816818e+06</td>\n",
       "    </tr>\n",
       "    <tr>\n",
       "      <th>107</th>\n",
       "      <td>JSWENERGY.NS</td>\n",
       "      <td>8414.197572</td>\n",
       "      <td>8098.253867</td>\n",
       "      <td>7968.078949</td>\n",
       "      <td>3733.251038</td>\n",
       "      <td>3086.626298</td>\n",
       "      <td>401.746133</td>\n",
       "      <td>531.921051</td>\n",
       "      <td>80.192110</td>\n",
       "      <td>53.596266</td>\n",
       "      <td>240302.199371</td>\n",
       "      <td>10806.040796</td>\n",
       "      <td>5.343784e+06</td>\n",
       "    </tr>\n",
       "    <tr>\n",
       "      <th>7</th>\n",
       "      <td>ATGL.NS</td>\n",
       "      <td>8231.229112</td>\n",
       "      <td>8228.747193</td>\n",
       "      <td>6910.075497</td>\n",
       "      <td>6150.604531</td>\n",
       "      <td>3011.304155</td>\n",
       "      <td>271.252807</td>\n",
       "      <td>1589.924503</td>\n",
       "      <td>196.128036</td>\n",
       "      <td>75.209383</td>\n",
       "      <td>262900.790911</td>\n",
       "      <td>18029.293611</td>\n",
       "      <td>3.833585e+06</td>\n",
       "    </tr>\n",
       "    <tr>\n",
       "      <th>38</th>\n",
       "      <td>BOSCHLTD.NS</td>\n",
       "      <td>8380.068225</td>\n",
       "      <td>8321.822256</td>\n",
       "      <td>7743.710362</td>\n",
       "      <td>3012.135784</td>\n",
       "      <td>1441.425765</td>\n",
       "      <td>178.177744</td>\n",
       "      <td>756.289638</td>\n",
       "      <td>110.858254</td>\n",
       "      <td>51.201911</td>\n",
       "      <td>199673.636013</td>\n",
       "      <td>10518.677284</td>\n",
       "      <td>3.790359e+06</td>\n",
       "    </tr>\n",
       "    <tr>\n",
       "      <th>5</th>\n",
       "      <td>ADANIGREEN.NS</td>\n",
       "      <td>8320.616674</td>\n",
       "      <td>7167.249596</td>\n",
       "      <td>6902.367326</td>\n",
       "      <td>6146.566000</td>\n",
       "      <td>5527.351218</td>\n",
       "      <td>1332.750404</td>\n",
       "      <td>1597.632674</td>\n",
       "      <td>128.585026</td>\n",
       "      <td>102.369666</td>\n",
       "      <td>301731.725083</td>\n",
       "      <td>26121.280723</td>\n",
       "      <td>3.485359e+06</td>\n",
       "    </tr>\n",
       "    <tr>\n",
       "      <th>6</th>\n",
       "      <td>ADANIPORTS.NS</td>\n",
       "      <td>8215.377213</td>\n",
       "      <td>7993.453702</td>\n",
       "      <td>7382.161655</td>\n",
       "      <td>4783.338780</td>\n",
       "      <td>2123.522261</td>\n",
       "      <td>506.546298</td>\n",
       "      <td>1117.838345</td>\n",
       "      <td>282.879170</td>\n",
       "      <td>4.315263</td>\n",
       "      <td>231080.170991</td>\n",
       "      <td>16734.195666</td>\n",
       "      <td>3.190954e+06</td>\n",
       "    </tr>\n",
       "    <tr>\n",
       "      <th>15</th>\n",
       "      <td>APOLLOTYRE.NS</td>\n",
       "      <td>8265.671874</td>\n",
       "      <td>8239.498469</td>\n",
       "      <td>7871.284918</td>\n",
       "      <td>2286.406264</td>\n",
       "      <td>1541.137483</td>\n",
       "      <td>260.501531</td>\n",
       "      <td>628.715082</td>\n",
       "      <td>212.828883</td>\n",
       "      <td>18.306294</td>\n",
       "      <td>192032.838314</td>\n",
       "      <td>11952.284552</td>\n",
       "      <td>3.085319e+06</td>\n",
       "    </tr>\n",
       "    <tr>\n",
       "      <th>4</th>\n",
       "      <td>ADANIENT.NS</td>\n",
       "      <td>8119.613827</td>\n",
       "      <td>7986.179485</td>\n",
       "      <td>6358.032873</td>\n",
       "      <td>5915.963909</td>\n",
       "      <td>2687.354225</td>\n",
       "      <td>513.820515</td>\n",
       "      <td>2141.967127</td>\n",
       "      <td>377.814528</td>\n",
       "      <td>2.794428</td>\n",
       "      <td>246753.083334</td>\n",
       "      <td>22805.373787</td>\n",
       "      <td>2.669857e+06</td>\n",
       "    </tr>\n",
       "    <tr>\n",
       "      <th>53</th>\n",
       "      <td>DALBHARAT.NS</td>\n",
       "      <td>8298.230949</td>\n",
       "      <td>8269.243091</td>\n",
       "      <td>6754.999911</td>\n",
       "      <td>3842.402719</td>\n",
       "      <td>1877.113248</td>\n",
       "      <td>230.756909</td>\n",
       "      <td>1745.000089</td>\n",
       "      <td>199.823685</td>\n",
       "      <td>84.715547</td>\n",
       "      <td>208896.249669</td>\n",
       "      <td>18897.208436</td>\n",
       "      <td>2.309211e+06</td>\n",
       "    </tr>\n",
       "    <tr>\n",
       "      <th>70</th>\n",
       "      <td>GODREJPROP.NS</td>\n",
       "      <td>8295.159744</td>\n",
       "      <td>8259.599944</td>\n",
       "      <td>5751.552080</td>\n",
       "      <td>4182.356867</td>\n",
       "      <td>1668.903493</td>\n",
       "      <td>240.400056</td>\n",
       "      <td>2748.447920</td>\n",
       "      <td>183.585372</td>\n",
       "      <td>23.109078</td>\n",
       "      <td>199813.959332</td>\n",
       "      <td>17522.257083</td>\n",
       "      <td>2.278566e+06</td>\n",
       "    </tr>\n",
       "    <tr>\n",
       "      <th>72</th>\n",
       "      <td>GUJGASLTD.NS</td>\n",
       "      <td>8455.246926</td>\n",
       "      <td>7262.921927</td>\n",
       "      <td>6333.064588</td>\n",
       "      <td>4344.599165</td>\n",
       "      <td>1619.236135</td>\n",
       "      <td>1237.078073</td>\n",
       "      <td>2166.935412</td>\n",
       "      <td>43.992656</td>\n",
       "      <td>11.400922</td>\n",
       "      <td>201106.439640</td>\n",
       "      <td>18534.854814</td>\n",
       "      <td>2.182040e+06</td>\n",
       "    </tr>\n",
       "    <tr>\n",
       "      <th>122</th>\n",
       "      <td>MANAPPURAM.NS</td>\n",
       "      <td>8334.626211</td>\n",
       "      <td>8319.804582</td>\n",
       "      <td>6556.126614</td>\n",
       "      <td>2600.301521</td>\n",
       "      <td>719.768116</td>\n",
       "      <td>180.195418</td>\n",
       "      <td>1943.873386</td>\n",
       "      <td>145.930131</td>\n",
       "      <td>22.439833</td>\n",
       "      <td>169007.454119</td>\n",
       "      <td>13379.097035</td>\n",
       "      <td>2.134936e+06</td>\n",
       "    </tr>\n",
       "    <tr>\n",
       "      <th>16</th>\n",
       "      <td>ASHOKLEY.NS</td>\n",
       "      <td>8144.533549</td>\n",
       "      <td>8102.177942</td>\n",
       "      <td>6153.989731</td>\n",
       "      <td>3398.969969</td>\n",
       "      <td>2124.912736</td>\n",
       "      <td>397.822058</td>\n",
       "      <td>2346.010269</td>\n",
       "      <td>277.326384</td>\n",
       "      <td>8.627529</td>\n",
       "      <td>200059.240551</td>\n",
       "      <td>19647.213397</td>\n",
       "      <td>2.037118e+06</td>\n",
       "    </tr>\n",
       "    <tr>\n",
       "      <th>105</th>\n",
       "      <td>INDIGO.NS</td>\n",
       "      <td>8329.213094</td>\n",
       "      <td>8294.413712</td>\n",
       "      <td>6795.190142</td>\n",
       "      <td>2102.823255</td>\n",
       "      <td>1317.099750</td>\n",
       "      <td>205.586288</td>\n",
       "      <td>1704.809858</td>\n",
       "      <td>164.037674</td>\n",
       "      <td>52.792812</td>\n",
       "      <td>175030.311293</td>\n",
       "      <td>15387.065420</td>\n",
       "      <td>1.990998e+06</td>\n",
       "    </tr>\n",
       "    <tr>\n",
       "      <th>27</th>\n",
       "      <td>BANDHANBNK.NS</td>\n",
       "      <td>8377.624584</td>\n",
       "      <td>7158.137991</td>\n",
       "      <td>6592.463973</td>\n",
       "      <td>3848.857426</td>\n",
       "      <td>1844.613937</td>\n",
       "      <td>1341.862009</td>\n",
       "      <td>1907.536027</td>\n",
       "      <td>121.614999</td>\n",
       "      <td>4.159549</td>\n",
       "      <td>200149.334800</td>\n",
       "      <td>20615.395243</td>\n",
       "      <td>1.943196e+06</td>\n",
       "    </tr>\n",
       "    <tr>\n",
       "      <th>1</th>\n",
       "      <td>ACC.NS</td>\n",
       "      <td>8301.635424</td>\n",
       "      <td>6932.607087</td>\n",
       "      <td>6576.783855</td>\n",
       "      <td>4860.122564</td>\n",
       "      <td>2163.936721</td>\n",
       "      <td>1567.392913</td>\n",
       "      <td>1923.216145</td>\n",
       "      <td>191.233424</td>\n",
       "      <td>36.027368</td>\n",
       "      <td>218506.875654</td>\n",
       "      <td>26734.012850</td>\n",
       "      <td>1.785937e+06</td>\n",
       "    </tr>\n",
       "    <tr>\n",
       "      <th>33</th>\n",
       "      <td>BHARATFORG.NS</td>\n",
       "      <td>8233.217389</td>\n",
       "      <td>8190.171972</td>\n",
       "      <td>6417.596690</td>\n",
       "      <td>3525.329509</td>\n",
       "      <td>962.045619</td>\n",
       "      <td>309.828028</td>\n",
       "      <td>2082.403310</td>\n",
       "      <td>246.221075</td>\n",
       "      <td>38.174482</td>\n",
       "      <td>184105.041700</td>\n",
       "      <td>19048.075392</td>\n",
       "      <td>1.779427e+06</td>\n",
       "    </tr>\n",
       "    <tr>\n",
       "      <th>140</th>\n",
       "      <td>PAYTM.NS</td>\n",
       "      <td>8444.675304</td>\n",
       "      <td>6919.149534</td>\n",
       "      <td>6618.381674</td>\n",
       "      <td>3633.752709</td>\n",
       "      <td>1576.319837</td>\n",
       "      <td>1580.850466</td>\n",
       "      <td>1881.618326</td>\n",
       "      <td>55.324696</td>\n",
       "      <td>8.790449</td>\n",
       "      <td>191167.346584</td>\n",
       "      <td>20624.637684</td>\n",
       "      <td>1.771908e+06</td>\n",
       "    </tr>\n",
       "    <tr>\n",
       "      <th>100</th>\n",
       "      <td>IGL.NS</td>\n",
       "      <td>8078.041025</td>\n",
       "      <td>7663.010258</td>\n",
       "      <td>6142.022226</td>\n",
       "      <td>4269.595183</td>\n",
       "      <td>2649.939391</td>\n",
       "      <td>836.989742</td>\n",
       "      <td>2357.977774</td>\n",
       "      <td>416.281588</td>\n",
       "      <td>5.631352</td>\n",
       "      <td>218910.545913</td>\n",
       "      <td>27451.268636</td>\n",
       "      <td>1.745705e+06</td>\n",
       "    </tr>\n",
       "    <tr>\n",
       "      <th>153</th>\n",
       "      <td>PGHH.NS</td>\n",
       "      <td>8360.100719</td>\n",
       "      <td>8265.936693</td>\n",
       "      <td>5723.313197</td>\n",
       "      <td>2260.120004</td>\n",
       "      <td>1222.280907</td>\n",
       "      <td>234.063307</td>\n",
       "      <td>2776.686803</td>\n",
       "      <td>133.171084</td>\n",
       "      <td>28.518188</td>\n",
       "      <td>164651.538861</td>\n",
       "      <td>16289.205584</td>\n",
       "      <td>1.664300e+06</td>\n",
       "    </tr>\n",
       "  </tbody>\n",
       "</table>\n",
       "</div>"
      ],
      "text/plain": [
       "             Stock         P035          P05           P1           P2  \\\n",
       "8    ADANITRANS.NS  8315.180234  8182.530881  7924.808488  6243.012317   \n",
       "107   JSWENERGY.NS  8414.197572  8098.253867  7968.078949  3733.251038   \n",
       "7          ATGL.NS  8231.229112  8228.747193  6910.075497  6150.604531   \n",
       "38     BOSCHLTD.NS  8380.068225  8321.822256  7743.710362  3012.135784   \n",
       "5    ADANIGREEN.NS  8320.616674  7167.249596  6902.367326  6146.566000   \n",
       "6    ADANIPORTS.NS  8215.377213  7993.453702  7382.161655  4783.338780   \n",
       "15   APOLLOTYRE.NS  8265.671874  8239.498469  7871.284918  2286.406264   \n",
       "4      ADANIENT.NS  8119.613827  7986.179485  6358.032873  5915.963909   \n",
       "53    DALBHARAT.NS  8298.230949  8269.243091  6754.999911  3842.402719   \n",
       "70   GODREJPROP.NS  8295.159744  8259.599944  5751.552080  4182.356867   \n",
       "72    GUJGASLTD.NS  8455.246926  7262.921927  6333.064588  4344.599165   \n",
       "122  MANAPPURAM.NS  8334.626211  8319.804582  6556.126614  2600.301521   \n",
       "16     ASHOKLEY.NS  8144.533549  8102.177942  6153.989731  3398.969969   \n",
       "105      INDIGO.NS  8329.213094  8294.413712  6795.190142  2102.823255   \n",
       "27   BANDHANBNK.NS  8377.624584  7158.137991  6592.463973  3848.857426   \n",
       "1           ACC.NS  8301.635424  6932.607087  6576.783855  4860.122564   \n",
       "33   BHARATFORG.NS  8233.217389  8190.171972  6417.596690  3525.329509   \n",
       "140       PAYTM.NS  8444.675304  6919.149534  6618.381674  3633.752709   \n",
       "100         IGL.NS  8078.041025  7663.010258  6142.022226  4269.595183   \n",
       "153        PGHH.NS  8360.100719  8265.936693  5723.313197  2260.120004   \n",
       "\n",
       "             P35          R05           R1         R03          R0  \\\n",
       "8    4807.549284   317.469119   575.191512  112.803193   64.658533   \n",
       "107  3086.626298   401.746133   531.921051   80.192110   53.596266   \n",
       "7    3011.304155   271.252807  1589.924503  196.128036   75.209383   \n",
       "38   1441.425765   178.177744   756.289638  110.858254   51.201911   \n",
       "5    5527.351218  1332.750404  1597.632674  128.585026  102.369666   \n",
       "6    2123.522261   506.546298  1117.838345  282.879170    4.315263   \n",
       "15   1541.137483   260.501531   628.715082  212.828883   18.306294   \n",
       "4    2687.354225   513.820515  2141.967127  377.814528    2.794428   \n",
       "53   1877.113248   230.756909  1745.000089  199.823685   84.715547   \n",
       "70   1668.903493   240.400056  2748.447920  183.585372   23.109078   \n",
       "72   1619.236135  1237.078073  2166.935412   43.992656   11.400922   \n",
       "122   719.768116   180.195418  1943.873386  145.930131   22.439833   \n",
       "16   2124.912736   397.822058  2346.010269  277.326384    8.627529   \n",
       "105  1317.099750   205.586288  1704.809858  164.037674   52.792812   \n",
       "27   1844.613937  1341.862009  1907.536027  121.614999    4.159549   \n",
       "1    2163.936721  1567.392913  1923.216145  191.233424   36.027368   \n",
       "33    962.045619   309.828028  2082.403310  246.221075   38.174482   \n",
       "140  1576.319837  1580.850466  1881.618326   55.324696    8.790449   \n",
       "100  2649.939391   836.989742  2357.977774  416.281588    5.631352   \n",
       "153  1222.280907   234.063307  2776.686803  133.171084   28.518188   \n",
       "\n",
       "                St            Rt             V  \n",
       "8    306438.919830  12013.175810  7.816818e+06  \n",
       "107  240302.199371  10806.040796  5.343784e+06  \n",
       "7    262900.790911  18029.293611  3.833585e+06  \n",
       "38   199673.636013  10518.677284  3.790359e+06  \n",
       "5    301731.725083  26121.280723  3.485359e+06  \n",
       "6    231080.170991  16734.195666  3.190954e+06  \n",
       "15   192032.838314  11952.284552  3.085319e+06  \n",
       "4    246753.083334  22805.373787  2.669857e+06  \n",
       "53   208896.249669  18897.208436  2.309211e+06  \n",
       "70   199813.959332  17522.257083  2.278566e+06  \n",
       "72   201106.439640  18534.854814  2.182040e+06  \n",
       "122  169007.454119  13379.097035  2.134936e+06  \n",
       "16   200059.240551  19647.213397  2.037118e+06  \n",
       "105  175030.311293  15387.065420  1.990998e+06  \n",
       "27   200149.334800  20615.395243  1.943196e+06  \n",
       "1    218506.875654  26734.012850  1.785937e+06  \n",
       "33   184105.041700  19048.075392  1.779427e+06  \n",
       "140  191167.346584  20624.637684  1.771908e+06  \n",
       "100  218910.545913  27451.268636  1.745705e+06  \n",
       "153  164651.538861  16289.205584  1.664300e+06  "
      ]
     },
     "execution_count": 8,
     "metadata": {},
     "output_type": "execute_result"
    }
   ],
   "source": [
    "arranged = final.sort_values(by='V',ascending=False)\n",
    "arranged.head(20)"
   ]
  },
  {
   "cell_type": "code",
   "execution_count": 9,
   "id": "bf7c6e48",
   "metadata": {},
   "outputs": [],
   "source": [
    "arranged.reset_index(drop=True, inplace=True)"
   ]
  },
  {
   "cell_type": "code",
   "execution_count": 10,
   "id": "8fcef4ab",
   "metadata": {},
   "outputs": [
    {
     "data": {
      "text/html": [
       "<div>\n",
       "<style scoped>\n",
       "    .dataframe tbody tr th:only-of-type {\n",
       "        vertical-align: middle;\n",
       "    }\n",
       "\n",
       "    .dataframe tbody tr th {\n",
       "        vertical-align: top;\n",
       "    }\n",
       "\n",
       "    .dataframe thead th {\n",
       "        text-align: right;\n",
       "    }\n",
       "</style>\n",
       "<table border=\"1\" class=\"dataframe\">\n",
       "  <thead>\n",
       "    <tr style=\"text-align: right;\">\n",
       "      <th></th>\n",
       "      <th>Stock</th>\n",
       "      <th>P035</th>\n",
       "      <th>P05</th>\n",
       "      <th>P1</th>\n",
       "      <th>P2</th>\n",
       "      <th>P35</th>\n",
       "      <th>R05</th>\n",
       "      <th>R1</th>\n",
       "      <th>R03</th>\n",
       "      <th>R0</th>\n",
       "      <th>St</th>\n",
       "      <th>Rt</th>\n",
       "      <th>V</th>\n",
       "    </tr>\n",
       "  </thead>\n",
       "  <tbody>\n",
       "    <tr>\n",
       "      <th>0</th>\n",
       "      <td>ADANITRANS.NS</td>\n",
       "      <td>8315.180234</td>\n",
       "      <td>8182.530881</td>\n",
       "      <td>7924.808488</td>\n",
       "      <td>6243.012317</td>\n",
       "      <td>4807.549284</td>\n",
       "      <td>317.469119</td>\n",
       "      <td>575.191512</td>\n",
       "      <td>112.803193</td>\n",
       "      <td>64.658533</td>\n",
       "      <td>306438.919830</td>\n",
       "      <td>12013.175810</td>\n",
       "      <td>7.816818e+06</td>\n",
       "    </tr>\n",
       "    <tr>\n",
       "      <th>1</th>\n",
       "      <td>JSWENERGY.NS</td>\n",
       "      <td>8414.197572</td>\n",
       "      <td>8098.253867</td>\n",
       "      <td>7968.078949</td>\n",
       "      <td>3733.251038</td>\n",
       "      <td>3086.626298</td>\n",
       "      <td>401.746133</td>\n",
       "      <td>531.921051</td>\n",
       "      <td>80.192110</td>\n",
       "      <td>53.596266</td>\n",
       "      <td>240302.199371</td>\n",
       "      <td>10806.040796</td>\n",
       "      <td>5.343784e+06</td>\n",
       "    </tr>\n",
       "    <tr>\n",
       "      <th>2</th>\n",
       "      <td>ATGL.NS</td>\n",
       "      <td>8231.229112</td>\n",
       "      <td>8228.747193</td>\n",
       "      <td>6910.075497</td>\n",
       "      <td>6150.604531</td>\n",
       "      <td>3011.304155</td>\n",
       "      <td>271.252807</td>\n",
       "      <td>1589.924503</td>\n",
       "      <td>196.128036</td>\n",
       "      <td>75.209383</td>\n",
       "      <td>262900.790911</td>\n",
       "      <td>18029.293611</td>\n",
       "      <td>3.833585e+06</td>\n",
       "    </tr>\n",
       "    <tr>\n",
       "      <th>3</th>\n",
       "      <td>BOSCHLTD.NS</td>\n",
       "      <td>8380.068225</td>\n",
       "      <td>8321.822256</td>\n",
       "      <td>7743.710362</td>\n",
       "      <td>3012.135784</td>\n",
       "      <td>1441.425765</td>\n",
       "      <td>178.177744</td>\n",
       "      <td>756.289638</td>\n",
       "      <td>110.858254</td>\n",
       "      <td>51.201911</td>\n",
       "      <td>199673.636013</td>\n",
       "      <td>10518.677284</td>\n",
       "      <td>3.790359e+06</td>\n",
       "    </tr>\n",
       "    <tr>\n",
       "      <th>4</th>\n",
       "      <td>ADANIGREEN.NS</td>\n",
       "      <td>8320.616674</td>\n",
       "      <td>7167.249596</td>\n",
       "      <td>6902.367326</td>\n",
       "      <td>6146.566000</td>\n",
       "      <td>5527.351218</td>\n",
       "      <td>1332.750404</td>\n",
       "      <td>1597.632674</td>\n",
       "      <td>128.585026</td>\n",
       "      <td>102.369666</td>\n",
       "      <td>301731.725083</td>\n",
       "      <td>26121.280723</td>\n",
       "      <td>3.485359e+06</td>\n",
       "    </tr>\n",
       "    <tr>\n",
       "      <th>5</th>\n",
       "      <td>ADANIPORTS.NS</td>\n",
       "      <td>8215.377213</td>\n",
       "      <td>7993.453702</td>\n",
       "      <td>7382.161655</td>\n",
       "      <td>4783.338780</td>\n",
       "      <td>2123.522261</td>\n",
       "      <td>506.546298</td>\n",
       "      <td>1117.838345</td>\n",
       "      <td>282.879170</td>\n",
       "      <td>4.315263</td>\n",
       "      <td>231080.170991</td>\n",
       "      <td>16734.195666</td>\n",
       "      <td>3.190954e+06</td>\n",
       "    </tr>\n",
       "    <tr>\n",
       "      <th>6</th>\n",
       "      <td>APOLLOTYRE.NS</td>\n",
       "      <td>8265.671874</td>\n",
       "      <td>8239.498469</td>\n",
       "      <td>7871.284918</td>\n",
       "      <td>2286.406264</td>\n",
       "      <td>1541.137483</td>\n",
       "      <td>260.501531</td>\n",
       "      <td>628.715082</td>\n",
       "      <td>212.828883</td>\n",
       "      <td>18.306294</td>\n",
       "      <td>192032.838314</td>\n",
       "      <td>11952.284552</td>\n",
       "      <td>3.085319e+06</td>\n",
       "    </tr>\n",
       "  </tbody>\n",
       "</table>\n",
       "</div>"
      ],
      "text/plain": [
       "           Stock         P035          P05           P1           P2  \\\n",
       "0  ADANITRANS.NS  8315.180234  8182.530881  7924.808488  6243.012317   \n",
       "1   JSWENERGY.NS  8414.197572  8098.253867  7968.078949  3733.251038   \n",
       "2        ATGL.NS  8231.229112  8228.747193  6910.075497  6150.604531   \n",
       "3    BOSCHLTD.NS  8380.068225  8321.822256  7743.710362  3012.135784   \n",
       "4  ADANIGREEN.NS  8320.616674  7167.249596  6902.367326  6146.566000   \n",
       "5  ADANIPORTS.NS  8215.377213  7993.453702  7382.161655  4783.338780   \n",
       "6  APOLLOTYRE.NS  8265.671874  8239.498469  7871.284918  2286.406264   \n",
       "\n",
       "           P35          R05           R1         R03          R0  \\\n",
       "0  4807.549284   317.469119   575.191512  112.803193   64.658533   \n",
       "1  3086.626298   401.746133   531.921051   80.192110   53.596266   \n",
       "2  3011.304155   271.252807  1589.924503  196.128036   75.209383   \n",
       "3  1441.425765   178.177744   756.289638  110.858254   51.201911   \n",
       "4  5527.351218  1332.750404  1597.632674  128.585026  102.369666   \n",
       "5  2123.522261   506.546298  1117.838345  282.879170    4.315263   \n",
       "6  1541.137483   260.501531   628.715082  212.828883   18.306294   \n",
       "\n",
       "              St            Rt             V  \n",
       "0  306438.919830  12013.175810  7.816818e+06  \n",
       "1  240302.199371  10806.040796  5.343784e+06  \n",
       "2  262900.790911  18029.293611  3.833585e+06  \n",
       "3  199673.636013  10518.677284  3.790359e+06  \n",
       "4  301731.725083  26121.280723  3.485359e+06  \n",
       "5  231080.170991  16734.195666  3.190954e+06  \n",
       "6  192032.838314  11952.284552  3.085319e+06  "
      ]
     },
     "execution_count": 10,
     "metadata": {},
     "output_type": "execute_result"
    }
   ],
   "source": [
    "arranged.head(7)"
   ]
  },
  {
   "cell_type": "code",
   "execution_count": 11,
   "id": "91831fdd",
   "metadata": {},
   "outputs": [],
   "source": [
    "##########################################################"
   ]
  },
  {
   "cell_type": "code",
   "execution_count": 12,
   "id": "51f63269",
   "metadata": {},
   "outputs": [],
   "source": [
    "# Test = yf.download(\"ADANITRANS.NS\", '2022-09-28', '2022-09-29', interval=\"1m\")"
   ]
  },
  {
   "cell_type": "code",
   "execution_count": 13,
   "id": "2a329fa0",
   "metadata": {},
   "outputs": [],
   "source": [
    "# Test.head()"
   ]
  },
  {
   "cell_type": "code",
   "execution_count": 14,
   "id": "ec14f792",
   "metadata": {},
   "outputs": [],
   "source": [
    "# temp1 = pd.DataFrame(Test.index.astype('string'))['Datetime'].str.split(':', n=3, expand=True)\n",
    "# temp2 = temp1[0].str.split(' ', n=1, expand=True)\n",
    "\n",
    "# temp = pd.DataFrame(data=(temp2[1].astype('int') - 9)*60 + (temp1[1].astype('int') - 15))[1].tolist()\n",
    "# Test.insert(6, 'Adjusted_Dt', temp)"
   ]
  },
  {
   "cell_type": "code",
   "execution_count": 15,
   "id": "f32e757d",
   "metadata": {},
   "outputs": [],
   "source": [
    "# Test.Low"
   ]
  },
  {
   "cell_type": "code",
   "execution_count": 16,
   "id": "d30d5184",
   "metadata": {},
   "outputs": [],
   "source": [
    "# Test.head()"
   ]
  },
  {
   "cell_type": "code",
   "execution_count": 17,
   "id": "ed68b16f",
   "metadata": {
    "scrolled": true
   },
   "outputs": [],
   "source": [
    "# Test.sort_values(by='High',ascending=False).index.astype('string')[0]"
   ]
  },
  {
   "cell_type": "code",
   "execution_count": 18,
   "id": "58e1cdea",
   "metadata": {},
   "outputs": [],
   "source": [
    "def convert_to_normal_time(adj_time):\n",
    "    adj_time += 14\n",
    "    hr = (adj_time // 60)\n",
    "    min = ((adj_time - hr*60) // 1)\n",
    "    return f'{9 + int(hr)}:{int(min)}'\n",
    "    \n",
    "def convert_to_adj_time(time_string):\n",
    "    return (int(time_string.split(':')[0].split(' ')[1]) - 9)*60 + (int(time_string.split(':')[1]) - 14)"
   ]
  },
  {
   "cell_type": "code",
   "execution_count": 19,
   "id": "b656360c",
   "metadata": {
    "scrolled": true
   },
   "outputs": [
    {
     "data": {
      "text/plain": [
       "'\\ndef get_minutewise_analysis(stock, start_date, end_date):\\n    # Remember start date must be within 30 days for minute-wise data, still if it\\'s not then it will take all the available data within date range\\n    Day_Wise = yf.download(stock, start_date, end_date)\\n    Analysis = pd.DataFrame(columns=[\\'Datetime\\', \\'Open\\',\\'High\\', \\'Low\\', \\'Close\\', \\'Volume\\', \\'Low_Time\\', \\'P035_Time\\', \\'P05_Time\\', \\'P1_Time\\', \\'P2_Time\\', \\'P35_Time\\'])\\n    \\n    for x, elem in enumerate(Day_Wise.index.astype(\\'string\\')):\\n        try:\\n            date_1 = str(elem.split(\\' \\')[0])\\n            date_2 = str(Day_Wise.index.astype(\\'string\\')[x+1].split(\\' \\')[0])\\n            # print(date_1, date_2)\\n\\n            Min_Wise = yf.download(stock, date_1, date_2, interval=\"1m\")\\n            if Min_Wise.shape[0] == 0:\\n                continue\\n\\n            Min_Wise_Low = Min_Wise.sort_values(by=\\'Low\\',ascending=True)\\n            low_time = Min_Wise_Low.index.astype(\\'string\\')[0]\\n            low_time_adj = (int(low_time.split(\\':\\')[0].split(\\' \\')[1]) - 9)*60 + (int(low_time.split(\\':\\')[1]) - 15)\\n            \\n            p035_time = p05_time = p1_time = p2_time = p35_time = 0\\n            Temp_Data = Min_Wise\\n            t = 0\\n            \\n            if (Day_Wise.Low[x] < Day_Wise.Open[x]*0.9965):\\n                while (Temp_Data.Low[t] > Day_Wise.Open[x]*0.9965):\\n                    t += 1\\n                p035_time = convert_to_adj_time(Temp_Data.index.astype(\\'string\\')[t])\\n            \\n            if (Day_Wise.Low[x] < Day_Wise.Open[x]*0.9950):\\n                while (Temp_Data.Low[t] > Day_Wise.Open[x]*0.9950):\\n                    t += 1\\n                p05_time = convert_to_adj_time(Temp_Data.index.astype(\\'string\\')[t])\\n            \\n            if (Day_Wise.Low[x] < Day_Wise.Open[x]*0.99):\\n                while (Temp_Data.Low[t] > Day_Wise.Open[x]*0.99):\\n                    t += 1\\n                p1_time = convert_to_adj_time(Temp_Data.index.astype(\\'string\\')[t])\\n            \\n            if (Day_Wise.Low[x] < Day_Wise.Open[x]*0.98):\\n                while (Temp_Data.Low[t] > Day_Wise.Open[x]*0.98):\\n                    t += 1\\n                p2_time = convert_to_adj_time(Temp_Data.index.astype(\\'string\\')[t])\\n            \\n            if (Day_Wise.Low[x] < Day_Wise.Open[x]*0.965):\\n                while (Temp_Data.Low[t] > Day_Wise.Open[x]*0.965):\\n                    t += 1\\n                p35_time = convert_to_adj_time(Temp_Data.index.astype(\\'string\\')[t])\\n            \\n            df = {\\'Datetime\\': Day_Wise.index[x], \\'Open\\': Day_Wise.Open[x], \\'High\\': Day_Wise.High[x], \\'Low\\': Day_Wise.Low[x], \\'Close\\': Day_Wise.Close[x], \\'Volume\\': Day_Wise.Volume[x], \\'Low_Time\\': low_time_adj, \\'P035_Time\\': p035_time, \\'P05_Time\\': p05_time, \\'P1_Time\\': p1_time, \\'P2_Time\\': p2_time, \\'P35_Time\\': p35_time}\\n            Analysis = Analysis.append(df, ignore_index = True)\\n        except:\\n            pass\\n\\n    # Analysis.set_index(\\'Datetime\\', inplace=True)\\n    return Analysis\\n\\n'"
      ]
     },
     "execution_count": 19,
     "metadata": {},
     "output_type": "execute_result"
    }
   ],
   "source": [
    "# Creating dataset for daywise open price and time when it reached it's high\n",
    "'''\n",
    "def get_minutewise_analysis(stock, start_date, end_date):\n",
    "    # Remember start date must be within 30 days for minute-wise data, still if it's not then it will take all the available data within date range\n",
    "    Day_Wise = yf.download(stock, start_date, end_date)\n",
    "    Analysis = pd.DataFrame(columns=['Datetime', 'Open','High', 'Low', 'Close', 'Volume', 'Low_Time', 'P035_Time', 'P05_Time', 'P1_Time', 'P2_Time', 'P35_Time'])\n",
    "    \n",
    "    for x, elem in enumerate(Day_Wise.index.astype('string')):\n",
    "        try:\n",
    "            date_1 = str(elem.split(' ')[0])\n",
    "            date_2 = str(Day_Wise.index.astype('string')[x+1].split(' ')[0])\n",
    "            # print(date_1, date_2)\n",
    "\n",
    "            Min_Wise = yf.download(stock, date_1, date_2, interval=\"1m\")\n",
    "            if Min_Wise.shape[0] == 0:\n",
    "                continue\n",
    "\n",
    "            Min_Wise_Low = Min_Wise.sort_values(by='Low',ascending=True)\n",
    "            low_time = Min_Wise_Low.index.astype('string')[0]\n",
    "            low_time_adj = (int(low_time.split(':')[0].split(' ')[1]) - 9)*60 + (int(low_time.split(':')[1]) - 15)\n",
    "            \n",
    "            p035_time = p05_time = p1_time = p2_time = p35_time = 0\n",
    "            Temp_Data = Min_Wise\n",
    "            t = 0\n",
    "            \n",
    "            if (Day_Wise.Low[x] < Day_Wise.Open[x]*0.9965):\n",
    "                while (Temp_Data.Low[t] > Day_Wise.Open[x]*0.9965):\n",
    "                    t += 1\n",
    "                p035_time = convert_to_adj_time(Temp_Data.index.astype('string')[t])\n",
    "            \n",
    "            if (Day_Wise.Low[x] < Day_Wise.Open[x]*0.9950):\n",
    "                while (Temp_Data.Low[t] > Day_Wise.Open[x]*0.9950):\n",
    "                    t += 1\n",
    "                p05_time = convert_to_adj_time(Temp_Data.index.astype('string')[t])\n",
    "            \n",
    "            if (Day_Wise.Low[x] < Day_Wise.Open[x]*0.99):\n",
    "                while (Temp_Data.Low[t] > Day_Wise.Open[x]*0.99):\n",
    "                    t += 1\n",
    "                p1_time = convert_to_adj_time(Temp_Data.index.astype('string')[t])\n",
    "            \n",
    "            if (Day_Wise.Low[x] < Day_Wise.Open[x]*0.98):\n",
    "                while (Temp_Data.Low[t] > Day_Wise.Open[x]*0.98):\n",
    "                    t += 1\n",
    "                p2_time = convert_to_adj_time(Temp_Data.index.astype('string')[t])\n",
    "            \n",
    "            if (Day_Wise.Low[x] < Day_Wise.Open[x]*0.965):\n",
    "                while (Temp_Data.Low[t] > Day_Wise.Open[x]*0.965):\n",
    "                    t += 1\n",
    "                p35_time = convert_to_adj_time(Temp_Data.index.astype('string')[t])\n",
    "            \n",
    "            df = {'Datetime': Day_Wise.index[x], 'Open': Day_Wise.Open[x], 'High': Day_Wise.High[x], 'Low': Day_Wise.Low[x], 'Close': Day_Wise.Close[x], 'Volume': Day_Wise.Volume[x], 'Low_Time': low_time_adj, 'P035_Time': p035_time, 'P05_Time': p05_time, 'P1_Time': p1_time, 'P2_Time': p2_time, 'P35_Time': p35_time}\n",
    "            Analysis = Analysis.append(df, ignore_index = True)\n",
    "        except:\n",
    "            pass\n",
    "\n",
    "    # Analysis.set_index('Datetime', inplace=True)\n",
    "    return Analysis\n",
    "\n",
    "'''"
   ]
  },
  {
   "cell_type": "code",
   "execution_count": 20,
   "id": "18af81ba",
   "metadata": {},
   "outputs": [],
   "source": [
    "\n",
    "# Dataset = get_minutewise_analysis(\"JSWENERGY.NS\", '2022-09-21', '2022-10-23')"
   ]
  },
  {
   "cell_type": "code",
   "execution_count": 21,
   "id": "317cd126",
   "metadata": {},
   "outputs": [],
   "source": [
    "# Dataset.head(20)"
   ]
  },
  {
   "cell_type": "code",
   "execution_count": 22,
   "id": "18ac8cba",
   "metadata": {},
   "outputs": [],
   "source": [
    "# Min_Wise = yf.download('JSWENERGY.NS', '2022-10-10', '2022-10-11', interval=\"1m\")\n",
    "# Temp_Data = Min_Wise"
   ]
  },
  {
   "cell_type": "code",
   "execution_count": 23,
   "id": "f1abd28b",
   "metadata": {},
   "outputs": [],
   "source": [
    "# Temp_Data.to_csv('Hello1.csv')"
   ]
  },
  {
   "cell_type": "code",
   "execution_count": 24,
   "id": "42bfaca1",
   "metadata": {},
   "outputs": [
    {
     "data": {
      "text/plain": [
       "\"\\nfrom sklearn.model_selection import train_test_split\\nfrom sklearn.linear_model import LinearRegression\\nfrom sklearn.metrics import mean_squared_error, mean_absolute_error\\n\\n# Dropping the unusable columns\\nX = Dataset.drop(columns = ['Datetime', 'Low', 'High', 'Close', 'Volume', 'Low_Time', 'High_Time'])\\ny_high = Dataset.High_Time\\ny_low = Dataset.Low_Time\\n\\n# X_train, X_test, y_train, y_test = train_test_split(X, y, test_size=0.3, random_state=151)\\n\\n# model = LinearRegression()\\n# model.fit(X_train, y_train)\\n# predictions = model.predict(X_test)\\n\\n# print('mean_absolute_error : ', mean_absolute_error(y_test, predictions))\\n\\n# Final Model to Predict the High_Time & Low_Time\\nmodel_high = LinearRegression()\\nmodel_high.fit(X, y_high)\\n\\ndef predict_high_time(open, prev_close):\\n    prediction_X = pd.DataFrame(columns = ['Open', 'Prev_Close'])\\n    prediction_X = prediction_X.append({'Open': open, 'Prev_Close': prev_close}, ignore_index=True)\\n    prediction_y_high = model_high.predict(prediction_X)\\n    return prediction_y_high[0]\\n\\nmodel_low = LinearRegression()\\nmodel_low.fit(X, y_low)\\n\\ndef predict_low_time(open, prev_close):\\n    prediction_X = pd.DataFrame(columns = ['Open', 'Prev_Close'])\\n    prediction_X = prediction_X.append({'Open': open, 'Prev_Close': prev_close}, ignore_index=True)\\n    prediction_y_low = model_low.predict(prediction_X)\\n    return prediction_y_low[0]\\n\\n\""
      ]
     },
     "execution_count": 24,
     "metadata": {},
     "output_type": "execute_result"
    }
   ],
   "source": [
    "## Prediction of High_Time using Linear Regression\n",
    "'''\n",
    "from sklearn.model_selection import train_test_split\n",
    "from sklearn.linear_model import LinearRegression\n",
    "from sklearn.metrics import mean_squared_error, mean_absolute_error\n",
    "\n",
    "# Dropping the unusable columns\n",
    "X = Dataset.drop(columns = ['Datetime', 'Low', 'High', 'Close', 'Volume', 'Low_Time', 'High_Time'])\n",
    "y_high = Dataset.High_Time\n",
    "y_low = Dataset.Low_Time\n",
    "\n",
    "# X_train, X_test, y_train, y_test = train_test_split(X, y, test_size=0.3, random_state=151)\n",
    "\n",
    "# model = LinearRegression()\n",
    "# model.fit(X_train, y_train)\n",
    "# predictions = model.predict(X_test)\n",
    "\n",
    "# print('mean_absolute_error : ', mean_absolute_error(y_test, predictions))\n",
    "\n",
    "# Final Model to Predict the High_Time & Low_Time\n",
    "model_high = LinearRegression()\n",
    "model_high.fit(X, y_high)\n",
    "\n",
    "def predict_high_time(open, prev_close):\n",
    "    prediction_X = pd.DataFrame(columns = ['Open', 'Prev_Close'])\n",
    "    prediction_X = prediction_X.append({'Open': open, 'Prev_Close': prev_close}, ignore_index=True)\n",
    "    prediction_y_high = model_high.predict(prediction_X)\n",
    "    return prediction_y_high[0]\n",
    "\n",
    "model_low = LinearRegression()\n",
    "model_low.fit(X, y_low)\n",
    "\n",
    "def predict_low_time(open, prev_close):\n",
    "    prediction_X = pd.DataFrame(columns = ['Open', 'Prev_Close'])\n",
    "    prediction_X = prediction_X.append({'Open': open, 'Prev_Close': prev_close}, ignore_index=True)\n",
    "    prediction_y_low = model_low.predict(prediction_X)\n",
    "    return prediction_y_low[0]\n",
    "\n",
    "'''"
   ]
  },
  {
   "cell_type": "code",
   "execution_count": 25,
   "id": "be4bad40",
   "metadata": {},
   "outputs": [],
   "source": [
    "# print('Low_Time ->', convert_trade_time(predict_low_time(318.60, 320.50)))"
   ]
  },
  {
   "cell_type": "code",
   "execution_count": 26,
   "id": "23ff16e5",
   "metadata": {},
   "outputs": [],
   "source": [
    "# Creating dataset for daywise open price and time when it reached it's high\n",
    "\n",
    "def get_minutewise_analysis_2(stock, start_date, end_date):\n",
    "    # Remember start date must be within 30 days for minute-wise data, still if it's not then it will take all the available data within date range\n",
    "    Day_Wise = yf.download(stock, start_date, end_date)\n",
    "    Analysis = pd.DataFrame(columns=['Datetime', 'Open','High', 'Low', 'Close', 'Volume', 'Low_Time', 'High_Time', 'P035_Time', 'P035_Type', 'P035_Limit', 'P035_Limit_Time', 'P035_Open_Time', 'P05_Time', 'P05_Type', 'P05_Limit', 'P05_Limit_Time', 'P05_Open_Time', 'P1_Time', 'P1_Type', 'P1_Limit', 'P1_Limit_Time', 'P1_Open_Time', 'P2_Time', 'P2_Type', 'P2_Limit', 'P2_Limit_Time', 'P2_Open_Time', 'P35_Time', 'P35_Type', 'P35_Limit', 'P35_Limit_Time', 'P35_Open_Time'])\n",
    "    \n",
    "    for x, elem in enumerate(Day_Wise.index.astype('string')):\n",
    "        try:\n",
    "            date_1 = str(elem.split(' ')[0])\n",
    "            date_2 = str(Day_Wise.index.astype('string')[x+1].split(' ')[0])\n",
    "            # print(date_1, date_2)\n",
    "\n",
    "            Min_Wise = yf.download(stock, date_1, date_2, interval=\"1m\")\n",
    "            if Min_Wise.shape[0] == 0:\n",
    "                continue\n",
    "                \n",
    "            Min_Wise_High = Min_Wise.sort_values(by='High',ascending=False)\n",
    "            high_time = Min_Wise_High.index.astype('string')[0]\n",
    "            high_time_adj = convert_to_adj_time(high_time)\n",
    "\n",
    "            Min_Wise_Low = Min_Wise.sort_values(by='Low',ascending=True)\n",
    "            low_time = Min_Wise_Low.index.astype('string')[0]\n",
    "            low_time_adj = convert_to_adj_time(low_time)\n",
    "            \n",
    "            p035_time = p05_time = p1_time = p2_time = p35_time = 0\n",
    "            p035_type = p05_type = p1_type = p2_type = p35_type = 'None'\n",
    "            p035_limit = p05_limit = p1_limit = p2_limit = p35_limit = 0\n",
    "            p035_limit_time = p05_limit_time = p1_limit_time = p2_limit_time = p35_limit_time = 0\n",
    "            p035_open_time = p05_open_time = p1_open_time = p2_open_time = p35_open_time = 0\n",
    "            Temp_Data = Min_Wise\n",
    "            t = 0\n",
    "            \n",
    "            if (Day_Wise.Low[x] < Day_Wise.Open[x]*0.9965):\n",
    "                while (Temp_Data.Low[t] > Day_Wise.Open[x]*0.9965):\n",
    "                    t += 1\n",
    "                p035_time = convert_to_adj_time(Temp_Data.index.astype('string')[t])\n",
    "                \n",
    "                p = t+1\n",
    "                p035_type = 'None'\n",
    "                p035_limit = 0\n",
    "                p035_limit_time = 0\n",
    "                p035_open_time = 0\n",
    "                \n",
    "                if (p035_time != 0):\n",
    "                    while (1):\n",
    "                        try:\n",
    "                            if (Temp_Data.Low[p] < Temp_Data.Low[t]):\n",
    "                                p += 1\n",
    "                            else:\n",
    "                                break\n",
    "                        except:\n",
    "                            p035_type = 'Low_Type'\n",
    "                            p035_limit = Day_Wise.Low[x]\n",
    "                            p035_limit_time = low_time_adj\n",
    "                            break\n",
    "\n",
    "                    if (p035_type != 'Low_Type'):\n",
    "                        t_high = Temp_Data.High[p]\n",
    "                        t_high_time = convert_to_adj_time(Temp_Data.index.astype('string')[p])\n",
    "                        while (1):\n",
    "                            try:\n",
    "                                if (Temp_Data.High[p] < Day_Wise.Open[x]):\n",
    "                                    p += 1\n",
    "                                    if (Temp_Data.High[p] > t_high):\n",
    "                                        t_high = Temp_Data.High[p]\n",
    "                                        t_high_time = convert_to_adj_time(Temp_Data.index.astype('string')[p])\n",
    "                                else:\n",
    "                                    break\n",
    "                            except:\n",
    "                                p035_type = 'Less_than_Open_type'\n",
    "                                p035_limit = t_high\n",
    "                                p035_limit_time = t_high_time\n",
    "                                break\n",
    "\n",
    "                    if ((p035_type != 'Low_Type') and (p035_type != 'Less_than_Open_type')):\n",
    "                        p035_type = 'More_than_Open_type'\n",
    "                        p035_open_time = convert_to_adj_time(Temp_Data.index.astype('string')[p])\n",
    "                        if (high_time_adj > p035_time):\n",
    "                            p035_limit = Day_Wise.High[x]\n",
    "                            p035_limit_time = high_time_adj\n",
    "\n",
    "                        else:\n",
    "                            t_high = Temp_Data.High[p]\n",
    "                            t_high_time = convert_to_adj_time(Temp_Data.index.astype('string')[p])\n",
    "                            while (1):\n",
    "                                try:\n",
    "                                    p += 1\n",
    "                                    if (Temp_Data.High[p] > t_high):\n",
    "                                        t_high = Temp_Data.High[p]\n",
    "                                        t_high_time = convert_to_adj_time(Temp_Data.index.astype('string')[p]) \n",
    "                                except:\n",
    "                                    p035_limit = t_high\n",
    "                                    p035_limit_time = t_high_time\n",
    "                                    break\n",
    "\n",
    "                    \n",
    "            if (Day_Wise.Low[x] < Day_Wise.Open[x]*0.9950):\n",
    "                while (Temp_Data.Low[t] > Day_Wise.Open[x]*0.9950):\n",
    "                    t += 1\n",
    "                p05_time = convert_to_adj_time(Temp_Data.index.astype('string')[t])\n",
    "                \n",
    "                p = t+1\n",
    "                p05_type = 'None'\n",
    "                p05_limit = 0\n",
    "                p05_limit_time = 0\n",
    "                p05_open_time = 0\n",
    "                \n",
    "                if (p05_time != 0):\n",
    "                    while (1):\n",
    "                        try:\n",
    "                            if (Temp_Data.Low[p] < Temp_Data.Low[t]):\n",
    "                                p += 1\n",
    "                            else:\n",
    "                                break\n",
    "                        except:\n",
    "                            p05_type = 'Low_Type'\n",
    "                            p05_limit = Day_Wise.Low[x]\n",
    "                            p05_limit_time = low_time_adj\n",
    "                            break\n",
    "\n",
    "                    if (p05_type != 'Low_Type'):\n",
    "                        t_high = Temp_Data.High[p]\n",
    "                        t_high_time = convert_to_adj_time(Temp_Data.index.astype('string')[p])\n",
    "                        while (1):\n",
    "                            try:\n",
    "                                if (Temp_Data.High[p] < Day_Wise.Open[x]):\n",
    "                                    p += 1\n",
    "                                    if (Temp_Data.High[p] > t_high):\n",
    "                                        t_high = Temp_Data.High[p]\n",
    "                                        t_high_time = convert_to_adj_time(Temp_Data.index.astype('string')[p])\n",
    "                                else:\n",
    "                                    break\n",
    "                            except:\n",
    "                                p05_type = 'Less_than_Open_type'\n",
    "                                p05_limit = t_high\n",
    "                                p05_limit_time = t_high_time\n",
    "                                break\n",
    "\n",
    "                    if ((p05_type != 'Low_Type') and (p05_type != 'Less_than_Open_type')):\n",
    "                        p05_type = 'More_than_Open_type'\n",
    "                        p05_open_time = convert_to_adj_time(Temp_Data.index.astype('string')[p])\n",
    "                        if (high_time_adj > p05_time):\n",
    "                            p05_limit = Day_Wise.High[x]\n",
    "                            p05_limit_time = high_time_adj\n",
    "\n",
    "                        else:\n",
    "                            t_high = Temp_Data.High[p]\n",
    "                            t_high_time = convert_to_adj_time(Temp_Data.index.astype('string')[p])\n",
    "                            while (1):\n",
    "                                try:\n",
    "                                    p += 1\n",
    "                                    if (Temp_Data.High[p] > t_high):\n",
    "                                        t_high = Temp_Data.High[p]\n",
    "                                        t_high_time = convert_to_adj_time(Temp_Data.index.astype('string')[p]) \n",
    "                                except:\n",
    "                                    p05_limit = t_high\n",
    "                                    p05_limit_time = t_high_time\n",
    "                                    break\n",
    "\n",
    "            if (Day_Wise.Low[x] < Day_Wise.Open[x]*0.99):\n",
    "                while (Temp_Data.Low[t] > Day_Wise.Open[x]*0.99):\n",
    "                    t += 1\n",
    "                p1_time = convert_to_adj_time(Temp_Data.index.astype('string')[t])\n",
    "                \n",
    "                p = t+1\n",
    "                p1_type = 'None'\n",
    "                p1_limit = 0\n",
    "                p1_limit_time = 0\n",
    "                p1_open_time = 0\n",
    "                \n",
    "                if (p1_time != 0):\n",
    "                    while (1):\n",
    "                        try:\n",
    "                            if (Temp_Data.Low[p] < Temp_Data.Low[t]):\n",
    "                                p += 1\n",
    "                            else:\n",
    "                                break\n",
    "                        except:\n",
    "                            p1_type = 'Low_Type'\n",
    "                            p1_limit = Day_Wise.Low[x]\n",
    "                            p1_limit_time = low_time_adj\n",
    "                            break\n",
    "\n",
    "                    if (p1_type != 'Low_Type'):\n",
    "                        t_high = Temp_Data.High[p]\n",
    "                        t_high_time = convert_to_adj_time(Temp_Data.index.astype('string')[p])\n",
    "                        while (1):\n",
    "                            try:\n",
    "                                if (Temp_Data.High[p] < Day_Wise.Open[x]):\n",
    "                                    p += 1\n",
    "                                    if (Temp_Data.High[p] > t_high):\n",
    "                                        t_high = Temp_Data.High[p]\n",
    "                                        t_high_time = convert_to_adj_time(Temp_Data.index.astype('string')[p])\n",
    "                                else:\n",
    "                                    break\n",
    "                            except:\n",
    "                                p1_type = 'Less_than_Open_type'\n",
    "                                p1_limit = t_high\n",
    "                                p1_limit_time = t_high_time\n",
    "                                break\n",
    "\n",
    "                    if ((p1_type != 'Low_Type') and (p1_type != 'Less_than_Open_type')):\n",
    "                        p1_type = 'More_than_Open_type'\n",
    "                        p1_open_time = convert_to_adj_time(Temp_Data.index.astype('string')[p])\n",
    "                        if (high_time_adj > p1_time):\n",
    "                            p1_limit = Day_Wise.High[x]\n",
    "                            p1_limit_time = high_time_adj\n",
    "\n",
    "                        else:\n",
    "                            t_high = Temp_Data.High[p]\n",
    "                            t_high_time = convert_to_adj_time(Temp_Data.index.astype('string')[p])\n",
    "                            while (1):\n",
    "                                try:\n",
    "                                    p += 1\n",
    "                                    if (Temp_Data.High[p] > t_high):\n",
    "                                        t_high = Temp_Data.High[p]\n",
    "                                        t_high_time = convert_to_adj_time(Temp_Data.index.astype('string')[p]) \n",
    "                                except:\n",
    "                                    p1_limit = t_high\n",
    "                                    p1_limit_time = t_high_time\n",
    "                                    break\n",
    "\n",
    "            if (Day_Wise.Low[x] < Day_Wise.Open[x]*0.98):\n",
    "                while (Temp_Data.Low[t] > Day_Wise.Open[x]*0.98):\n",
    "                    t += 1\n",
    "                p2_time = convert_to_adj_time(Temp_Data.index.astype('string')[t])\n",
    "                \n",
    "                p = t+1\n",
    "                p2_type = 'None'\n",
    "                p2_limit = 0\n",
    "                p2_limit_time = 0\n",
    "                p2_open_time = 0\n",
    "                \n",
    "                if (p2_time != 0):\n",
    "                    while (1):\n",
    "                        try:\n",
    "                            if (Temp_Data.Low[p] < Temp_Data.Low[t]):\n",
    "                                p += 1\n",
    "                            else:\n",
    "                                break\n",
    "                        except:\n",
    "                            p2_type = 'Low_Type'\n",
    "                            p2_limit = Day_Wise.Low[x]\n",
    "                            p2_limit_time = low_time_adj\n",
    "                            break\n",
    "\n",
    "                    if (p2_type != 'Low_Type'):\n",
    "                        t_high = Temp_Data.High[p]\n",
    "                        t_high_time = convert_to_adj_time(Temp_Data.index.astype('string')[p])\n",
    "                        while (1):\n",
    "                            try:\n",
    "                                if (Temp_Data.High[p] < Day_Wise.Open[x]):\n",
    "                                    p += 1\n",
    "                                    if (Temp_Data.High[p] > t_high):\n",
    "                                        t_high = Temp_Data.High[p]\n",
    "                                        t_high_time = convert_to_adj_time(Temp_Data.index.astype('string')[p])\n",
    "                                else:\n",
    "                                    break\n",
    "                            except:\n",
    "                                p2_type = 'Less_than_Open_type'\n",
    "                                p2_limit = t_high\n",
    "                                p2_limit_time = t_high_time\n",
    "                                break\n",
    "\n",
    "                    if ((p2_type != 'Low_Type') and (p2_type != 'Less_than_Open_type')):\n",
    "                        p2_type = 'More_than_Open_type'\n",
    "                        p2_open_time = convert_to_adj_time(Temp_Data.index.astype('string')[p])\n",
    "                        if (high_time_adj > p2_time):\n",
    "                            p2_limit = Day_Wise.High[x]\n",
    "                            p2_limit_time = high_time_adj\n",
    "\n",
    "                        else:\n",
    "                            t_high = Temp_Data.High[p]\n",
    "                            t_high_time = convert_to_adj_time(Temp_Data.index.astype('string')[p])\n",
    "                            while (1):\n",
    "                                try:\n",
    "                                    p += 1\n",
    "                                    if (Temp_Data.High[p] > t_high):\n",
    "                                        t_high = Temp_Data.High[p]\n",
    "                                        t_high_time = convert_to_adj_time(Temp_Data.index.astype('string')[p]) \n",
    "                                except:\n",
    "                                    p2_limit = t_high\n",
    "                                    p2_limit_time = t_high_time\n",
    "                                    break\n",
    "\n",
    "            if (Day_Wise.Low[x] < Day_Wise.Open[x]*0.965):\n",
    "                while (Temp_Data.Low[t] > Day_Wise.Open[x]*0.965):\n",
    "                    t += 1\n",
    "                p35_time = convert_to_adj_time(Temp_Data.index.astype('string')[t])\n",
    "                \n",
    "                p = t+1\n",
    "                p35_type = 'None'\n",
    "                p35_limit = 0\n",
    "                p35_limit_time = 0\n",
    "                p35_open_time = 0\n",
    "                \n",
    "                if (p35_time != 0):\n",
    "                    while (1):\n",
    "                        try:\n",
    "                            if (Temp_Data.Low[p] < Temp_Data.Low[t]):\n",
    "                                p += 1\n",
    "                            else:\n",
    "                                break\n",
    "                        except:\n",
    "                            p35_type = 'Low_Type'\n",
    "                            p35_limit = Day_Wise.Low[x]\n",
    "                            p35_limit_time = low_time_adj\n",
    "                            break\n",
    "\n",
    "                    if (p35_type != 'Low_Type'):\n",
    "                        t_high = Temp_Data.High[p]\n",
    "                        t_high_time = convert_to_adj_time(Temp_Data.index.astype('string')[p])\n",
    "                        while (1):\n",
    "                            try:\n",
    "                                if (Temp_Data.High[p] < Day_Wise.Open[x]):\n",
    "                                    p += 1\n",
    "                                    if (Temp_Data.High[p] > t_high):\n",
    "                                        t_high = Temp_Data.High[p]\n",
    "                                        t_high_time = convert_to_adj_time(Temp_Data.index.astype('string')[p])\n",
    "                                else:\n",
    "                                    break\n",
    "                            except:\n",
    "                                p35_type = 'Less_than_Open_type'\n",
    "                                p35_limit = t_high\n",
    "                                p35_limit_time = t_high_time\n",
    "                                break\n",
    "\n",
    "                    if ((p35_type != 'Low_Type') and (p35_type != 'Less_than_Open_type')):\n",
    "                        p35_type = 'More_than_Open_type'\n",
    "                        p35_open_time = convert_to_adj_time(Temp_Data.index.astype('string')[p])\n",
    "                        if (high_time_adj > p35_time):\n",
    "                            p35_limit = Day_Wise.High[x]\n",
    "                            p35_limit_time = high_time_adj\n",
    "\n",
    "                        else:\n",
    "                            t_high = Temp_Data.High[p]\n",
    "                            t_high_time = convert_to_adj_time(Temp_Data.index.astype('string')[p])\n",
    "                            while (1):\n",
    "                                try:\n",
    "                                    p += 1\n",
    "                                    if (Temp_Data.High[p] > t_high):\n",
    "                                        t_high = Temp_Data.High[p]\n",
    "                                        t_high_time = convert_to_adj_time(Temp_Data.index.astype('string')[p]) \n",
    "                                except:\n",
    "                                    p35_limit = t_high\n",
    "                                    p35_limit_time = t_high_time\n",
    "                                    break\n",
    "\n",
    "            df = {'Datetime': Day_Wise.index[x], 'Open': Day_Wise.Open[x], 'High': Day_Wise.High[x], 'Low': Day_Wise.Low[x], 'Close': Day_Wise.Close[x], 'Volume': Day_Wise.Volume[x], 'Low_Time': low_time_adj, 'High_Time': high_time_adj, 'P035_Time': p035_time, 'P035_Type': p035_type, 'P035_Limit': p035_limit, 'P035_Limit_Time': p035_limit_time, 'P035_Open_Time': p035_open_time, 'P05_Time': p05_time, 'P05_Type': p05_type, 'P05_Limit': p05_limit, 'P05_Limit_Time': p05_limit_time, 'P05_Open_Time': p05_open_time, 'P1_Time': p1_time, 'P1_Type': p1_type, 'P1_Limit': p1_limit, 'P1_Limit_Time': p1_limit_time, 'P1_Open_Time': p1_open_time, 'P2_Time': p2_time, 'P2_Type': p2_type, 'P2_Limit': p2_limit, 'P2_Limit_Time': p2_limit_time, 'P2_Open_Time': p2_open_time, 'P35_Time': p35_time, 'P35_Type': p35_type, 'P35_Limit': p35_limit, 'P35_Limit_Time': p35_limit_time, 'P35_Open_Time': p35_open_time}\n",
    "            Analysis = Analysis.append(df, ignore_index = True)\n",
    "        except:\n",
    "            pass\n",
    "\n",
    "    # Analysis.set_index('Datetime', inplace=True)\n",
    "    return Analysis"
   ]
  },
  {
   "cell_type": "code",
   "execution_count": 27,
   "id": "bd092f21",
   "metadata": {},
   "outputs": [
    {
     "name": "stdout",
     "output_type": "stream",
     "text": [
      "[*********************100%***********************]  1 of 1 completed\n",
      "[*********************100%***********************]  1 of 1 completed\n",
      "\n",
      "1 Failed download:\n",
      "- JSWENERGY.NS: 1m data not available for startTime=1663525800 and endTime=1663612200. The requested range must be within the last 30 days.\n",
      "[*********************100%***********************]  1 of 1 completed\n",
      "\n",
      "1 Failed download:\n",
      "- JSWENERGY.NS: 1m data not available for startTime=1663612200 and endTime=1663698600. The requested range must be within the last 30 days.\n",
      "[*********************100%***********************]  1 of 1 completed\n",
      "\n",
      "1 Failed download:\n",
      "- JSWENERGY.NS: 1m data not available for startTime=1663698600 and endTime=1663785000. The requested range must be within the last 30 days.\n",
      "[*********************100%***********************]  1 of 1 completed\n",
      "\n",
      "1 Failed download:\n",
      "- JSWENERGY.NS: 1m data not available for startTime=1663785000 and endTime=1663871400. The requested range must be within the last 30 days.\n",
      "[*********************100%***********************]  1 of 1 completed\n",
      "\n",
      "1 Failed download:\n",
      "- JSWENERGY.NS: 1m data not available for startTime=1663871400 and endTime=1664130600. The requested range must be within the last 30 days.\n",
      "[*********************100%***********************]  1 of 1 completed\n",
      "\n",
      "1 Failed download:\n",
      "- JSWENERGY.NS: 1m data not available for startTime=1664130600 and endTime=1664217000. The requested range must be within the last 30 days.\n",
      "[*********************100%***********************]  1 of 1 completed\n",
      "\n",
      "1 Failed download:\n",
      "- JSWENERGY.NS: 1m data not available for startTime=1664217000 and endTime=1664303400. The requested range must be within the last 30 days.\n",
      "[*********************100%***********************]  1 of 1 completed\n",
      "\n",
      "1 Failed download:\n",
      "- JSWENERGY.NS: 1m data not available for startTime=1664303400 and endTime=1664389800. The requested range must be within the last 30 days.\n",
      "[*********************100%***********************]  1 of 1 completed\n",
      "\n",
      "1 Failed download:\n",
      "- JSWENERGY.NS: 1m data not available for startTime=1664389800 and endTime=1664476200. The requested range must be within the last 30 days.\n",
      "[*********************100%***********************]  1 of 1 completed\n",
      "\n",
      "1 Failed download:\n",
      "- JSWENERGY.NS: 1m data not available for startTime=1664476200 and endTime=1664735400. The requested range must be within the last 30 days.\n",
      "[*********************100%***********************]  1 of 1 completed\n",
      "\n",
      "1 Failed download:\n",
      "- JSWENERGY.NS: 1m data not available for startTime=1664735400 and endTime=1664821800. The requested range must be within the last 30 days.\n",
      "[*********************100%***********************]  1 of 1 completed\n",
      "\n",
      "1 Failed download:\n",
      "- JSWENERGY.NS: 1m data not available for startTime=1664821800 and endTime=1664994600. The requested range must be within the last 30 days.\n",
      "[*********************100%***********************]  1 of 1 completed\n",
      "\n",
      "1 Failed download:\n",
      "- JSWENERGY.NS: 1m data not available for startTime=1664994600 and endTime=1665081000. The requested range must be within the last 30 days.\n",
      "[*********************100%***********************]  1 of 1 completed\n",
      "\n",
      "1 Failed download:\n",
      "- JSWENERGY.NS: 1m data not available for startTime=1665081000 and endTime=1665340200. The requested range must be within the last 30 days.\n",
      "[*********************100%***********************]  1 of 1 completed\n",
      "\n",
      "1 Failed download:\n",
      "- JSWENERGY.NS: 1m data not available for startTime=1665340200 and endTime=1665426600. The requested range must be within the last 30 days.\n",
      "[*********************100%***********************]  1 of 1 completed\n",
      "\n",
      "1 Failed download:\n",
      "- JSWENERGY.NS: 1m data not available for startTime=1665426600 and endTime=1665513000. The requested range must be within the last 30 days.\n",
      "[*********************100%***********************]  1 of 1 completed\n",
      "\n",
      "1 Failed download:\n",
      "- JSWENERGY.NS: 1m data not available for startTime=1665513000 and endTime=1665599400. The requested range must be within the last 30 days.\n",
      "[*********************100%***********************]  1 of 1 completed\n",
      "\n",
      "1 Failed download:\n",
      "- JSWENERGY.NS: 1m data not available for startTime=1665599400 and endTime=1665685800. The requested range must be within the last 30 days.\n",
      "[*********************100%***********************]  1 of 1 completed\n",
      "\n",
      "1 Failed download:\n",
      "- JSWENERGY.NS: 1m data not available for startTime=1665685800 and endTime=1665945000. The requested range must be within the last 30 days.\n",
      "[*********************100%***********************]  1 of 1 completed\n",
      "\n",
      "1 Failed download:\n",
      "- JSWENERGY.NS: 1m data not available for startTime=1665945000 and endTime=1666031400. The requested range must be within the last 30 days.\n",
      "[*********************100%***********************]  1 of 1 completed\n",
      "\n",
      "1 Failed download:\n",
      "- JSWENERGY.NS: 1m data not available for startTime=1666031400 and endTime=1666117800. The requested range must be within the last 30 days.\n",
      "[*********************100%***********************]  1 of 1 completed\n",
      "\n",
      "1 Failed download:\n",
      "- JSWENERGY.NS: 1m data not available for startTime=1666117800 and endTime=1666204200. The requested range must be within the last 30 days.\n",
      "[*********************100%***********************]  1 of 1 completed\n",
      "\n",
      "1 Failed download:\n",
      "- JSWENERGY.NS: 1m data not available for startTime=1666204200 and endTime=1666290600. The requested range must be within the last 30 days.\n"
     ]
    }
   ],
   "source": [
    "Dataset = get_minutewise_analysis_2(\"JSWENERGY.NS\", '2022-09-18', '2022-10-23')"
   ]
  },
  {
   "cell_type": "code",
   "execution_count": 28,
   "id": "3e838097",
   "metadata": {},
   "outputs": [
    {
     "data": {
      "text/html": [
       "<div>\n",
       "<style scoped>\n",
       "    .dataframe tbody tr th:only-of-type {\n",
       "        vertical-align: middle;\n",
       "    }\n",
       "\n",
       "    .dataframe tbody tr th {\n",
       "        vertical-align: top;\n",
       "    }\n",
       "\n",
       "    .dataframe thead th {\n",
       "        text-align: right;\n",
       "    }\n",
       "</style>\n",
       "<table border=\"1\" class=\"dataframe\">\n",
       "  <thead>\n",
       "    <tr style=\"text-align: right;\">\n",
       "      <th></th>\n",
       "      <th>Datetime</th>\n",
       "      <th>Open</th>\n",
       "      <th>High</th>\n",
       "      <th>Low</th>\n",
       "      <th>Close</th>\n",
       "      <th>Volume</th>\n",
       "      <th>Low_Time</th>\n",
       "      <th>High_Time</th>\n",
       "      <th>P035_Time</th>\n",
       "      <th>P035_Type</th>\n",
       "      <th>...</th>\n",
       "      <th>P2_Time</th>\n",
       "      <th>P2_Type</th>\n",
       "      <th>P2_Limit</th>\n",
       "      <th>P2_Limit_Time</th>\n",
       "      <th>P2_Open_Time</th>\n",
       "      <th>P35_Time</th>\n",
       "      <th>P35_Type</th>\n",
       "      <th>P35_Limit</th>\n",
       "      <th>P35_Limit_Time</th>\n",
       "      <th>P35_Open_Time</th>\n",
       "    </tr>\n",
       "  </thead>\n",
       "  <tbody>\n",
       "  </tbody>\n",
       "</table>\n",
       "<p>0 rows × 33 columns</p>\n",
       "</div>"
      ],
      "text/plain": [
       "Empty DataFrame\n",
       "Columns: [Datetime, Open, High, Low, Close, Volume, Low_Time, High_Time, P035_Time, P035_Type, P035_Limit, P035_Limit_Time, P035_Open_Time, P05_Time, P05_Type, P05_Limit, P05_Limit_Time, P05_Open_Time, P1_Time, P1_Type, P1_Limit, P1_Limit_Time, P1_Open_Time, P2_Time, P2_Type, P2_Limit, P2_Limit_Time, P2_Open_Time, P35_Time, P35_Type, P35_Limit, P35_Limit_Time, P35_Open_Time]\n",
       "Index: []\n",
       "\n",
       "[0 rows x 33 columns]"
      ]
     },
     "execution_count": 28,
     "metadata": {},
     "output_type": "execute_result"
    }
   ],
   "source": [
    "Dataset.head(20)"
   ]
  },
  {
   "cell_type": "code",
   "execution_count": 29,
   "id": "005ed0c1",
   "metadata": {},
   "outputs": [
    {
     "name": "stdout",
     "output_type": "stream",
     "text": [
      "[*********************100%***********************]  1 of 1 completed\n",
      "[*********************100%***********************]  1 of 1 completed\n",
      "\n",
      "1 Failed download:\n",
      "- ADANITRANS.NS: 1m data not available for startTime=1664130600 and endTime=1664217000. The requested range must be within the last 30 days.\n",
      "[*********************100%***********************]  1 of 1 completed\n",
      "\n",
      "1 Failed download:\n",
      "- ADANITRANS.NS: 1m data not available for startTime=1664217000 and endTime=1664303400. The requested range must be within the last 30 days.\n",
      "[*********************100%***********************]  1 of 1 completed\n",
      "\n",
      "1 Failed download:\n",
      "- ADANITRANS.NS: 1m data not available for startTime=1664303400 and endTime=1664389800. The requested range must be within the last 30 days.\n",
      "[*********************100%***********************]  1 of 1 completed\n",
      "\n",
      "1 Failed download:\n",
      "- ADANITRANS.NS: 1m data not available for startTime=1664389800 and endTime=1664476200. The requested range must be within the last 30 days.\n",
      "[*********************100%***********************]  1 of 1 completed\n",
      "\n",
      "1 Failed download:\n",
      "- ADANITRANS.NS: 1m data not available for startTime=1664476200 and endTime=1664735400. The requested range must be within the last 30 days.\n",
      "[*********************100%***********************]  1 of 1 completed\n",
      "\n",
      "1 Failed download:\n",
      "- ADANITRANS.NS: 1m data not available for startTime=1664735400 and endTime=1664821800. The requested range must be within the last 30 days.\n",
      "[*********************100%***********************]  1 of 1 completed\n",
      "\n",
      "1 Failed download:\n",
      "- ADANITRANS.NS: 1m data not available for startTime=1664821800 and endTime=1664994600. The requested range must be within the last 30 days.\n",
      "[*********************100%***********************]  1 of 1 completed\n",
      "\n",
      "1 Failed download:\n",
      "- ADANITRANS.NS: 1m data not available for startTime=1664994600 and endTime=1665081000. The requested range must be within the last 30 days.\n",
      "[*********************100%***********************]  1 of 1 completed\n",
      "\n",
      "1 Failed download:\n",
      "- ADANITRANS.NS: 1m data not available for startTime=1665081000 and endTime=1665340200. The requested range must be within the last 30 days.\n",
      "[*********************100%***********************]  1 of 1 completed\n",
      "\n",
      "1 Failed download:\n",
      "- ADANITRANS.NS: 1m data not available for startTime=1665340200 and endTime=1665426600. The requested range must be within the last 30 days.\n",
      "[*********************100%***********************]  1 of 1 completed\n",
      "\n",
      "1 Failed download:\n",
      "- ADANITRANS.NS: 1m data not available for startTime=1665426600 and endTime=1665513000. The requested range must be within the last 30 days.\n",
      "[*********************100%***********************]  1 of 1 completed\n",
      "\n",
      "1 Failed download:\n",
      "- ADANITRANS.NS: 1m data not available for startTime=1665513000 and endTime=1665599400. The requested range must be within the last 30 days.\n",
      "[*********************100%***********************]  1 of 1 completed\n",
      "\n",
      "1 Failed download:\n",
      "- ADANITRANS.NS: 1m data not available for startTime=1665599400 and endTime=1665685800. The requested range must be within the last 30 days.\n",
      "[*********************100%***********************]  1 of 1 completed\n",
      "\n",
      "1 Failed download:\n",
      "- ADANITRANS.NS: 1m data not available for startTime=1665685800 and endTime=1665945000. The requested range must be within the last 30 days.\n",
      "[*********************100%***********************]  1 of 1 completed\n",
      "\n",
      "1 Failed download:\n",
      "- ADANITRANS.NS: 1m data not available for startTime=1665945000 and endTime=1666031400. The requested range must be within the last 30 days.\n",
      "[*********************100%***********************]  1 of 1 completed\n",
      "\n",
      "1 Failed download:\n",
      "- ADANITRANS.NS: 1m data not available for startTime=1666031400 and endTime=1666117800. The requested range must be within the last 30 days.\n",
      "[*********************100%***********************]  1 of 1 completed\n",
      "\n",
      "1 Failed download:\n",
      "- ADANITRANS.NS: 1m data not available for startTime=1666117800 and endTime=1666204200. The requested range must be within the last 30 days.\n",
      "[*********************100%***********************]  1 of 1 completed\n",
      "\n",
      "1 Failed download:\n",
      "- ADANITRANS.NS: 1m data not available for startTime=1666204200 and endTime=1666290600. The requested range must be within the last 30 days.\n",
      "[*********************100%***********************]  1 of 1 completed\n",
      "\n",
      "1 Failed download:\n",
      "- ADANITRANS.NS: 1m data not available for startTime=1666290600 and endTime=1666549800. The requested range must be within the last 30 days.\n",
      "[*********************100%***********************]  1 of 1 completed\n",
      "\n",
      "1 Failed download:\n",
      "- ADANITRANS.NS: 1m data not available for startTime=1666549800 and endTime=1666636200. The requested range must be within the last 30 days.\n",
      "[*********************100%***********************]  1 of 1 completed\n",
      "[*********************100%***********************]  1 of 1 completed\n",
      "\n",
      "1 Failed download:\n",
      "- JSWENERGY.NS: 1m data not available for startTime=1664130600 and endTime=1664217000. The requested range must be within the last 30 days.\n",
      "[*********************100%***********************]  1 of 1 completed\n",
      "\n",
      "1 Failed download:\n",
      "- JSWENERGY.NS: 1m data not available for startTime=1664217000 and endTime=1664303400. The requested range must be within the last 30 days.\n",
      "[*********************100%***********************]  1 of 1 completed\n",
      "\n",
      "1 Failed download:\n",
      "- JSWENERGY.NS: 1m data not available for startTime=1664303400 and endTime=1664389800. The requested range must be within the last 30 days.\n",
      "[*********************100%***********************]  1 of 1 completed\n",
      "\n",
      "1 Failed download:\n",
      "- JSWENERGY.NS: 1m data not available for startTime=1664389800 and endTime=1664476200. The requested range must be within the last 30 days.\n",
      "[*********************100%***********************]  1 of 1 completed\n",
      "\n",
      "1 Failed download:\n",
      "- JSWENERGY.NS: 1m data not available for startTime=1664476200 and endTime=1664735400. The requested range must be within the last 30 days.\n",
      "[*********************100%***********************]  1 of 1 completed\n",
      "\n",
      "1 Failed download:\n",
      "- JSWENERGY.NS: 1m data not available for startTime=1664735400 and endTime=1664821800. The requested range must be within the last 30 days.\n",
      "[*********************100%***********************]  1 of 1 completed\n",
      "\n",
      "1 Failed download:\n",
      "- JSWENERGY.NS: 1m data not available for startTime=1664821800 and endTime=1664994600. The requested range must be within the last 30 days.\n",
      "[*********************100%***********************]  1 of 1 completed\n",
      "\n",
      "1 Failed download:\n",
      "- JSWENERGY.NS: 1m data not available for startTime=1664994600 and endTime=1665081000. The requested range must be within the last 30 days.\n",
      "[*********************100%***********************]  1 of 1 completed\n",
      "\n",
      "1 Failed download:\n",
      "- JSWENERGY.NS: 1m data not available for startTime=1665081000 and endTime=1665340200. The requested range must be within the last 30 days.\n",
      "[*********************100%***********************]  1 of 1 completed\n",
      "\n",
      "1 Failed download:\n",
      "- JSWENERGY.NS: 1m data not available for startTime=1665340200 and endTime=1665426600. The requested range must be within the last 30 days.\n",
      "[*********************100%***********************]  1 of 1 completed\n",
      "\n",
      "1 Failed download:\n",
      "- JSWENERGY.NS: 1m data not available for startTime=1665426600 and endTime=1665513000. The requested range must be within the last 30 days.\n",
      "[*********************100%***********************]  1 of 1 completed\n",
      "\n",
      "1 Failed download:\n",
      "- JSWENERGY.NS: 1m data not available for startTime=1665513000 and endTime=1665599400. The requested range must be within the last 30 days.\n",
      "[*********************100%***********************]  1 of 1 completed\n",
      "\n",
      "1 Failed download:\n",
      "- JSWENERGY.NS: 1m data not available for startTime=1665599400 and endTime=1665685800. The requested range must be within the last 30 days.\n",
      "[*********************100%***********************]  1 of 1 completed\n",
      "\n",
      "1 Failed download:\n",
      "- JSWENERGY.NS: 1m data not available for startTime=1665685800 and endTime=1665945000. The requested range must be within the last 30 days.\n",
      "[*********************100%***********************]  1 of 1 completed\n",
      "\n",
      "1 Failed download:\n",
      "- JSWENERGY.NS: 1m data not available for startTime=1665945000 and endTime=1666031400. The requested range must be within the last 30 days.\n"
     ]
    },
    {
     "name": "stdout",
     "output_type": "stream",
     "text": [
      "[*********************100%***********************]  1 of 1 completed\n",
      "\n",
      "1 Failed download:\n",
      "- JSWENERGY.NS: 1m data not available for startTime=1666031400 and endTime=1666117800. The requested range must be within the last 30 days.\n",
      "[*********************100%***********************]  1 of 1 completed\n",
      "\n",
      "1 Failed download:\n",
      "- JSWENERGY.NS: 1m data not available for startTime=1666117800 and endTime=1666204200. The requested range must be within the last 30 days.\n",
      "[*********************100%***********************]  1 of 1 completed\n",
      "\n",
      "1 Failed download:\n",
      "- JSWENERGY.NS: 1m data not available for startTime=1666204200 and endTime=1666290600. The requested range must be within the last 30 days.\n",
      "[*********************100%***********************]  1 of 1 completed\n",
      "\n",
      "1 Failed download:\n",
      "- JSWENERGY.NS: 1m data not available for startTime=1666290600 and endTime=1666549800. The requested range must be within the last 30 days.\n",
      "[*********************100%***********************]  1 of 1 completed\n",
      "\n",
      "1 Failed download:\n",
      "- JSWENERGY.NS: 1m data not available for startTime=1666549800 and endTime=1666636200. The requested range must be within the last 30 days.\n",
      "[*********************100%***********************]  1 of 1 completed\n",
      "[*********************100%***********************]  1 of 1 completed\n",
      "\n",
      "1 Failed download:\n",
      "- ATGL.NS: 1m data not available for startTime=1664130600 and endTime=1664217000. The requested range must be within the last 30 days.\n",
      "[*********************100%***********************]  1 of 1 completed\n",
      "\n",
      "1 Failed download:\n",
      "- ATGL.NS: 1m data not available for startTime=1664217000 and endTime=1664303400. The requested range must be within the last 30 days.\n",
      "[*********************100%***********************]  1 of 1 completed\n",
      "\n",
      "1 Failed download:\n",
      "- ATGL.NS: 1m data not available for startTime=1664303400 and endTime=1664389800. The requested range must be within the last 30 days.\n",
      "[*********************100%***********************]  1 of 1 completed\n",
      "\n",
      "1 Failed download:\n",
      "- ATGL.NS: 1m data not available for startTime=1664389800 and endTime=1664476200. The requested range must be within the last 30 days.\n",
      "[*********************100%***********************]  1 of 1 completed\n",
      "\n",
      "1 Failed download:\n",
      "- ATGL.NS: 1m data not available for startTime=1664476200 and endTime=1664735400. The requested range must be within the last 30 days.\n",
      "[*********************100%***********************]  1 of 1 completed\n",
      "\n",
      "1 Failed download:\n",
      "- ATGL.NS: 1m data not available for startTime=1664735400 and endTime=1664821800. The requested range must be within the last 30 days.\n",
      "[*********************100%***********************]  1 of 1 completed\n",
      "\n",
      "1 Failed download:\n",
      "- ATGL.NS: 1m data not available for startTime=1664821800 and endTime=1664994600. The requested range must be within the last 30 days.\n",
      "[*********************100%***********************]  1 of 1 completed\n",
      "\n",
      "1 Failed download:\n",
      "- ATGL.NS: 1m data not available for startTime=1664994600 and endTime=1665081000. The requested range must be within the last 30 days.\n",
      "[*********************100%***********************]  1 of 1 completed\n",
      "\n",
      "1 Failed download:\n",
      "- ATGL.NS: 1m data not available for startTime=1665081000 and endTime=1665340200. The requested range must be within the last 30 days.\n",
      "[*********************100%***********************]  1 of 1 completed\n",
      "\n",
      "1 Failed download:\n",
      "- ATGL.NS: 1m data not available for startTime=1665340200 and endTime=1665426600. The requested range must be within the last 30 days.\n",
      "[*********************100%***********************]  1 of 1 completed\n",
      "\n",
      "1 Failed download:\n",
      "- ATGL.NS: 1m data not available for startTime=1665426600 and endTime=1665513000. The requested range must be within the last 30 days.\n",
      "[*********************100%***********************]  1 of 1 completed\n",
      "\n",
      "1 Failed download:\n",
      "- ATGL.NS: 1m data not available for startTime=1665513000 and endTime=1665599400. The requested range must be within the last 30 days.\n",
      "[*********************100%***********************]  1 of 1 completed\n",
      "\n",
      "1 Failed download:\n",
      "- ATGL.NS: 1m data not available for startTime=1665599400 and endTime=1665685800. The requested range must be within the last 30 days.\n",
      "[*********************100%***********************]  1 of 1 completed\n",
      "\n",
      "1 Failed download:\n",
      "- ATGL.NS: 1m data not available for startTime=1665685800 and endTime=1665945000. The requested range must be within the last 30 days.\n",
      "[*********************100%***********************]  1 of 1 completed\n",
      "\n",
      "1 Failed download:\n",
      "- ATGL.NS: 1m data not available for startTime=1665945000 and endTime=1666031400. The requested range must be within the last 30 days.\n",
      "[*********************100%***********************]  1 of 1 completed\n",
      "\n",
      "1 Failed download:\n",
      "- ATGL.NS: 1m data not available for startTime=1666031400 and endTime=1666117800. The requested range must be within the last 30 days.\n",
      "[*********************100%***********************]  1 of 1 completed\n",
      "\n",
      "1 Failed download:\n",
      "- ATGL.NS: 1m data not available for startTime=1666117800 and endTime=1666204200. The requested range must be within the last 30 days.\n",
      "[*********************100%***********************]  1 of 1 completed\n",
      "\n",
      "1 Failed download:\n",
      "- ATGL.NS: 1m data not available for startTime=1666204200 and endTime=1666290600. The requested range must be within the last 30 days.\n",
      "[*********************100%***********************]  1 of 1 completed\n",
      "\n",
      "1 Failed download:\n",
      "- ATGL.NS: 1m data not available for startTime=1666290600 and endTime=1666549800. The requested range must be within the last 30 days.\n",
      "[*********************100%***********************]  1 of 1 completed\n",
      "\n",
      "1 Failed download:\n",
      "- ATGL.NS: 1m data not available for startTime=1666549800 and endTime=1666636200. The requested range must be within the last 30 days.\n",
      "[*********************100%***********************]  1 of 1 completed\n",
      "[*********************100%***********************]  1 of 1 completed\n",
      "\n",
      "1 Failed download:\n",
      "- BOSCHLTD.NS: 1m data not available for startTime=1664130600 and endTime=1664217000. The requested range must be within the last 30 days.\n",
      "[*********************100%***********************]  1 of 1 completed\n",
      "\n",
      "1 Failed download:\n",
      "- BOSCHLTD.NS: 1m data not available for startTime=1664217000 and endTime=1664303400. The requested range must be within the last 30 days.\n",
      "[*********************100%***********************]  1 of 1 completed\n",
      "\n",
      "1 Failed download:\n",
      "- BOSCHLTD.NS: 1m data not available for startTime=1664303400 and endTime=1664389800. The requested range must be within the last 30 days.\n",
      "[*********************100%***********************]  1 of 1 completed\n",
      "\n",
      "1 Failed download:\n",
      "- BOSCHLTD.NS: 1m data not available for startTime=1664389800 and endTime=1664476200. The requested range must be within the last 30 days.\n",
      "[*********************100%***********************]  1 of 1 completed\n",
      "\n",
      "1 Failed download:\n",
      "- BOSCHLTD.NS: 1m data not available for startTime=1664476200 and endTime=1664735400. The requested range must be within the last 30 days.\n",
      "[*********************100%***********************]  1 of 1 completed\n",
      "\n",
      "1 Failed download:\n",
      "- BOSCHLTD.NS: 1m data not available for startTime=1664735400 and endTime=1664821800. The requested range must be within the last 30 days.\n",
      "[*********************100%***********************]  1 of 1 completed\n",
      "\n",
      "1 Failed download:\n",
      "- BOSCHLTD.NS: 1m data not available for startTime=1664821800 and endTime=1664994600. The requested range must be within the last 30 days.\n",
      "[*********************100%***********************]  1 of 1 completed\n",
      "\n",
      "1 Failed download:\n",
      "- BOSCHLTD.NS: 1m data not available for startTime=1664994600 and endTime=1665081000. The requested range must be within the last 30 days.\n",
      "[*********************100%***********************]  1 of 1 completed\n",
      "\n",
      "1 Failed download:\n",
      "- BOSCHLTD.NS: 1m data not available for startTime=1665081000 and endTime=1665340200. The requested range must be within the last 30 days.\n",
      "[*********************100%***********************]  1 of 1 completed\n",
      "\n",
      "1 Failed download:\n",
      "- BOSCHLTD.NS: 1m data not available for startTime=1665340200 and endTime=1665426600. The requested range must be within the last 30 days.\n",
      "[*********************100%***********************]  1 of 1 completed\n",
      "\n",
      "1 Failed download:\n",
      "- BOSCHLTD.NS: 1m data not available for startTime=1665426600 and endTime=1665513000. The requested range must be within the last 30 days.\n"
     ]
    },
    {
     "name": "stdout",
     "output_type": "stream",
     "text": [
      "[*********************100%***********************]  1 of 1 completed\n",
      "\n",
      "1 Failed download:\n",
      "- BOSCHLTD.NS: 1m data not available for startTime=1665513000 and endTime=1665599400. The requested range must be within the last 30 days.\n",
      "[*********************100%***********************]  1 of 1 completed\n",
      "\n",
      "1 Failed download:\n",
      "- BOSCHLTD.NS: 1m data not available for startTime=1665599400 and endTime=1665685800. The requested range must be within the last 30 days.\n",
      "[*********************100%***********************]  1 of 1 completed\n",
      "\n",
      "1 Failed download:\n",
      "- BOSCHLTD.NS: 1m data not available for startTime=1665685800 and endTime=1665945000. The requested range must be within the last 30 days.\n",
      "[*********************100%***********************]  1 of 1 completed\n",
      "\n",
      "1 Failed download:\n",
      "- BOSCHLTD.NS: 1m data not available for startTime=1665945000 and endTime=1666031400. The requested range must be within the last 30 days.\n",
      "[*********************100%***********************]  1 of 1 completed\n",
      "\n",
      "1 Failed download:\n",
      "- BOSCHLTD.NS: 1m data not available for startTime=1666031400 and endTime=1666117800. The requested range must be within the last 30 days.\n",
      "[*********************100%***********************]  1 of 1 completed\n",
      "\n",
      "1 Failed download:\n",
      "- BOSCHLTD.NS: 1m data not available for startTime=1666117800 and endTime=1666204200. The requested range must be within the last 30 days.\n",
      "[*********************100%***********************]  1 of 1 completed\n",
      "\n",
      "1 Failed download:\n",
      "- BOSCHLTD.NS: 1m data not available for startTime=1666204200 and endTime=1666290600. The requested range must be within the last 30 days.\n",
      "[*********************100%***********************]  1 of 1 completed\n",
      "\n",
      "1 Failed download:\n",
      "- BOSCHLTD.NS: 1m data not available for startTime=1666290600 and endTime=1666549800. The requested range must be within the last 30 days.\n",
      "[*********************100%***********************]  1 of 1 completed\n",
      "\n",
      "1 Failed download:\n",
      "- BOSCHLTD.NS: 1m data not available for startTime=1666549800 and endTime=1666636200. The requested range must be within the last 30 days.\n",
      "[*********************100%***********************]  1 of 1 completed\n",
      "[*********************100%***********************]  1 of 1 completed\n",
      "\n",
      "1 Failed download:\n",
      "- ADANIGREEN.NS: 1m data not available for startTime=1664130600 and endTime=1664217000. The requested range must be within the last 30 days.\n",
      "[*********************100%***********************]  1 of 1 completed\n",
      "\n",
      "1 Failed download:\n",
      "- ADANIGREEN.NS: 1m data not available for startTime=1664217000 and endTime=1664303400. The requested range must be within the last 30 days.\n",
      "[*********************100%***********************]  1 of 1 completed\n",
      "\n",
      "1 Failed download:\n",
      "- ADANIGREEN.NS: 1m data not available for startTime=1664303400 and endTime=1664389800. The requested range must be within the last 30 days.\n",
      "[*********************100%***********************]  1 of 1 completed\n",
      "\n",
      "1 Failed download:\n",
      "- ADANIGREEN.NS: 1m data not available for startTime=1664389800 and endTime=1664476200. The requested range must be within the last 30 days.\n",
      "[*********************100%***********************]  1 of 1 completed\n",
      "\n",
      "1 Failed download:\n",
      "- ADANIGREEN.NS: 1m data not available for startTime=1664476200 and endTime=1664735400. The requested range must be within the last 30 days.\n",
      "[*********************100%***********************]  1 of 1 completed\n",
      "\n",
      "1 Failed download:\n",
      "- ADANIGREEN.NS: 1m data not available for startTime=1664735400 and endTime=1664821800. The requested range must be within the last 30 days.\n",
      "[*********************100%***********************]  1 of 1 completed\n",
      "\n",
      "1 Failed download:\n",
      "- ADANIGREEN.NS: 1m data not available for startTime=1664821800 and endTime=1664994600. The requested range must be within the last 30 days.\n",
      "[*********************100%***********************]  1 of 1 completed\n",
      "\n",
      "1 Failed download:\n",
      "- ADANIGREEN.NS: 1m data not available for startTime=1664994600 and endTime=1665081000. The requested range must be within the last 30 days.\n",
      "[*********************100%***********************]  1 of 1 completed\n",
      "\n",
      "1 Failed download:\n",
      "- ADANIGREEN.NS: 1m data not available for startTime=1665081000 and endTime=1665340200. The requested range must be within the last 30 days.\n",
      "[*********************100%***********************]  1 of 1 completed\n",
      "\n",
      "1 Failed download:\n",
      "- ADANIGREEN.NS: 1m data not available for startTime=1665340200 and endTime=1665426600. The requested range must be within the last 30 days.\n",
      "[*********************100%***********************]  1 of 1 completed\n",
      "\n",
      "1 Failed download:\n",
      "- ADANIGREEN.NS: 1m data not available for startTime=1665426600 and endTime=1665513000. The requested range must be within the last 30 days.\n",
      "[*********************100%***********************]  1 of 1 completed\n",
      "\n",
      "1 Failed download:\n",
      "- ADANIGREEN.NS: 1m data not available for startTime=1665513000 and endTime=1665599400. The requested range must be within the last 30 days.\n",
      "[*********************100%***********************]  1 of 1 completed\n",
      "\n",
      "1 Failed download:\n",
      "- ADANIGREEN.NS: 1m data not available for startTime=1665599400 and endTime=1665685800. The requested range must be within the last 30 days.\n",
      "[*********************100%***********************]  1 of 1 completed\n",
      "\n",
      "1 Failed download:\n",
      "- ADANIGREEN.NS: 1m data not available for startTime=1665685800 and endTime=1665945000. The requested range must be within the last 30 days.\n",
      "[*********************100%***********************]  1 of 1 completed\n",
      "\n",
      "1 Failed download:\n",
      "- ADANIGREEN.NS: 1m data not available for startTime=1665945000 and endTime=1666031400. The requested range must be within the last 30 days.\n",
      "[*********************100%***********************]  1 of 1 completed\n",
      "\n",
      "1 Failed download:\n",
      "- ADANIGREEN.NS: 1m data not available for startTime=1666031400 and endTime=1666117800. The requested range must be within the last 30 days.\n",
      "[*********************100%***********************]  1 of 1 completed\n",
      "\n",
      "1 Failed download:\n",
      "- ADANIGREEN.NS: 1m data not available for startTime=1666117800 and endTime=1666204200. The requested range must be within the last 30 days.\n",
      "[*********************100%***********************]  1 of 1 completed\n",
      "\n",
      "1 Failed download:\n",
      "- ADANIGREEN.NS: 1m data not available for startTime=1666204200 and endTime=1666290600. The requested range must be within the last 30 days.\n",
      "[*********************100%***********************]  1 of 1 completed\n",
      "\n",
      "1 Failed download:\n",
      "- ADANIGREEN.NS: 1m data not available for startTime=1666290600 and endTime=1666549800. The requested range must be within the last 30 days.\n",
      "[*********************100%***********************]  1 of 1 completed\n",
      "\n",
      "1 Failed download:\n",
      "- ADANIGREEN.NS: 1m data not available for startTime=1666549800 and endTime=1666636200. The requested range must be within the last 30 days.\n",
      "[*********************100%***********************]  1 of 1 completed\n",
      "[*********************100%***********************]  1 of 1 completed\n",
      "\n",
      "1 Failed download:\n",
      "- ADANIPORTS.NS: 1m data not available for startTime=1664130600 and endTime=1664217000. The requested range must be within the last 30 days.\n",
      "[*********************100%***********************]  1 of 1 completed\n",
      "\n",
      "1 Failed download:\n",
      "- ADANIPORTS.NS: 1m data not available for startTime=1664217000 and endTime=1664303400. The requested range must be within the last 30 days.\n",
      "[*********************100%***********************]  1 of 1 completed\n",
      "\n",
      "1 Failed download:\n",
      "- ADANIPORTS.NS: 1m data not available for startTime=1664303400 and endTime=1664389800. The requested range must be within the last 30 days.\n",
      "[*********************100%***********************]  1 of 1 completed\n",
      "\n",
      "1 Failed download:\n",
      "- ADANIPORTS.NS: 1m data not available for startTime=1664389800 and endTime=1664476200. The requested range must be within the last 30 days.\n",
      "[*********************100%***********************]  1 of 1 completed\n",
      "\n",
      "1 Failed download:\n",
      "- ADANIPORTS.NS: 1m data not available for startTime=1664476200 and endTime=1664735400. The requested range must be within the last 30 days.\n",
      "[*********************100%***********************]  1 of 1 completed\n",
      "\n",
      "1 Failed download:\n",
      "- ADANIPORTS.NS: 1m data not available for startTime=1664735400 and endTime=1664821800. The requested range must be within the last 30 days.\n"
     ]
    },
    {
     "name": "stdout",
     "output_type": "stream",
     "text": [
      "[*********************100%***********************]  1 of 1 completed\n",
      "\n",
      "1 Failed download:\n",
      "- ADANIPORTS.NS: 1m data not available for startTime=1664821800 and endTime=1664994600. The requested range must be within the last 30 days.\n",
      "[*********************100%***********************]  1 of 1 completed\n",
      "\n",
      "1 Failed download:\n",
      "- ADANIPORTS.NS: 1m data not available for startTime=1664994600 and endTime=1665081000. The requested range must be within the last 30 days.\n",
      "[*********************100%***********************]  1 of 1 completed\n",
      "\n",
      "1 Failed download:\n",
      "- ADANIPORTS.NS: 1m data not available for startTime=1665081000 and endTime=1665340200. The requested range must be within the last 30 days.\n",
      "[*********************100%***********************]  1 of 1 completed\n",
      "\n",
      "1 Failed download:\n",
      "- ADANIPORTS.NS: 1m data not available for startTime=1665340200 and endTime=1665426600. The requested range must be within the last 30 days.\n",
      "[*********************100%***********************]  1 of 1 completed\n",
      "\n",
      "1 Failed download:\n",
      "- ADANIPORTS.NS: 1m data not available for startTime=1665426600 and endTime=1665513000. The requested range must be within the last 30 days.\n",
      "[*********************100%***********************]  1 of 1 completed\n",
      "\n",
      "1 Failed download:\n",
      "- ADANIPORTS.NS: 1m data not available for startTime=1665513000 and endTime=1665599400. The requested range must be within the last 30 days.\n",
      "[*********************100%***********************]  1 of 1 completed\n",
      "\n",
      "1 Failed download:\n",
      "- ADANIPORTS.NS: 1m data not available for startTime=1665599400 and endTime=1665685800. The requested range must be within the last 30 days.\n",
      "[*********************100%***********************]  1 of 1 completed\n",
      "\n",
      "1 Failed download:\n",
      "- ADANIPORTS.NS: 1m data not available for startTime=1665685800 and endTime=1665945000. The requested range must be within the last 30 days.\n",
      "[*********************100%***********************]  1 of 1 completed\n",
      "\n",
      "1 Failed download:\n",
      "- ADANIPORTS.NS: 1m data not available for startTime=1665945000 and endTime=1666031400. The requested range must be within the last 30 days.\n",
      "[*********************100%***********************]  1 of 1 completed\n",
      "\n",
      "1 Failed download:\n",
      "- ADANIPORTS.NS: 1m data not available for startTime=1666031400 and endTime=1666117800. The requested range must be within the last 30 days.\n",
      "[*********************100%***********************]  1 of 1 completed\n",
      "\n",
      "1 Failed download:\n",
      "- ADANIPORTS.NS: 1m data not available for startTime=1666117800 and endTime=1666204200. The requested range must be within the last 30 days.\n",
      "[*********************100%***********************]  1 of 1 completed\n",
      "\n",
      "1 Failed download:\n",
      "- ADANIPORTS.NS: 1m data not available for startTime=1666204200 and endTime=1666290600. The requested range must be within the last 30 days.\n",
      "[*********************100%***********************]  1 of 1 completed\n",
      "\n",
      "1 Failed download:\n",
      "- ADANIPORTS.NS: 1m data not available for startTime=1666290600 and endTime=1666549800. The requested range must be within the last 30 days.\n",
      "[*********************100%***********************]  1 of 1 completed\n",
      "\n",
      "1 Failed download:\n",
      "- ADANIPORTS.NS: 1m data not available for startTime=1666549800 and endTime=1666636200. The requested range must be within the last 30 days.\n",
      "[*********************100%***********************]  1 of 1 completed\n",
      "[*********************100%***********************]  1 of 1 completed\n",
      "\n",
      "1 Failed download:\n",
      "- APOLLOTYRE.NS: 1m data not available for startTime=1664130600 and endTime=1664217000. The requested range must be within the last 30 days.\n",
      "[*********************100%***********************]  1 of 1 completed\n",
      "\n",
      "1 Failed download:\n",
      "- APOLLOTYRE.NS: 1m data not available for startTime=1664217000 and endTime=1664303400. The requested range must be within the last 30 days.\n",
      "[*********************100%***********************]  1 of 1 completed\n",
      "\n",
      "1 Failed download:\n",
      "- APOLLOTYRE.NS: 1m data not available for startTime=1664303400 and endTime=1664389800. The requested range must be within the last 30 days.\n",
      "[*********************100%***********************]  1 of 1 completed\n",
      "\n",
      "1 Failed download:\n",
      "- APOLLOTYRE.NS: 1m data not available for startTime=1664389800 and endTime=1664476200. The requested range must be within the last 30 days.\n",
      "[*********************100%***********************]  1 of 1 completed\n",
      "\n",
      "1 Failed download:\n",
      "- APOLLOTYRE.NS: 1m data not available for startTime=1664476200 and endTime=1664735400. The requested range must be within the last 30 days.\n",
      "[*********************100%***********************]  1 of 1 completed\n",
      "\n",
      "1 Failed download:\n",
      "- APOLLOTYRE.NS: 1m data not available for startTime=1664735400 and endTime=1664821800. The requested range must be within the last 30 days.\n",
      "[*********************100%***********************]  1 of 1 completed\n",
      "\n",
      "1 Failed download:\n",
      "- APOLLOTYRE.NS: 1m data not available for startTime=1664821800 and endTime=1664994600. The requested range must be within the last 30 days.\n",
      "[*********************100%***********************]  1 of 1 completed\n",
      "\n",
      "1 Failed download:\n",
      "- APOLLOTYRE.NS: 1m data not available for startTime=1664994600 and endTime=1665081000. The requested range must be within the last 30 days.\n",
      "[*********************100%***********************]  1 of 1 completed\n",
      "\n",
      "1 Failed download:\n",
      "- APOLLOTYRE.NS: 1m data not available for startTime=1665081000 and endTime=1665340200. The requested range must be within the last 30 days.\n",
      "[*********************100%***********************]  1 of 1 completed\n",
      "\n",
      "1 Failed download:\n",
      "- APOLLOTYRE.NS: 1m data not available for startTime=1665340200 and endTime=1665426600. The requested range must be within the last 30 days.\n",
      "[*********************100%***********************]  1 of 1 completed\n",
      "\n",
      "1 Failed download:\n",
      "- APOLLOTYRE.NS: 1m data not available for startTime=1665426600 and endTime=1665513000. The requested range must be within the last 30 days.\n",
      "[*********************100%***********************]  1 of 1 completed\n",
      "\n",
      "1 Failed download:\n",
      "- APOLLOTYRE.NS: 1m data not available for startTime=1665513000 and endTime=1665599400. The requested range must be within the last 30 days.\n",
      "[*********************100%***********************]  1 of 1 completed\n",
      "\n",
      "1 Failed download:\n",
      "- APOLLOTYRE.NS: 1m data not available for startTime=1665599400 and endTime=1665685800. The requested range must be within the last 30 days.\n",
      "[*********************100%***********************]  1 of 1 completed\n",
      "\n",
      "1 Failed download:\n",
      "- APOLLOTYRE.NS: 1m data not available for startTime=1665685800 and endTime=1665945000. The requested range must be within the last 30 days.\n",
      "[*********************100%***********************]  1 of 1 completed\n",
      "\n",
      "1 Failed download:\n",
      "- APOLLOTYRE.NS: 1m data not available for startTime=1665945000 and endTime=1666031400. The requested range must be within the last 30 days.\n",
      "[*********************100%***********************]  1 of 1 completed\n",
      "\n",
      "1 Failed download:\n",
      "- APOLLOTYRE.NS: 1m data not available for startTime=1666031400 and endTime=1666117800. The requested range must be within the last 30 days.\n",
      "[*********************100%***********************]  1 of 1 completed\n",
      "\n",
      "1 Failed download:\n",
      "- APOLLOTYRE.NS: 1m data not available for startTime=1666117800 and endTime=1666204200. The requested range must be within the last 30 days.\n",
      "[*********************100%***********************]  1 of 1 completed\n",
      "\n",
      "1 Failed download:\n",
      "- APOLLOTYRE.NS: 1m data not available for startTime=1666204200 and endTime=1666290600. The requested range must be within the last 30 days.\n",
      "[*********************100%***********************]  1 of 1 completed\n",
      "\n",
      "1 Failed download:\n",
      "- APOLLOTYRE.NS: 1m data not available for startTime=1666290600 and endTime=1666549800. The requested range must be within the last 30 days.\n",
      "[*********************100%***********************]  1 of 1 completed\n",
      "\n",
      "1 Failed download:\n",
      "- APOLLOTYRE.NS: 1m data not available for startTime=1666549800 and endTime=1666636200. The requested range must be within the last 30 days.\n"
     ]
    }
   ],
   "source": [
    "Stock_1 = get_minutewise_analysis_2(arranged.Stock[0], '2022-09-25', '2022-10-26')\n",
    "Stock_2 = get_minutewise_analysis_2(arranged.Stock[1], '2022-09-25', '2022-10-26')\n",
    "Stock_3 = get_minutewise_analysis_2(arranged.Stock[2], '2022-09-25', '2022-10-26')\n",
    "Stock_4 = get_minutewise_analysis_2(arranged.Stock[3], '2022-09-25', '2022-10-26')\n",
    "Stock_5 = get_minutewise_analysis_2(arranged.Stock[4], '2022-09-25', '2022-10-26')\n",
    "Stock_6 = get_minutewise_analysis_2(arranged.Stock[5], '2022-09-25', '2022-10-26')\n",
    "Stock_7 = get_minutewise_analysis_2(arranged.Stock[6], '2022-09-25', '2022-10-26')"
   ]
  },
  {
   "cell_type": "code",
   "execution_count": 31,
   "id": "59706783",
   "metadata": {},
   "outputs": [],
   "source": [
    "Stock_1.to_csv(f'1_{arranged.Stock[0]}.csv')\n",
    "Stock_2.to_csv(f'2_{arranged.Stock[1]}.csv')\n",
    "Stock_3.to_csv(f'3_{arranged.Stock[2]}.csv')\n",
    "Stock_4.to_csv(f'4_{arranged.Stock[3]}.csv')\n",
    "Stock_5.to_csv(f'5_{arranged.Stock[4]}.csv')\n",
    "Stock_6.to_csv(f'6_{arranged.Stock[5]}.csv')\n",
    "Stock_7.to_csv(f'7_{arranged.Stock[6]}.csv')"
   ]
  },
  {
   "cell_type": "code",
   "execution_count": null,
   "id": "018131ce",
   "metadata": {},
   "outputs": [],
   "source": []
  }
 ],
 "metadata": {
  "kernelspec": {
   "display_name": "Python 3 (ipykernel)",
   "language": "python",
   "name": "python3"
  },
  "language_info": {
   "codemirror_mode": {
    "name": "ipython",
    "version": 3
   },
   "file_extension": ".py",
   "mimetype": "text/x-python",
   "name": "python",
   "nbconvert_exporter": "python",
   "pygments_lexer": "ipython3",
   "version": "3.9.12"
  },
  "vscode": {
   "interpreter": {
    "hash": "916dbcbb3f70747c44a77c7bcd40155683ae19c65e1c03b4aa3499c5328201f1"
   }
  }
 },
 "nbformat": 4,
 "nbformat_minor": 5
}
